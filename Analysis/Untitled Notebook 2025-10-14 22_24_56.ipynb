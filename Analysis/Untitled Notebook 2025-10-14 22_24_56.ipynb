{
 "cells": [
  {
   "cell_type": "code",
   "execution_count": 0,
   "metadata": {
    "application/vnd.databricks.v1+cell": {
     "cellMetadata": {
      "byteLimit": 2048000,
      "rowLimit": 10000
     },
     "inputWidgets": {},
     "nuid": "c2001e1b-8058-4e95-9817-0937f934771e",
     "showTitle": false,
     "tableResultSettingsMap": {},
     "title": ""
    }
   },
   "outputs": [],
   "source": [
    "import pandas as pd\n",
    "import numpy as np\n",
    "\n",
    "# Passo 1: Carregar os teus dados de estatísticas agregadas\n",
    "# Numa situação real, irias carregar o teu ficheiro CSV completo aqui.\n",
    "# Ex: estatisticas_df = pd.read_csv('teu_ficheiro_de_estatisticas.csv')\n",
    "\n",
    "estatisticas_raw_data = {\n",
    "    'ano': [2024, 2024], 'mes': [1, 1], 'pag_idade': ['até 19 anos', 'até 19 anos'],\n",
    "    'rec_idade': ['até 19 anos', 'entre 20 e 29 anos'], 'pag_id_regiao': [3, 3], 'rec_id_regiao': [3, 3],\n",
    "    'total_valor': [677398447.24, 362783705.28], 'total_quantidade': [7897478, 6027016],\n",
    "    'ticket_medio': [85.77, 60.19], 'ticket_minimo': [33.141701377, 15.9],\n",
    "    'ticket_maximo': [224.936940104, 69.935618642], 'ticket_medio_aritmetico': [92.773484262, 42.96525269],\n",
    "    'ticket_mediana': [78.452675855, 20.268407423], 'ticket_p25': [51.069360538, 17.961196698],\n",
    "    'ticket_p75': [88.637153386, 67.114241762], 'ticket_iiq': [37.567792847, 49.153045064],\n",
    "    'ticket_desvio_padrao': [62.098824941, 24.975397616]\n",
    "}\n",
    "estatisticas_df = pd.DataFrame(estatisticas_raw_data)\n",
    "\n",
    "# Passo 2: Definir um fator de escala para controlar o tamanho da amostra\n",
    "# 0.001 significa que vamos gerar 0.1% do total de transações.\n",
    "fator_escala = 0.001 \n",
    "\n",
    "# Lista para armazenar os DataFrames de transações geradas para cada grupo\n",
    "lista_de_dfs_sinteticos = []\n",
    "\n",
    "print(\"Iniciando a geração de dados sintéticos com NumPy...\")\n",
    "\n",
    "# Passo 3: Iterar por cada linha (grupo) da tabela de estatísticas\n",
    "for index, stats_row in estatisticas_df.iterrows():\n",
    "    \n",
    "    # Calcular quantas transações gerar para este grupo\n",
    "    total_original = stats_row['total_quantidade']\n",
    "    num_a_gerar = int(total_original * fator_escala)\n",
    "\n",
    "    if num_a_gerar == 0:\n",
    "        continue\n",
    "\n",
    "    print(f\"Gerando {num_a_gerar} transações para o grupo {index}...\")\n",
    "\n",
    "    # Criar um DataFrame base com as colunas de categoria repetidas\n",
    "    grupo_sintetico = pd.DataFrame({\n",
    "        'ano': [stats_row['ano']] * num_a_gerar,\n",
    "        'mes': [stats_row['mes']] * num_a_gerar,\n",
    "        'pag_idade': [stats_row['pag_idade']] * num_a_gerar,\n",
    "        'rec_idade': [stats_row['rec_idade']] * num_a_gerar,\n",
    "        'pag_id_regiao': [stats_row['pag_id_regiao']] * num_a_gerar,\n",
    "        'rec_id_regiao': [stats_row['rec_id_regiao']] * num_a_gerar,\n",
    "    })\n",
    "\n",
    "    # O coração do método: Gerar os valores das transações usando interpolação de quantis\n",
    "    quantis = [0, 0.25, 0.5, 0.75, 1.0]\n",
    "    valores_nos_quantis = [\n",
    "        stats_row['ticket_minimo'],\n",
    "        stats_row['ticket_p25'],\n",
    "        stats_row['ticket_mediana'],\n",
    "        stats_row['ticket_p75'],\n",
    "        stats_row['ticket_maximo']\n",
    "    ]\n",
    "    \n",
    "    random_quantiles = np.random.rand(num_a_gerar)\n",
    "    valores_transacoes = np.interp(random_quantiles, quantis, valores_nos_quantis)\n",
    "    \n",
    "    grupo_sintetico['valor_transacao'] = valores_transacoes\n",
    "    \n",
    "    lista_de_dfs_sinteticos.append(grupo_sintetico)\n",
    "\n",
    "# Passo 4: Combinar todos os DataFrames gerados num só\n",
    "transacoes_individuais = pd.concat(lista_de_dfs_sinteticos, ignore_index=True)\n",
    "\n",
    "print(\"\\n--- Amostra das Transações Individuais Geradas ---\")\n",
    "print(transacoes_individuais.head())\n",
    "print(f\"\\nTotal de {len(transacoes_individuais)} transações sintéticas geradas.\")\n",
    "\n",
    "# Passo 5 (Opcional, mas recomendado): Verificação das estatísticas\n",
    "print(\"\\n--- Verificando se as estatísticas geradas correspondem às originais ---\")\n",
    "colunas_grupo = ['ano', 'mes', 'pag_idade', 'rec_idade', 'pag_id_regiao', 'rec_id_regiao']\n",
    "verificacao = transacoes_individuais.groupby(colunas_grupo)['valor_transacao'].agg(\n",
    "    ['count', 'min', lambda x: x.quantile(0.25), 'median', lambda x: x.quantile(0.75), 'max', 'mean', 'std']\n",
    ").reset_index()\n",
    "print(verificacao.round(2))\n",
    "\n",
    "\n",
    "# Passo 6: Salvar o resultado final num ficheiro CSV\n",
    "\n",
    "print(\"\\nFicheiro 'transacoes_individuais_numpy.csv' guardado com sucesso!\")"
   ]
  },
  {
   "cell_type": "code",
   "execution_count": 0,
   "metadata": {
    "application/vnd.databricks.v1+cell": {
     "cellMetadata": {
      "byteLimit": 2048000,
      "rowLimit": 10000
     },
     "inputWidgets": {},
     "nuid": "3582919d-c779-45c2-b277-c82c9396db98",
     "showTitle": false,
     "tableResultSettingsMap": {},
     "title": ""
    }
   },
   "outputs": [],
   "source": [
    "display(transacoes_individuais)"
   ]
  }
 ],
 "metadata": {
  "application/vnd.databricks.v1+notebook": {
   "computePreferences": null,
   "dashboards": [],
   "environmentMetadata": {
    "base_environment": "",
    "environment_version": "4"
   },
   "inputWidgetPreferences": null,
   "language": "python",
   "notebookMetadata": {
    "pythonIndentUnit": 4
   },
   "notebookName": "Untitled Notebook 2025-10-14 22_24_56",
   "widgets": {}
  },
  "language_info": {
   "name": "python"
  }
 },
 "nbformat": 4,
 "nbformat_minor": 0
}
