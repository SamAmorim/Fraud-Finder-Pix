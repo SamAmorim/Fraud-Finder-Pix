{
 "cells": [
  {
   "cell_type": "markdown",
   "metadata": {
    "application/vnd.databricks.v1+cell": {
     "cellMetadata": {
      "byteLimit": 2048000,
      "rowLimit": 10000
     },
     "inputWidgets": {},
     "nuid": "55114418-ae77-4711-bc51-08b7719c1bd8",
     "showTitle": false,
     "tableResultSettingsMap": {},
     "title": ""
    }
   },
   "source": [
    "# 📊 Dicionário de Dados – Estatísticas do PIX (v1)\n",
    "\n",
    "## 1️⃣ Estoque de Chaves Pix por Participante\n",
    "Estoque de chaves no último dia do mês, por PSP, segregadas por PF/PJ e tipo de chave.\n",
    "\n",
    "| Nome | Tipo | Título | Descrição |\n",
    "|------|------|-------|-----------|\n",
    "| Data | texto | Data | Data de referência do estoque de chaves |\n",
    "| ISPB | texto | ISPB | Código do Participante Pix |\n",
    "| Nome | texto | Nome do PSP | Nome do Participante Pix |\n",
    "| NaturezaUsuario | texto | Natureza do Usuário | Pessoa Física (PF) ou Jurídica (PJ) |\n",
    "| TipoChave | texto | Tipo de Chave | CPF, CNPJ, Celular, e-Mail ou Chave Aleatória |\n",
    "| qtdChaves | inteiro | Quantidade de Chaves | Estoque de chaves Pix ativas no último dia do mês |\n",
    "\n",
    "---\n",
    "\n",
    "## 2️⃣ Transações Pix por Município\n",
    "Transações liquidadas por município, PF/PJ, considerando pagador e recebedor.\n",
    "\n",
    "| Nome | Tipo | Título | Descrição |\n",
    "|------|------|-------|-----------|\n",
    "| AnoMes | inteiro | Data-base | Data-base no formato AAAAMM |\n",
    "| Municipio_Ibge | inteiro | Código Município | Código IBGE do município |\n",
    "| Municipio | texto | Município | Nome do município |\n",
    "| Estado_Ibge | inteiro | Código Estado | Código IBGE do estado |\n",
    "| Estado | texto | Estado | Nome do Estado |\n",
    "| Sigla_Regiao | texto | Sigla Região | Sigla da região |\n",
    "| Regiao | texto | Região | Região do país (Norte, Nordeste, Sul, Sudeste, Centro-Oeste) |\n",
    "| VL_PagadorPF | decimal | Valor Pagador PF | Volume financeiro em R$ das transações cujo Pagador é PF |\n",
    "| QT_PagadorPF | decimal | Qtde Transações Pagador PF | Quantidade de transações cujo Pagador é PF |\n",
    "| VL_PagadorPJ | decimal | Valor Pagador PJ | Volume financeiro em R$ das transações cujo Pagador é PJ |\n",
    "| QT_PagadorPJ | decimal | Qtde Transações Pagador PJ | Quantidade de transações cujo Pagador é PJ |\n",
    "| VL_RecebedorPF | decimal | Valor Recebedor PF | Volume financeiro em R$ das transações cujo Recebedor é PF |\n",
    "| QT_RecebedorPF | decimal | Qtde Transações Recebedor PF | Quantidade de transações cujo Recebedor é PF |\n",
    "| VL_RecebedorPJ | decimal | Valor Recebedor PJ | Volume financeiro em R$ das transações cujo Recebedor é PJ |\n",
    "| QT_RecebedorPJ | decimal | Qtde Transações Recebedor PJ | Quantidade de transações cujo Recebedor é PJ |\n",
    "| QT_PES_PagadorPF | decimal | Qtde Pagador PF | Quantidade de pagadores pessoas físicas |\n",
    "| QT_PES_PagadorPJ | decimal | Qtde Pagador PJ | Quantidade de pagadores pessoas jurídicas |\n",
    "| QT_PES_RecebedorPF | decimal | Qtde Recebedor PF | Quantidade de recebedores pessoas físicas |\n",
    "| QT_PES_RecebedorPJ | decimal | Qtde Recebedor PJ | Quantidade de recebedores pessoas jurídicas |\n",
    "\n",
    "---\n",
    "\n",
    "## 3️⃣ Estatísticas de Transações Pix\n",
    "Volume e quantidade de transações Pix liquidadas mensalmente.\n",
    "\n",
    "| Nome | Tipo | Título | Descrição |\n",
    "|------|------|-------|-----------|\n",
    "| AnoMes | inteiro | Data-base | Data-base ano/mês |\n",
    "| PAG_PFPJ | texto | Tipo de Pessoa do Pagador | PF = Pessoa Física, PJ = Pessoa Jurídica |\n",
    "| REC_PFPJ | texto | Tipo de Pessoa do Recebedor | PF = Pessoa Física, PJ = Pessoa Jurídica |\n",
    "| PAG_REGIAO | texto | Região do Pagador | Região do domicílio do usuário pagador |\n",
    "| REC_REGIAO | texto | Região do Recebedor | Região do domicílio do usuário recebedor |\n",
    "| PAG_IDADE | texto | Idade do Pagador | Idade em anos do usuário pagador |\n",
    "| REC_IDADE | texto | Idade do Recebedor | Idade em anos do usuário recebedor |\n",
    "| FORMAINICIACAO | texto | Forma de iniciação | INIC, QRES, QRDN, MANU ou DICT |\n",
    "| NATUREZA | texto | Natureza da transação | P2P, B2B, P2B, B2P, P2G, B2G |\n",
    "| FINALIDADE | texto | Finalidade da Transação | Transferência, saque ou troco |\n",
    "| VALOR | decimal | Valor Transações Pix | Volume financeiro de transações Pix liquidadas |\n",
    "| QUANTIDADE | decimal | Quantidade Total Transações Pix | Quantidade de transações Pix liquidadas |\n",
    "\n",
    "\n",
    "## 4️⃣ Glossário de Siglas e Termos do PIX (Destacando Palavras-chave)\n",
    "\n",
    "| Sigla / Termo | Explicação Simples |\n",
    "|---------------|------------------|\n",
    "| **PIX** | Sistema de **pagamentos instantâneos** do Brasil, usado para transferir dinheiro rapidamente entre **pessoas** ou **empresas**. |\n",
    "| **PSP** | **Prestador de Serviços de Pagamento**: bancos e fintechs que participam do sistema PIX. |\n",
    "| **PF** | **Pessoa Física** — qualquer **indivíduo** que usa PIX para transferências ou pagamentos. |\n",
    "| **PJ** | **Pessoa Jurídica** — **empresa** ou **organização** que usa PIX. |\n",
    "| **ISPB** | **Código único** que identifica cada **banco** ou **instituição participante** do PIX. |\n",
    "| **Chave Pix** | Identificador usado para **receber dinheiro** pelo PIX. Pode ser **CPF**, **CNPJ**, **celular**, **e-mail** ou uma **chave aleatória**. |\n",
    "| **OData** | **Protocolo** que permite consultar **dados** de forma organizada, usando **filtros**, **ordenação** e **paginação**. |\n",
    "| **Data-base / Data** | **Mês e ano** que servem como referência para os **dados** ou **estatísticas**. |\n",
    "| **AnoMes** | Combinação de **ano** e **mês** no formato **AAAAMM**. Ex: 202309 = setembro de 2023. |\n",
    "| **VL_PagadorPF** | **Valor total** de dinheiro enviado por **pessoas físicas**. |\n",
    "| **QT_PagadorPF** | **Quantidade de transações** realizadas por **pessoas físicas**. |\n",
    "| **VL_PagadorPJ** | **Valor total** de dinheiro enviado por **pessoas jurídicas**. |\n",
    "| **QT_PagadorPJ** | **Quantidade de transações** realizadas por **pessoas jurídicas**. |\n",
    "| **VL_RecebedorPF** | **Valor total recebido** por **pessoas físicas**. |\n",
    "| **QT_RecebedorPF** | **Quantidade de transações recebidas** por **pessoas físicas**. |\n",
    "| **VL_RecebedorPJ** | **Valor total recebido** por **pessoas jurídicas**. |\n",
    "| **QT_RecebedorPJ** | **Quantidade de transações recebidas** por **pessoas jurídicas**. |\n",
    "| **QT_PES_PagadorPF** | **Quantidade de pagadores únicos** que são **pessoas físicas**. |\n",
    "| **QT_PES_PagadorPJ** | **Quantidade de pagadores únicos** que são **pessoas jurídicas**. |\n",
    "| **QT_PES_RecebedorPF** | **Quantidade de recebedores únicos** que são **pessoas físicas**. |\n",
    "| **QT_PES_RecebedorPJ** | **Quantidade de recebedores únicos** que são **pessoas jurídicas**. |\n",
    "| **NATUREZA** | **Tipo de transação**: <br>• **P2P** – Pessoa para Pessoa <br>• **B2B** – Empresa para Empresa <br>• **P2B** – Pessoa para Empresa <br>• **B2P** – Empresa para Pessoa <br>• **P2G** – Pessoa para Governo <br>• **B2G** – Empresa para Governo |\n",
    "| **FINALIDADE** | **Motivo da transação**: **transferência**, **saque** ou **troco**. |\n",
    "| **FORMAINICIACAO** | **Como a transação começou**: <br>• **INIC** – iniciador com dados do recebedor <br>• **QRES** – QR Code estático <br>• **QRDN** – QR Code dinâmico <br>• **MANU** – inserção manual <br>• **DICT** – uso de chave Pix |\n",
    "| **PAG_PFPJ** | Tipo de **pessoa do pagador**: **PF** ou **PJ**. |\n",
    "| **REC_PFPJ** | Tipo de **pessoa do recebedor**: **PF** ou **PJ**. |\n",
    "| **PAG_REGIAO** | **Região do Brasil** do domicílio do pagador. |\n",
    "| **REC_REGIAO** | **Região do Brasil** do domicílio do recebedor. |\n",
    "| **Regiao / Sigla_Regiao** | **Região geográfica** do país: **Norte**, **Nordeste**, **Sul**, **Sudeste** ou **Centro-Oeste**. |\n",
    "| **Municipio_Ibge** | **Código do município** segundo o IBGE. |\n",
    "| **Estado_Ibge** | **Código do estado** segundo o IBGE. |\n",
    "| **Municipio / Estado** | Nome do **município** ou **estado** onde a transação ocorreu. |\n",
    "| **TipoChave** | Tipo de **chave Pix**: **CPF**, **CNPJ**, **Celular**, **e-Mail** ou **Chave Aleatória**. |\n",
    "| **qtdChaves** | **Quantidade de chaves** ativas para um PSP em determinado mês. |\n",
    "| **$format / $select / $filter / $orderby / $skip / $top** | **Parâmetros do OData**: escolher **formato**, selecionar **colunas**, **filtrar**, **ordenar**, **pular registros** ou **limitar quantidade retornada**. |\n",
    "\n"
   ]
  },
  {
   "cell_type": "code",
   "execution_count": 0,
   "metadata": {
    "application/vnd.databricks.v1+cell": {
     "cellMetadata": {
      "byteLimit": 2048000,
      "implicitDf": true,
      "rowLimit": 10000
     },
     "inputWidgets": {},
     "nuid": "7804ceca-b6d5-4e5d-978c-82761cc9735a",
     "showTitle": false,
     "tableResultSettingsMap": {},
     "title": ""
    }
   },
   "outputs": [],
   "source": [
    "%sql\n",
    "select * from estatisticas_pix.gold.transacoes_municipio_pix limit 5"
   ]
  },
  {
   "cell_type": "code",
   "execution_count": 0,
   "metadata": {
    "application/vnd.databricks.v1+cell": {
     "cellMetadata": {
      "byteLimit": 2048000,
      "implicitDf": true,
      "rowLimit": 10000
     },
     "inputWidgets": {},
     "nuid": "be20f912-814b-43bf-b3a5-927191b4965c",
     "showTitle": false,
     "tableResultSettingsMap": {
      "0": {
       "dataGridStateBlob": "{\"version\":1,\"tableState\":{\"columnPinning\":{\"left\":[\"#row_number#\"],\"right\":[]},\"columnSizing\":{},\"columnVisibility\":{}},\"settings\":{\"columns\":{}},\"syncTimestamp\":1758148863294}",
       "filterBlob": null,
       "queryPlanFiltersBlob": null,
       "tableResultIndex": 0
      }
     },
     "title": ""
    }
   },
   "outputs": [],
   "source": [
    "%sql\n",
    "CREATE OR REPLACE TABLE transacoes_db.pix_baseline_metricas.medidas_valores_por_transacao AS\n",
    "SELECT\n",
    "  ano,\n",
    "  mes,\n",
    "  Estado_Ibge,\n",
    "  Estado,\n",
    "  Municipio_Ibge,\n",
    "  Municipio,\n",
    "  -- Ticket médio por perfil\n",
    "  (VL_PagadorPF / NULLIF(QT_PagadorPF, 0)) AS vl_medio_tx_pagador_pf,\n",
    "  (VL_PagadorPJ / NULLIF(QT_PagadorPJ, 0)) AS vl_medio_tx_pagador_pj,\n",
    "  (VL_RecebedorPF / NULLIF(QT_RecebedorPF, 0)) AS vl_medio_tx_recebedor_pf,\n",
    "  (VL_RecebedorPJ / NULLIF(QT_RecebedorPJ, 0)) AS vl_medio_tx_recebedor_pj,\n",
    "  -- Distribuição de usuários (pagadores/recebedores distintos)\n",
    "  (QT_PagadorPF / NULLIF(QT_PES_PagadorPF, 0)) AS tx_media_por_pf,\n",
    "  (QT_PagadorPJ / NULLIF(QT_PES_PagadorPJ, 0)) AS tx_media_por_pj,\n",
    "  (QT_RecebedorPF / NULLIF(QT_PES_RecebedorPF, 0)) AS tx_media_por_recebedor_pf,\n",
    "  (QT_RecebedorPJ / NULLIF(QT_PES_RecebedorPJ, 0)) AS tx_media_por_recebedor_pj\n",
    "FROM estatisticas_pix.gold.transacoes_municipio_pix\n"
   ]
  },
  {
   "cell_type": "code",
   "execution_count": 0,
   "metadata": {
    "application/vnd.databricks.v1+cell": {
     "cellMetadata": {
      "byteLimit": 2048000,
      "implicitDf": true,
      "rowLimit": 10000
     },
     "inputWidgets": {},
     "nuid": "2714bafe-1825-45ee-a218-c910a18fa5e5",
     "showTitle": false,
     "tableResultSettingsMap": {
      "0": {
       "dataGridStateBlob": "{\"version\":1,\"tableState\":{\"columnPinning\":{\"left\":[\"#row_number#\"],\"right\":[]},\"columnSizing\":{},\"columnVisibility\":{}},\"settings\":{\"columns\":{}},\"syncTimestamp\":1758149827706}",
       "filterBlob": null,
       "queryPlanFiltersBlob": null,
       "tableResultIndex": 0
      }
     },
     "title": ""
    }
   },
   "outputs": [],
   "source": [
    "%sql\n",
    "select * from transacoes_db.pix_baseline_metricas.medidas_valores_por_transacao limit 5"
   ]
  },
  {
   "cell_type": "code",
   "execution_count": 0,
   "metadata": {
    "application/vnd.databricks.v1+cell": {
     "cellMetadata": {
      "byteLimit": 2048000,
      "implicitDf": true,
      "rowLimit": 10000
     },
     "inputWidgets": {},
     "nuid": "754a6b3e-f47d-4015-be8b-0a712dec81a1",
     "showTitle": false,
     "tableResultSettingsMap": {},
     "title": ""
    }
   },
   "outputs": [],
   "source": [
    "%sql\n",
    "CREATE OR REPLACE TABLE transacoes_db.pix_baseline_metricas.medianas_dispersao_por_transacao AS\n",
    "SELECT\n",
    "   Estado_Ibge,\n",
    "  Estado,\n",
    "  Municipio_Ibge,\n",
    "  Municipio,\n",
    "  PERCENTILE_APPROX(VL_PagadorPF / NULLIF(QT_PagadorPF,0), 0.5) AS mediana_tx_pagador_pf,\n",
    "  PERCENTILE_APPROX(VL_PagadorPF / NULLIF(QT_PagadorPF,0), 0.25) AS p25_tx_pagador_pf,\n",
    "  PERCENTILE_APPROX(VL_PagadorPF / NULLIF(QT_PagadorPF,0), 0.75) AS p75_tx_pagador_pf,\n",
    "  PERCENTILE_APPROX(VL_PagadorPJ / NULLIF(QT_PagadorPJ,0), 0.5) AS mediana_tx_pagador_pj,\n",
    "  PERCENTILE_APPROX(VL_RecebedorPF / NULLIF(QT_RecebedorPF,0), 0.5) AS mediana_tx_recebedor_pf,\n",
    "  PERCENTILE_APPROX(VL_RecebedorPJ / NULLIF(QT_RecebedorPJ,0), 0.5) AS mediana_tx_recebedor_pj\n",
    "FROM estatisticas_pix.gold.transacoes_municipio_pix\n",
    "GROUP BY  Estado_Ibge,\n",
    "  Estado,\n",
    "  Municipio_Ibge,\n",
    "  Municipio\n"
   ]
  },
  {
   "cell_type": "code",
   "execution_count": 0,
   "metadata": {
    "application/vnd.databricks.v1+cell": {
     "cellMetadata": {
      "byteLimit": 2048000,
      "implicitDf": true,
      "rowLimit": 10000
     },
     "inputWidgets": {},
     "nuid": "b4632bb3-f4b4-4cf0-8f28-8093204fe866",
     "showTitle": false,
     "tableResultSettingsMap": {
      "0": {
       "dataGridStateBlob": "{\"version\":1,\"tableState\":{\"columnPinning\":{\"left\":[\"#row_number#\"],\"right\":[]},\"columnSizing\":{},\"columnVisibility\":{}},\"settings\":{\"columns\":{}},\"syncTimestamp\":1758149905072}",
       "filterBlob": null,
       "queryPlanFiltersBlob": null,
       "tableResultIndex": 0
      }
     },
     "title": ""
    }
   },
   "outputs": [],
   "source": [
    "%sql\n",
    "select * from transacoes_db.pix_baseline_metricas.medianas_dispersao_por_transacao limit 5"
   ]
  },
  {
   "cell_type": "code",
   "execution_count": 0,
   "metadata": {
    "application/vnd.databricks.v1+cell": {
     "cellMetadata": {
      "byteLimit": 2048000,
      "implicitDf": true,
      "rowLimit": 10000
     },
     "inputWidgets": {},
     "nuid": "f599dbe6-7fb1-4765-818e-8903dff65708",
     "showTitle": false,
     "tableResultSettingsMap": {
      "0": {
       "dataGridStateBlob": "{\"version\":1,\"tableState\":{\"columnPinning\":{\"left\":[\"#row_number#\"],\"right\":[]},\"columnSizing\":{},\"columnVisibility\":{}},\"settings\":{\"columns\":{}},\"syncTimestamp\":1758148963633}",
       "filterBlob": null,
       "queryPlanFiltersBlob": null,
       "tableResultIndex": 0
      }
     },
     "title": ""
    }
   },
   "outputs": [],
   "source": [
    "%sql\n",
    "CREATE OR REPLACE TABLE transacoes_db.pix_baseline_metricas.distribuicao_regional_sazonalidade as\n",
    "SELECT\n",
    "  ano,\n",
    "  mes,\n",
    "  Regiao,\n",
    "  AVG(VL_PagadorPF / NULLIF(QT_PagadorPF,0)) AS avg_ticket_pf,\n",
    "  AVG(VL_PagadorPJ / NULLIF(QT_PagadorPJ,0)) AS avg_ticket_pj,\n",
    "  SUM(QT_PagadorPF + QT_PagadorPJ) AS total_transacoes,\n",
    "  SUM(VL_PagadorPF + VL_PagadorPJ) AS total_valor\n",
    "FROM estatisticas_pix.gold.transacoes_municipio_pix\n",
    "WHERE Regiao IS NOT NULL\n",
    "GROUP BY ano, mes, Regiao\n",
    "ORDER BY ano, mes\n",
    "\n"
   ]
  },
  {
   "cell_type": "code",
   "execution_count": 0,
   "metadata": {
    "application/vnd.databricks.v1+cell": {
     "cellMetadata": {
      "byteLimit": 2048000,
      "implicitDf": true,
      "rowLimit": 10000
     },
     "inputWidgets": {},
     "nuid": "697e7590-e808-4aa4-a52c-b4d814e812e7",
     "showTitle": false,
     "tableResultSettingsMap": {},
     "title": ""
    }
   },
   "outputs": [],
   "source": [
    "%sql\n",
    "select * from transacoes_db.pix_baseline_metricas.distribuicao_regional_sazonalidade limit 5"
   ]
  },
  {
   "cell_type": "code",
   "execution_count": 0,
   "metadata": {
    "application/vnd.databricks.v1+cell": {
     "cellMetadata": {
      "byteLimit": 2048000,
      "implicitDf": true,
      "rowLimit": 10000
     },
     "inputWidgets": {},
     "nuid": "155c03c0-5faa-405e-8043-f05d1822988c",
     "showTitle": false,
     "tableResultSettingsMap": {},
     "title": ""
    }
   },
   "outputs": [],
   "source": [
    "%sql\n",
    "CREATE OR REPLACE TABLE transacoes_db.pix_baseline_metricas.relacao_pagadores_recebedores as\n",
    "SELECT\n",
    "  ano,\n",
    "  mes,\n",
    "  Municipio_Ibge,\n",
    "  Municipio,\n",
    "  SUM(QT_PagadorPF) AS total_tx_pf_pagador,\n",
    "  SUM(QT_RecebedorPF) AS total_tx_pf_recebedor,\n",
    "  SUM(QT_PagadorPJ) AS total_tx_pj_pagador,\n",
    "  SUM(QT_RecebedorPJ) AS total_tx_pj_recebedor,\n",
    "  (SUM(QT_PagadorPF) / NULLIF(SUM(QT_RecebedorPF),0)) AS razao_pf,\n",
    "  (SUM(QT_PagadorPJ) / NULLIF(SUM(QT_RecebedorPJ),0)) AS razao_pj\n",
    "FROM estatisticas_pix.gold.transacoes_municipio_pix\n",
    "WHERE Municipio_Ibge IS NOT NULL\n",
    "GROUP BY ano, mes, Municipio_Ibge, municipio\n"
   ]
  },
  {
   "cell_type": "code",
   "execution_count": 0,
   "metadata": {
    "application/vnd.databricks.v1+cell": {
     "cellMetadata": {
      "byteLimit": 2048000,
      "implicitDf": true,
      "rowLimit": 10000
     },
     "inputWidgets": {},
     "nuid": "06d8ab93-b832-4fb8-96e8-c4cf61f65204",
     "showTitle": false,
     "tableResultSettingsMap": {},
     "title": ""
    }
   },
   "outputs": [],
   "source": [
    "%sql\n",
    "select * from transacoes_db.pix_baseline_metricas.relacao_pagadores_recebedores limit 5"
   ]
  },
  {
   "cell_type": "code",
   "execution_count": 0,
   "metadata": {
    "application/vnd.databricks.v1+cell": {
     "cellMetadata": {
      "byteLimit": 2048000,
      "implicitDf": true,
      "rowLimit": 10000
     },
     "inputWidgets": {},
     "nuid": "6380d9c0-4807-4020-be75-57aad756f531",
     "showTitle": false,
     "tableResultSettingsMap": {},
     "title": ""
    }
   },
   "outputs": [],
   "source": [
    "%sql\n",
    "\n",
    "CREATE OR REPLACE TABLE transacoes_db.pix_baseline_metricas.perfil_de_usuarios as\n",
    "SELECT\n",
    "   Estado_Ibge,\n",
    "  Estado,\n",
    "  Municipio_Ibge,\n",
    "  Municipio,\n",
    "  AVG(QT_PagadorPF / NULLIF(QT_PES_PagadorPF,0)) AS avg_tx_por_pagador_pf,\n",
    "  AVG(QT_PagadorPJ / NULLIF(QT_PES_PagadorPJ,0)) AS avg_tx_por_pagador_pj,\n",
    "  AVG(QT_RecebedorPF / NULLIF(QT_PES_RecebedorPF,0)) AS avg_tx_por_recebedor_pf,\n",
    "  AVG(QT_RecebedorPJ / NULLIF(QT_PES_RecebedorPJ,0)) AS avg_tx_por_recebedor_pj\n",
    "FROM estatisticas_pix.gold.transacoes_municipio_pix\n",
    "GROUP BY  Estado_Ibge,\n",
    "  Estado,\n",
    "  Municipio_Ibge,\n",
    "  Municipio"
   ]
  }
 ],
 "metadata": {
  "application/vnd.databricks.v1+notebook": {
   "computePreferences": null,
   "dashboards": [],
   "environmentMetadata": {
    "base_environment": "",
    "environment_version": "3"
   },
   "inputWidgetPreferences": null,
   "language": "python",
   "notebookMetadata": {
    "mostRecentlyExecutedCommandWithImplicitDF": {
     "commandId": 6853954286671751,
     "dataframes": [
      "_sqldf"
     ]
    },
    "pythonIndentUnit": 4
   },
   "notebookName": "Analise-Descritiva-Samuca",
   "widgets": {}
  },
  "language_info": {
   "name": "python"
  }
 },
 "nbformat": 4,
 "nbformat_minor": 0
}
