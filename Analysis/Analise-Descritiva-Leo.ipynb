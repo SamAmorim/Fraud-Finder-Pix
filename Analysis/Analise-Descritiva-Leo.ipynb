{
 "cells": [
  {
   "cell_type": "markdown",
   "metadata": {
    "application/vnd.databricks.v1+cell": {
     "cellMetadata": {
      "byteLimit": 2048000,
      "rowLimit": 10000
     },
     "inputWidgets": {},
     "nuid": "55114418-ae77-4711-bc51-08b7719c1bd8",
     "showTitle": false,
     "tableResultSettingsMap": {},
     "title": ""
    }
   },
   "source": [
    "# 📊 Dicionário de Dados – Estatísticas do PIX (v1)\n",
    "\n",
    "## 1️⃣ Estoque de Chaves Pix por Participante\n",
    "Estoque de chaves no último dia do mês, por PSP, segregadas por PF/PJ e tipo de chave.\n",
    "\n",
    "| Nome | Tipo | Título | Descrição |\n",
    "|------|------|-------|-----------|\n",
    "| Data | texto | Data | Data de referência do estoque de chaves |\n",
    "| ISPB | texto | ISPB | Código do Participante Pix |\n",
    "| Nome | texto | Nome do PSP | Nome do Participante Pix |\n",
    "| NaturezaUsuario | texto | Natureza do Usuário | Pessoa Física (PF) ou Jurídica (PJ) |\n",
    "| TipoChave | texto | Tipo de Chave | CPF, CNPJ, Celular, e-Mail ou Chave Aleatória |\n",
    "| qtdChaves | inteiro | Quantidade de Chaves | Estoque de chaves Pix ativas no último dia do mês |\n",
    "\n",
    "---\n",
    "\n",
    "## 2️⃣ Transações Pix por Município\n",
    "Transações liquidadas por município, PF/PJ, considerando pagador e recebedor.\n",
    "\n",
    "| Nome | Tipo | Título | Descrição |\n",
    "|------|------|-------|-----------|\n",
    "| AnoMes | inteiro | Data-base | Data-base no formato AAAAMM |\n",
    "| Municipio_Ibge | inteiro | Código Município | Código IBGE do município |\n",
    "| Municipio | texto | Município | Nome do município |\n",
    "| Estado_Ibge | inteiro | Código Estado | Código IBGE do estado |\n",
    "| Estado | texto | Estado | Nome do Estado |\n",
    "| Sigla_Regiao | texto | Sigla Região | Sigla da região |\n",
    "| Regiao | texto | Região | Região do país (Norte, Nordeste, Sul, Sudeste, Centro-Oeste) |\n",
    "| VL_PagadorPF | decimal | Valor Pagador PF | Volume financeiro em R$ das transações cujo Pagador é PF |\n",
    "| QT_PagadorPF | decimal | Qtde Transações Pagador PF | Quantidade de transações cujo Pagador é PF |\n",
    "| VL_PagadorPJ | decimal | Valor Pagador PJ | Volume financeiro em R$ das transações cujo Pagador é PJ |\n",
    "| QT_PagadorPJ | decimal | Qtde Transações Pagador PJ | Quantidade de transações cujo Pagador é PJ |\n",
    "| VL_RecebedorPF | decimal | Valor Recebedor PF | Volume financeiro em R$ das transações cujo Recebedor é PF |\n",
    "| QT_RecebedorPF | decimal | Qtde Transações Recebedor PF | Quantidade de transações cujo Recebedor é PF |\n",
    "| VL_RecebedorPJ | decimal | Valor Recebedor PJ | Volume financeiro em R$ das transações cujo Recebedor é PJ |\n",
    "| QT_RecebedorPJ | decimal | Qtde Transações Recebedor PJ | Quantidade de transações cujo Recebedor é PJ |\n",
    "| QT_PES_PagadorPF | decimal | Qtde Pagador PF | Quantidade de pagadores pessoas físicas |\n",
    "| QT_PES_PagadorPJ | decimal | Qtde Pagador PJ | Quantidade de pagadores pessoas jurídicas |\n",
    "| QT_PES_RecebedorPF | decimal | Qtde Recebedor PF | Quantidade de recebedores pessoas físicas |\n",
    "| QT_PES_RecebedorPJ | decimal | Qtde Recebedor PJ | Quantidade de recebedores pessoas jurídicas |\n",
    "\n",
    "---\n",
    "\n",
    "## 3️⃣ Estatísticas de Transações Pix\n",
    "Volume e quantidade de transações Pix liquidadas mensalmente.\n",
    "\n",
    "| Nome | Tipo | Título | Descrição |\n",
    "|------|------|-------|-----------|\n",
    "| AnoMes | inteiro | Data-base | Data-base ano/mês |\n",
    "| PAG_PFPJ | texto | Tipo de Pessoa do Pagador | PF = Pessoa Física, PJ = Pessoa Jurídica |\n",
    "| REC_PFPJ | texto | Tipo de Pessoa do Recebedor | PF = Pessoa Física, PJ = Pessoa Jurídica |\n",
    "| PAG_REGIAO | texto | Região do Pagador | Região do domicílio do usuário pagador |\n",
    "| REC_REGIAO | texto | Região do Recebedor | Região do domicílio do usuário recebedor |\n",
    "| PAG_IDADE | texto | Idade do Pagador | Idade em anos do usuário pagador |\n",
    "| REC_IDADE | texto | Idade do Recebedor | Idade em anos do usuário recebedor |\n",
    "| FORMAINICIACAO | texto | Forma de iniciação | INIC, QRES, QRDN, MANU ou DICT |\n",
    "| NATUREZA | texto | Natureza da transação | P2P, B2B, P2B, B2P, P2G, B2G |\n",
    "| FINALIDADE | texto | Finalidade da Transação | Transferência, saque ou troco |\n",
    "| VALOR | decimal | Valor Transações Pix | Volume financeiro de transações Pix liquidadas |\n",
    "| QUANTIDADE | decimal | Quantidade Total Transações Pix | Quantidade de transações Pix liquidadas |\n",
    "\n",
    "\n",
    "## 4️⃣ Glossário de Siglas e Termos do PIX (Destacando Palavras-chave)\n",
    "\n",
    "| Sigla / Termo | Explicação Simples |\n",
    "|---------------|------------------|\n",
    "| **PIX** | Sistema de **pagamentos instantâneos** do Brasil, usado para transferir dinheiro rapidamente entre **pessoas** ou **empresas**. |\n",
    "| **PSP** | **Prestador de Serviços de Pagamento**: bancos e fintechs que participam do sistema PIX. |\n",
    "| **PF** | **Pessoa Física** — qualquer **indivíduo** que usa PIX para transferências ou pagamentos. |\n",
    "| **PJ** | **Pessoa Jurídica** — **empresa** ou **organização** que usa PIX. |\n",
    "| **ISPB** | **Código único** que identifica cada **banco** ou **instituição participante** do PIX. |\n",
    "| **Chave Pix** | Identificador usado para **receber dinheiro** pelo PIX. Pode ser **CPF**, **CNPJ**, **celular**, **e-mail** ou uma **chave aleatória**. |\n",
    "| **OData** | **Protocolo** que permite consultar **dados** de forma organizada, usando **filtros**, **ordenação** e **paginação**. |\n",
    "| **Data-base / Data** | **Mês e ano** que servem como referência para os **dados** ou **estatísticas**. |\n",
    "| **AnoMes** | Combinação de **ano** e **mês** no formato **AAAAMM**. Ex: 202309 = setembro de 2023. |\n",
    "| **VL_PagadorPF** | **Valor total** de dinheiro enviado por **pessoas físicas**. |\n",
    "| **QT_PagadorPF** | **Quantidade de transações** realizadas por **pessoas físicas**. |\n",
    "| **VL_PagadorPJ** | **Valor total** de dinheiro enviado por **pessoas jurídicas**. |\n",
    "| **QT_PagadorPJ** | **Quantidade de transações** realizadas por **pessoas jurídicas**. |\n",
    "| **VL_RecebedorPF** | **Valor total recebido** por **pessoas físicas**. |\n",
    "| **QT_RecebedorPF** | **Quantidade de transações recebidas** por **pessoas físicas**. |\n",
    "| **VL_RecebedorPJ** | **Valor total recebido** por **pessoas jurídicas**. |\n",
    "| **QT_RecebedorPJ** | **Quantidade de transações recebidas** por **pessoas jurídicas**. |\n",
    "| **QT_PES_PagadorPF** | **Quantidade de pagadores únicos** que são **pessoas físicas**. |\n",
    "| **QT_PES_PagadorPJ** | **Quantidade de pagadores únicos** que são **pessoas jurídicas**. |\n",
    "| **QT_PES_RecebedorPF** | **Quantidade de recebedores únicos** que são **pessoas físicas**. |\n",
    "| **QT_PES_RecebedorPJ** | **Quantidade de recebedores únicos** que são **pessoas jurídicas**. |\n",
    "| **NATUREZA** | **Tipo de transação**: <br>• **P2P** – Pessoa para Pessoa <br>• **B2B** – Empresa para Empresa <br>• **P2B** – Pessoa para Empresa <br>• **B2P** – Empresa para Pessoa <br>• **P2G** – Pessoa para Governo <br>• **B2G** – Empresa para Governo |\n",
    "| **FINALIDADE** | **Motivo da transação**: **transferência**, **saque** ou **troco**. |\n",
    "| **FORMAINICIACAO** | **Como a transação começou**: <br>• **INIC** – iniciador com dados do recebedor <br>• **QRES** – QR Code estático <br>• **QRDN** – QR Code dinâmico <br>• **MANU** – inserção manual <br>• **DICT** – uso de chave Pix |\n",
    "| **PAG_PFPJ** | Tipo de **pessoa do pagador**: **PF** ou **PJ**. |\n",
    "| **REC_PFPJ** | Tipo de **pessoa do recebedor**: **PF** ou **PJ**. |\n",
    "| **PAG_REGIAO** | **Região do Brasil** do domicílio do pagador. |\n",
    "| **REC_REGIAO** | **Região do Brasil** do domicílio do recebedor. |\n",
    "| **Regiao / Sigla_Regiao** | **Região geográfica** do país: **Norte**, **Nordeste**, **Sul**, **Sudeste** ou **Centro-Oeste**. |\n",
    "| **Municipio_Ibge** | **Código do município** segundo o IBGE. |\n",
    "| **Estado_Ibge** | **Código do estado** segundo o IBGE. |\n",
    "| **Municipio / Estado** | Nome do **município** ou **estado** onde a transação ocorreu. |\n",
    "| **TipoChave** | Tipo de **chave Pix**: **CPF**, **CNPJ**, **Celular**, **e-Mail** ou **Chave Aleatória**. |\n",
    "| **qtdChaves** | **Quantidade de chaves** ativas para um PSP em determinado mês. |\n",
    "| **$format / $select / $filter / $orderby / $skip / $top** | **Parâmetros do OData**: escolher **formato**, selecionar **colunas**, **filtrar**, **ordenar**, **pular registros** ou **limitar quantidade retornada**. |\n",
    "\n"
   ]
  },
  {
   "cell_type": "markdown",
   "metadata": {
    "application/vnd.databricks.v1+cell": {
     "cellMetadata": {
      "byteLimit": 2048000,
      "rowLimit": 10000
     },
     "inputWidgets": {},
     "nuid": "e3c94b13-9314-4adf-9afa-32e4314aea36",
     "showTitle": false,
     "tableResultSettingsMap": {},
     "title": ""
    }
   },
   "source": []
  },
  {
   "cell_type": "code",
   "execution_count": 0,
   "metadata": {
    "application/vnd.databricks.v1+cell": {
     "cellMetadata": {
      "byteLimit": 2048000,
      "rowLimit": 10000
     },
     "inputWidgets": {},
     "nuid": "8fc6a5ce-5b43-4b26-8d1c-cc655cf3df98",
     "showTitle": false,
     "tableResultSettingsMap": {
      "0": {
       "dataGridStateBlob": "{\"version\":1,\"tableState\":{\"columnPinning\":{\"left\":[\"#row_number#\"],\"right\":[]},\"columnSizing\":{},\"columnVisibility\":{}},\"settings\":{\"columns\":{}},\"syncTimestamp\":1757782115380}",
       "filterBlob": null,
       "queryPlanFiltersBlob": null,
       "tableResultIndex": 0
      }
     },
     "title": ""
    }
   },
   "outputs": [],
   "source": [
    "--Maiores Numeros de Chaves por Pessoa Fisica\n",
    "SELECT Nome,       \n",
    "       Data,\n",
    "       sum(qtdChaves)as Total_de_chaves\n",
    "       \n",
    "FROM estatisticas_pix.gold.chaves_pix\n",
    "WHERE NaturezaUsuario = 'PF'\n",
    "group by nome,\n",
    "         data\n",
    "          \n",
    "order by Total_de_chaves DESC\n",
    "    \n"
   ]
  },
  {
   "cell_type": "code",
   "execution_count": 0,
   "metadata": {
    "application/vnd.databricks.v1+cell": {
     "cellMetadata": {
      "byteLimit": 2048000,
      "rowLimit": 10000
     },
     "inputWidgets": {},
     "nuid": "17375e5a-7c50-4140-bb26-218df95afb91",
     "showTitle": false,
     "tableResultSettingsMap": {},
     "title": ""
    }
   },
   "outputs": [
    {
     "output_type": "display_data",
     "data": {
      "text/plain": [
       "Databricks visualization. Run in Databricks to view."
      ]
     },
     "metadata": {
      "application/vnd.databricks.v1.subcommand+json": {
       "baseErrorDetails": null,
       "bindings": {},
       "collapsed": false,
       "command": "%sql WITH q AS (SELECT distinct Nome,       \n       Data,\n       sum(qtdChaves)as Total_de_chaves\n       \nFROM estatisticas_pix.gold.chaves_pix\nWHERE DATA ='2025-08-31' and NaturezaUsuario = 'PJ'\ngroup by nome,\n         Data    \n          \norder by Total_de_chaves DESC\nlimit 10\n\n\n\n\n\n (SELECT SUM(Vl_pagadorPF)/VL_PagadorPF\n        FROM estatisticas_pix.gold.transacoes_municipio_pix \n        GROUP BY VL_PagadorPF        \n        ) as Total_de_Valores_Pagos_PF) SELECT `Nome`,`Nome`,SUM(`Total_de_chaves`) `column_72c92a1948` FROM q GROUP BY `Nome`",
       "commandTitle": "Visualization 1",
       "commandType": "auto",
       "commandVersion": 0,
       "commentThread": [],
       "commentsVisible": false,
       "contentSha256Hex": null,
       "customPlotOptions": {
        "redashChart": [
         {
          "key": "type",
          "value": "CHART"
         },
         {
          "key": "options",
          "value": {
           "alignYAxesAtZero": true,
           "coefficient": 1,
           "columnConfigurationMap": {
            "series": {
             "column": "Nome",
             "id": "column_72c92a1962"
            },
            "x": {
             "column": "Nome",
             "id": "column_72c92a1960"
            },
            "y": [
             {
              "column": "Total_de_chaves",
              "id": "column_72c92a1948",
              "transform": "SUM"
             }
            ]
           },
           "dateTimeFormat": "DD/MM/YYYY HH:mm",
           "direction": {
            "type": "counterclockwise"
           },
           "error_y": {
            "type": "data",
            "visible": true
           },
           "globalSeriesType": "column",
           "hideXAxis": false,
           "hideYAxes": false,
           "isAggregationOn": true,
           "legend": {
            "enabled": false,
            "traceorder": "normal"
           },
           "missingValuesAsZero": true,
           "numberFormat": "0,0.[00000]",
           "percentFormat": "0[.]00%",
           "reverseX": false,
           "series": {
            "error_y": {
             "type": "data",
             "visible": true
            },
            "percentValues": false,
            "stacking": ""
           },
           "seriesOptions": {
            "column_72c92a1937": {
             "name": "Total_de_chaves",
             "type": "column",
             "yAxis": 0
            },
            "column_72c92a1948": {
             "type": "column",
             "yAxis": 0
            }
           },
           "showDataLabels": true,
           "sizemode": "diameter",
           "sortX": false,
           "sortY": true,
           "swappedAxes": true,
           "textFormat": "",
           "useAggregationsUi": true,
           "valuesOptions": {},
           "version": 2,
           "xAxis": {
            "labels": {
             "enabled": true
            },
            "title": {
             "text": "Entidades bancárias"
            },
            "type": "category"
           },
           "yAxis": [
            {
             "title": {
              "text": "Total de Chaves PJ"
             },
             "type": "-"
            },
            {
             "opposite": true,
             "type": "-"
            }
           ]
          }
         }
        ]
       },
       "datasetPreviewNameToCmdIdMap": {},
       "diffDeletes": [],
       "diffInserts": [],
       "displayType": "redashChart",
       "error": null,
       "errorDetails": null,
       "errorSummary": null,
       "errorTraceType": null,
       "finishTime": 0,
       "globalVars": {},
       "guid": "",
       "height": "auto",
       "hideCommandCode": false,
       "hideCommandResult": false,
       "iPythonMetadata": null,
       "inputWidgets": {},
       "isLockedInExamMode": false,
       "latestAssumeRoleInfo": null,
       "latestUser": "a user",
       "latestUserId": null,
       "listResultMetadata": null,
       "metadata": {
        "byteLimit": 2048000,
        "rowLimit": 10000
       },
       "nuid": "8210eec5-5a6d-49ab-9484-255f95668bed",
       "origId": 0,
       "parentHierarchy": [],
       "pivotAggregation": null,
       "pivotColumns": null,
       "position": 6.0,
       "resultDbfsErrorMessage": null,
       "resultDbfsStatus": "INLINED_IN_TREE",
       "results": null,
       "showCommandTitle": false,
       "startTime": 0,
       "state": "input",
       "streamStates": {},
       "subcommandOptions": {
        "queryPlan": {
         "groups": [
          {
           "column": "Nome",
           "type": "column"
          },
          {
           "column": "Nome",
           "type": "column"
          }
         ],
         "selects": [
          {
           "column": "Nome",
           "type": "column"
          },
          {
           "column": "Nome",
           "type": "column"
          },
          {
           "alias": "column_72c92a1948",
           "args": [
            {
             "column": "Total_de_chaves",
             "type": "column"
            }
           ],
           "function": "SUM",
           "type": "function"
          }
         ]
        }
       },
       "submitTime": 0,
       "subtype": "tableResultSubCmd.visualization",
       "tableResultIndex": 0,
       "tableResultSettingsMap": {},
       "useConsistentColors": false,
       "version": "CommandV1",
       "width": "auto",
       "workflows": null,
       "xColumns": null,
       "yColumns": null
      }
     },
     "output_type": "display_data"
    }
   ],
   "source": [
    "\n",
    "SELECT distinct Nome,       \n",
    "       Data,\n",
    "       sum(qtdChaves)as Total_de_chaves\n",
    "       \n",
    "FROM estatisticas_pix.gold.chaves_pix\n",
    "WHERE DATA ='2025-08-31' and NaturezaUsuario = 'PJ'\n",
    "group by nome,\n",
    "         Data    \n",
    "          \n",
    "order by Total_de_chaves DESC\n",
    "limit 10\n",
    "\n",
    "\n",
    "\n",
    "\n",
    "\n",
    " (SELECT SUM(Vl_pagadorPF)/VL_PagadorPF\n",
    "        FROM estatisticas_pix.gold.transacoes_municipio_pix \n",
    "        GROUP BY VL_PagadorPF        \n",
    "        ) as Total_de_Valores_Pagos_PF  "
   ]
  },
  {
   "cell_type": "code",
   "execution_count": 0,
   "metadata": {
    "application/vnd.databricks.v1+cell": {
     "cellMetadata": {
      "byteLimit": 2048000,
      "rowLimit": 10000
     },
     "inputWidgets": {},
     "nuid": "901d9e64-ec81-4efd-bbe1-cec5f2b3a21d",
     "showTitle": false,
     "tableResultSettingsMap": {},
     "title": ""
    }
   },
   "outputs": [],
   "source": [
    "\n",
    "WITH tb_freq as(\n",
    "SELECT NaturezaUsuario, \n",
    "      TipoChave,\n",
    "      count (*)as freq_absoluta\n",
    "FROM estatisticas_pix.gold.chaves_pix\n",
    "WHERE NaturezaUsuario =  'PF'\n",
    "GROUP BY ALL\n",
    "ORDER BY freq_absoluta desc\n",
    ")\n",
    "SELECT NaturezaUsuario,\n",
    "       TipoChave,\n",
    "       freq_absoluta,\n",
    "       round(freq_absoluta / (select sum(freq_absoluta) from tb_freq),4) as freq_relativa,\n",
    "       sum(round(freq_absoluta / (select sum(freq_absoluta) from tb_freq),4)) OVER (ORDER BY freq_absoluta desc) AS freq_acumulada\n",
    "FROM tb_freq\n",
    "\n",
    "\n"
   ]
  },
  {
   "cell_type": "code",
   "execution_count": 0,
   "metadata": {
    "application/vnd.databricks.v1+cell": {
     "cellMetadata": {
      "byteLimit": 2048000,
      "rowLimit": 10000
     },
     "inputWidgets": {},
     "nuid": "e673f00a-c809-47c0-a617-0e4eba0ff342",
     "showTitle": false,
     "tableResultSettingsMap": {},
     "title": ""
    }
   },
   "outputs": [],
   "source": [
    "\n",
    "WITH tb_freq as(\n",
    "\n",
    "SELECT NaturezaUsuario,\n",
    "      TipoChave,\n",
    "      count (*)as freq_absoluta\n",
    "FROM estatisticas_pix.gold.chaves_pix\n",
    "WHERE NaturezaUsuario =  'PJ'\n",
    "GROUP BY ALL\n",
    "ORDER BY freq_absoluta desc\n",
    ")\n",
    "SELECT NaturezaUsuario,\n",
    "       TipoChave,\n",
    "       freq_absoluta,\n",
    "       round(freq_absoluta / (select sum(freq_absoluta) from tb_freq),4) as freq_relativa,\n",
    "       sum(round(freq_absoluta / (select sum(freq_absoluta) from tb_freq),4)) OVER (ORDER BY freq_absoluta desc) AS freq_acumulada\n",
    "FROM tb_freq\n"
   ]
  },
  {
   "cell_type": "code",
   "execution_count": 0,
   "metadata": {
    "application/vnd.databricks.v1+cell": {
     "cellMetadata": {
      "byteLimit": 2048000,
      "rowLimit": 10000
     },
     "inputWidgets": {},
     "nuid": "e88ae58c-fe49-495b-9d91-b12fdd425a3c",
     "showTitle": false,
     "tableResultSettingsMap": {
      "0": {
       "dataGridStateBlob": "{\"version\":1,\"tableState\":{\"columnPinning\":{\"left\":[\"#row_number#\"],\"right\":[]},\"columnSizing\":{},\"columnVisibility\":{}},\"settings\":{\"columns\":{}},\"syncTimestamp\":1757794201252}",
       "filterBlob": null,
       "queryPlanFiltersBlob": null,
       "tableResultIndex": 0
      }
     },
     "title": ""
    }
   },
   "outputs": [],
   "source": [
    "--Estados com maior acumulo de pix em 2025\n",
    "select Ano,\n",
    "       Estado,\n",
    "       Sum(VL_PagadorPF) as Valor_PagadorPF,\n",
    "       ROUND(AVG(VL_PagadorPF),2) as Media_Valor_PagadorPF,\n",
    "       ROUND(MEDIAN(VL_PagadorPF),2) as Mediana_Valor_PagadorPF           \n",
    "from estatisticas_pix.gold.transacoes_municipio_pix\n",
    "where ANO = 2025\n",
    "group BY Ano,\n",
    "         Estado\n",
    "order by Valor_PagadorPF  desc\n",
    "limit 5"
   ]
  },
  {
   "cell_type": "code",
   "execution_count": 0,
   "metadata": {
    "application/vnd.databricks.v1+cell": {
     "cellMetadata": {
      "byteLimit": 2048000,
      "rowLimit": 10000
     },
     "inputWidgets": {},
     "nuid": "a9e33666-5b3c-448c-a522-db3cf58b5d2f",
     "showTitle": false,
     "tableResultSettingsMap": {
      "0": {
       "dataGridStateBlob": "{\"version\":1,\"tableState\":{\"columnPinning\":{\"left\":[\"#row_number#\"],\"right\":[]},\"columnSizing\":{},\"columnVisibility\":{}},\"settings\":{\"columns\":{}},\"syncTimestamp\":1757972054486}",
       "filterBlob": null,
       "queryPlanFiltersBlob": null,
       "tableResultIndex": 0
      }
     },
     "title": ""
    }
   },
   "outputs": [],
   "source": [
    "-- INSIGHTS -> Sudeste é lider em realizações de pix\n",
    "with tab_freq as (\n",
    "select \n",
    "Estado,\n",
    "sum (QT_PagadorPF) as Total_transacoes\n",
    "from estatisticas_pix.gold.transacoes_municipio_pix\n",
    "group by all\n",
    "order by total_transacoes\n",
    ")\n",
    "select \n",
    "  Estado,\n",
    "  total_transacoes,\n",
    "  round (total_transacoes / (select sum (Total_transacoes) from tab_freq),4) as freq_relativa,\n",
    "  sum(round(total_transacoes / (select sum (Total_transacoes)from tab_freq),4)) over (order by total_transacoes desc) as freq_acumulada\n",
    "  from tab_freq\n",
    "  "
   ]
  },
  {
   "cell_type": "code",
   "execution_count": 0,
   "metadata": {
    "application/vnd.databricks.v1+cell": {
     "cellMetadata": {
      "byteLimit": 2048000,
      "rowLimit": 10000
     },
     "inputWidgets": {},
     "nuid": "eff9f482-5a7a-4237-b054-5bbb7c126f81",
     "showTitle": false,
     "tableResultSettingsMap": {
      "0": {
       "dataGridStateBlob": "{\"version\":1,\"tableState\":{\"columnPinning\":{\"left\":[\"#row_number#\"],\"right\":[]},\"columnSizing\":{},\"columnVisibility\":{}},\"settings\":{\"columns\":{}},\"syncTimestamp\":1757979341434}",
       "filterBlob": null,
       "queryPlanFiltersBlob": null,
       "tableResultIndex": 0
      }
     },
     "title": ""
    }
   },
   "outputs": [],
   "source": [
    "SELECT\n",
    " SUM(VALOR)\n",
    "FROM estatisticas_pix.gold.estatisticas_transacoes_pix\n",
    "WHERE NATUREZA = 'G2G'\n",
    "GROUP\tBY ALL"
   ]
  },
  {
   "cell_type": "markdown",
   "metadata": {
    "application/vnd.databricks.v1+cell": {
     "cellMetadata": {
      "byteLimit": 2048000,
      "rowLimit": 10000
     },
     "inputWidgets": {},
     "nuid": "df6a1e30-2658-4bca-996c-da99ede747d7",
     "showTitle": false,
     "tableResultSettingsMap": {},
     "title": ""
    }
   },
   "source": [
    "## Métricas Específicas para o Modelo de Dados"
   ]
  },
  {
   "cell_type": "code",
   "execution_count": 0,
   "metadata": {
    "application/vnd.databricks.v1+cell": {
     "cellMetadata": {
      "byteLimit": 2048000,
      "rowLimit": 10000
     },
     "inputWidgets": {},
     "nuid": "1214a9b2-ebf8-47e4-a9ac-e512512c68f3",
     "showTitle": false,
     "tableResultSettingsMap": {
      "0": {
       "dataGridStateBlob": "{\"version\":1,\"tableState\":{\"columnPinning\":{\"left\":[\"#row_number#\"],\"right\":[]},\"columnSizing\":{},\"columnVisibility\":{}},\"settings\":{\"columns\":{}},\"syncTimestamp\":1760140266077}",
       "filterBlob": null,
       "queryPlanFiltersBlob": null,
       "tableResultIndex": 0
      }
     },
     "title": ""
    }
   },
   "outputs": [],
   "source": [
    "--Medidas de Valores por Transação (medidas_valores_por_transacao)\n",
    "SELECT\n",
    "  Estado,\n",
    "  Ano,\n",
    "  Mes,\n",
    "  QT_PagadorPF,\n",
    "  QT_PagadorPJ    \n",
    "FROM estatisticas_pix.gold.transacoes_municipio_pix\n",
    "WHERE Estado = 'SÃO PAULO' and Ano = '2025'\n",
    "ORDER BY\n",
    "   QT_PagadorPF desc,\n",
    "   Qt_PagadorPJ desc \n",
    "   \n"
   ]
  },
  {
   "cell_type": "code",
   "execution_count": 0,
   "metadata": {
    "application/vnd.databricks.v1+cell": {
     "cellMetadata": {
      "byteLimit": 2048000,
      "rowLimit": 10000
     },
     "inputWidgets": {},
     "nuid": "3ec43cba-09ce-43bc-b6b3-5b1eb0e4edb5",
     "showTitle": false,
     "tableResultSettingsMap": {},
     "title": ""
    }
   },
   "outputs": [],
   "source": [
    "--vl_medio_tx_pagador_pf: Ticket médio por transação de pagadores Pessoa Físico\n",
    "\n",
    "with resumo_dados as (\n",
    "select\n",
    "  estado,\n",
    "  ano,\n",
    "  mes,\n",
    "  max (VL_PagadorPF) as maximo,\n",
    "  min (VL_PagadorPF) as minimo, \n",
    "  avg (VL_PagadorPF) as media,\n",
    "  median(VL_PagadorPF) as mediana,\n",
    "  stddev_pop (Vl_PagadorPF) as desvio_padrao,\n",
    "  (stddev_pop(Vl_PagadorPF)/ avg(Vl_PagadorPF)) as coeficiente_variacao\n",
    "\n",
    "from estatisticas_pix.gold.transacoes_municipio_pix\n",
    "where estado = 'SÃO PAULO' and Ano = '2025'\n",
    "group by all )\n",
    "\n",
    "select\n",
    "  media,\n",
    "  ano,\n",
    "  mes,\n",
    "  estado\n",
    "from resumo_dados"
   ]
  },
  {
   "cell_type": "code",
   "execution_count": 0,
   "metadata": {
    "application/vnd.databricks.v1+cell": {
     "cellMetadata": {
      "byteLimit": 2048000,
      "rowLimit": 10000
     },
     "inputWidgets": {},
     "nuid": "9f174bcc-0d6b-4436-af0b-b8f2e5c875be",
     "showTitle": false,
     "tableResultSettingsMap": {
      "0": {
       "dataGridStateBlob": "{\"version\":1,\"tableState\":{\"columnPinning\":{\"left\":[\"#row_number#\"],\"right\":[]},\"columnSizing\":{\"media\":172},\"columnVisibility\":{}},\"settings\":{\"columns\":{}},\"syncTimestamp\":1760394221180}",
       "filterBlob": null,
       "queryPlanFiltersBlob": null,
       "tableResultIndex": 0
      }
     },
     "title": ""
    }
   },
   "outputs": [],
   "source": [
    "--vl_medio_tx_pagador_pj: Ticket médio por transação de pagadores Pessoa Jurídica \n",
    "\n",
    "with resumo_dados as (\n",
    "select\n",
    "  estado,\n",
    "  ano,\n",
    "  mes,\n",
    "  max (VL_PagadorPJ) as maximo,\n",
    "  min (VL_PagadorPJ) as minimo, \n",
    "  avg (VL_PagadorPJ) as media,\n",
    "  median(VL_PagadorPJ) as mediana,\n",
    "  stddev_pop (Vl_PagadorPJ) as desvio_padrao,\n",
    "  (stddev_pop(Vl_PagadorPJ)/ avg(Vl_PagadorPJ)) as coeficiente_variacao\n",
    "\n",
    "from estatisticas_pix.gold.transacoes_municipio_pix\n",
    "where estado = 'SÃO PAULO' and Ano = '2025'\n",
    "group by all )\n",
    "\n",
    "select\n",
    "   media,\n",
    "   ano,\n",
    "   mes,\n",
    "   estado\n",
    "from resumo_dados"
   ]
  },
  {
   "cell_type": "code",
   "execution_count": 0,
   "metadata": {
    "application/vnd.databricks.v1+cell": {
     "cellMetadata": {
      "byteLimit": 2048000,
      "rowLimit": 10000
     },
     "inputWidgets": {},
     "nuid": "e4d0c089-4bb2-474c-aa2f-488f30d9ffd5",
     "showTitle": false,
     "tableResultSettingsMap": {},
     "title": ""
    }
   },
   "outputs": [],
   "source": [
    "--vl_medio_tx_recebedor_pf: Ticket médio por transação de recebedores Pessoa Física\n",
    "with resumo_dados as (\n",
    "select\n",
    "  estado,\n",
    "  ano,\n",
    "  mes,\n",
    "  max (VL_RecebedorPF) as maximo,\n",
    "  min (VL_RecebedorPF) as minimo, \n",
    "  avg (VL_RecebedorPF) as media,\n",
    "  median(VL_RecebedorPF) as mediana,\n",
    "  stddev_pop (VL_RecebedorPF) as desvio_padrao,\n",
    "  (stddev_pop(VL_RecebedorPF)/ avg(VL_RecebedorPF)) as coeficiente_variacao\n",
    "\n",
    "from estatisticas_pix.gold.transacoes_municipio_pix\n",
    "where estado = 'SÃO PAULO'\n",
    "group by all )\n",
    "\n",
    "select\n",
    "  *\n",
    "from resumo_dados"
   ]
  },
  {
   "cell_type": "code",
   "execution_count": 0,
   "metadata": {
    "application/vnd.databricks.v1+cell": {
     "cellMetadata": {
      "byteLimit": 2048000,
      "rowLimit": 10000
     },
     "inputWidgets": {},
     "nuid": "f6ede57a-e13a-4d58-8e85-7b5a5a2833e0",
     "showTitle": false,
     "tableResultSettingsMap": {},
     "title": ""
    }
   },
   "outputs": [],
   "source": [
    "--vl_medio_tx_recebedor_pj: Ticket médio por transação de recebedores Pessoa Jurídica\n",
    "with resumo_dados as (\n",
    "select\n",
    "  estado,\n",
    "  ano,\n",
    "  mes,\n",
    "  max (VL_RecebedorPJ) as maximo,\n",
    "  min (VL_RecebedorPJ) as minimo, \n",
    "  avg (VL_RecebedorPJ) as media,\n",
    "  median(VL_RecebedorPJ) as mediana,\n",
    "  stddev_pop (VL_RecebedorPJ) as desvio_padrao,\n",
    "  (stddev_pop(VL_RecebedorPJ)/ avg(VL_RecebedorPJ)) as coeficiente_variacao\n",
    "\n",
    "from estatisticas_pix.gold.transacoes_municipio_pix\n",
    "where estado = 'SÃO PAULO'\n",
    "group by all )\n",
    "\n",
    "select\n",
    "  media,\n",
    "  estado\n",
    "from resumo_dados"
   ]
  },
  {
   "cell_type": "code",
   "execution_count": 0,
   "metadata": {
    "application/vnd.databricks.v1+cell": {
     "cellMetadata": {
      "byteLimit": 2048000,
      "rowLimit": 10000
     },
     "inputWidgets": {},
     "nuid": "20167203-cd48-4002-9fab-bcdac697716d",
     "showTitle": false,
     "tableResultSettingsMap": {},
     "title": ""
    }
   },
   "outputs": [],
   "source": [
    "--tx_media_por_pf: Quantidade média de transações por usuário pagador Pessoa Física.\n",
    "\n",
    "\n",
    "with resumo_dados as (\n",
    "select\n",
    "  estado,\n",
    "  ano,\n",
    "  mes,\n",
    "  max (QT_PagadorPF) as maximo,\n",
    "  min (QT_PagadorPF) as minimo, \n",
    "  avg (QT_PagadorPF) as media,\n",
    "  median(QT_PagadorPF) as mediana,\n",
    "  stddev_pop (QT_PagadorPF) as desvio_padrao,\n",
    "  (stddev_pop(QT_PagadorPF)/ avg(QT_PagadorPF)) as coeficiente_variacao\n",
    "\n",
    "from estatisticas_pix.gold.transacoes_municipio_pix\n",
    "where estado = 'SÃO PAULO'\n",
    "group by all )\n",
    "\n",
    "select\n",
    "  media,\n",
    "  ano,\n",
    "  mes,\n",
    "  estado\n",
    "from resumo_dados"
   ]
  },
  {
   "cell_type": "code",
   "execution_count": 0,
   "metadata": {
    "application/vnd.databricks.v1+cell": {
     "cellMetadata": {
      "byteLimit": 2048000,
      "rowLimit": 10000
     },
     "inputWidgets": {},
     "nuid": "05600b02-10e0-42a5-911f-a53d8c1c85a9",
     "showTitle": false,
     "tableResultSettingsMap": {},
     "title": ""
    }
   },
   "outputs": [],
   "source": [
    "-- tx_media_por_pj: Quantidade média de transações por usuário pagador Pessoa Jurídica.\n",
    "\n",
    "with resumo_dados as (\n",
    "select\n",
    "  estado,\n",
    "  ano,\n",
    "  mes,\n",
    "  max (QT_PagadorPJ) as maximo,\n",
    "  min (QT_PagadorPJ) as minimo, \n",
    "  avg (QT_PagadorPJ) as media,\n",
    "  median(QT_PagadorPJ) as mediana,\n",
    "  stddev_pop (QT_PagadorPJ) as desvio_padrao,\n",
    "  (stddev_pop(QT_PagadorPJ)/ avg(QT_PagadorPJ)) as coeficiente_variacao\n",
    "\n",
    "from estatisticas_pix.gold.transacoes_municipio_pix\n",
    "where estado = 'SÃO PAULO'\n",
    "group by all )\n",
    "\n",
    "select\n",
    "  media,\n",
    "  ano,\n",
    "  mes,\n",
    "  estado\n",
    "from resumo_dados"
   ]
  },
  {
   "cell_type": "code",
   "execution_count": 0,
   "metadata": {
    "application/vnd.databricks.v1+cell": {
     "cellMetadata": {
      "byteLimit": 2048000,
      "rowLimit": 10000
     },
     "inputWidgets": {},
     "nuid": "1ef12809-3af7-40aa-bfd7-88b0ca6610d2",
     "showTitle": false,
     "tableResultSettingsMap": {},
     "title": ""
    }
   },
   "outputs": [],
   "source": [
    "--tx_media_por_recebedor_pf: Quantidade média de transações por usuário recebedor Pessoa Física\n",
    "with resumo_dados as (\n",
    "select\n",
    "  estado,\n",
    "  ano,\n",
    "  mes,\n",
    "  max (QT_RecebedorPF) as maximo,\n",
    "  min (QT_RecebedorPF) as minimo, \n",
    "  avg (QT_RecebedorPF) as media,\n",
    "  median(QT_RecebedorPF) as mediana,\n",
    "  stddev_pop (QT_RecebedorPF) as desvio_padrao,\n",
    "  (stddev_pop(QT_RecebedorPF)/ avg(QT_RecebedorPF)) as coeficiente_variacao\n",
    "\n",
    "from estatisticas_pix.gold.transacoes_municipio_pix\n",
    "where estado = 'SÃO PAULO'\n",
    "group by all )\n",
    "\n",
    "select\n",
    "  media,\n",
    "  ano,\n",
    "  mes,\n",
    "  estado\n",
    "from resumo_dados"
   ]
  },
  {
   "cell_type": "code",
   "execution_count": 0,
   "metadata": {
    "application/vnd.databricks.v1+cell": {
     "cellMetadata": {
      "byteLimit": 2048000,
      "rowLimit": 10000
     },
     "inputWidgets": {},
     "nuid": "da1a8b5f-6fa9-448d-b205-71e5df897b44",
     "showTitle": false,
     "tableResultSettingsMap": {},
     "title": ""
    }
   },
   "outputs": [],
   "source": [
    "--tx_media_por_recebedor_pj: Quantidade média de transações por usuário recebedor Pessoa Jurídica. feito\n",
    "\n",
    "with resumo_dados as (\n",
    "select\n",
    "  estado,\n",
    "  ano,\n",
    "  mes,\n",
    "  max (QT_RecebedorPJ) as maximo,\n",
    "  min (QT_RecebedorPJ) as minimo, \n",
    "  avg (QT_RecebedorPJ) as media,\n",
    "  median(QT_RecebedorPJ) as mediana,\n",
    "  stddev_pop (QT_RecebedorPJ) as desvio_padrao,\n",
    "  (stddev_pop(QT_RecebedorPJ)/ avg(QT_RecebedorPJ)) as coeficiente_variacao\n",
    "\n",
    "from estatisticas_pix.gold.transacoes_municipio_pix\n",
    "where estado = 'SÃO PAULO'\n",
    "group by all )\n",
    "\n",
    "select\n",
    "  media,\n",
    "  ano,\n",
    "  mes,\n",
    "  estado\n",
    "  \n",
    "from resumo_dados"
   ]
  },
  {
   "cell_type": "code",
   "execution_count": 0,
   "metadata": {
    "application/vnd.databricks.v1+cell": {
     "cellMetadata": {
      "byteLimit": 2048000,
      "rowLimit": 10000
     },
     "inputWidgets": {},
     "nuid": "8ba5fe8f-8d5f-47c7-b6cf-6056a4a5a4c8",
     "showTitle": false,
     "tableResultSettingsMap": {
      "0": {
       "dataGridStateBlob": "{\"version\":1,\"tableState\":{\"columnPinning\":{\"left\":[\"#row_number#\"],\"right\":[]},\"columnSizing\":{},\"columnVisibility\":{}},\"settings\":{\"columns\":{}},\"syncTimestamp\":1760217412205}",
       "filterBlob": null,
       "queryPlanFiltersBlob": null,
       "tableResultIndex": 0
      }
     },
     "title": ""
    }
   },
   "outputs": [],
   "source": [
    "--Medianas e Dispersão por Transação \n",
    "select \n",
    "    estado,\n",
    "    mes,\n",
    "    ano,\n",
    "    sum(VL_PagadorPF),\n",
    "    median(VL_PagadorPF) as mediana_VL_PagadorPF,\n",
    "    percentile_approx(VL_PagadorPF, 0.75) - percentile_approx(VL_PagadorPF,0.25) as IIQ_VL_PagadorPF,\n",
    "    stddev_pop(VL_PagadorPF) as desv_P_VLPagadorPF\n",
    "from estatisticas_pix.gold.transacoes_municipio_pix\n",
    "where estado = 'SÃO PAULO' and ano = '2025'\n",
    "group by all"
   ]
  },
  {
   "cell_type": "code",
   "execution_count": 0,
   "metadata": {
    "application/vnd.databricks.v1+cell": {
     "cellMetadata": {
      "byteLimit": 2048000,
      "rowLimit": 10000
     },
     "inputWidgets": {},
     "nuid": "5ca99dce-c0c5-49f2-bfb4-90a6c02d0d7d",
     "showTitle": false,
     "tableResultSettingsMap": {},
     "title": ""
    }
   },
   "outputs": [],
   "source": [
    "--Medianas e Dispersão por Transação (medianas_dispersao_por_transacao) -> VL_PagadorPF\n",
    "--mediana_tx_pagador_pf: Mediana do valor das transações de pagadores Pessoa Física.\n",
    "--p25_tx_pagador_pf: Primeiro quartil (percentil 25) do valor das transações de pagadores Pessoa Física. \n",
    "--p75_tx_pagador_pf: Terceiro quartil (percentil 75) do valor das transações de pagadores Pessoa Física.\n",
    "\n",
    "\n",
    "select \n",
    "    estado,\n",
    "    mes,\n",
    "    ano,\n",
    "    sum(VL_PagadorPF),\n",
    "    median(VL_PagadorPF) as mediana_VL_PagadorPF,\n",
    "    percentile_approx(VL_PagadorPF,0.25) as primeiro_q_VL_PagadorPF,\n",
    "    percentile_approx(VL_PagadorPF,0.50) as segundo_q_VL_PagadorPF,\n",
    "    percentile_approx(VL_PagadorPF,0.75) as terceiro_q_VL_PagadorPF,\n",
    "    percentile_approx(VL_PagadorPF, 0.75) - percentile_approx(VL_PagadorPF,0.25) as IIQ_VL_PagadorPF,\n",
    "    stddev_pop(VL_PagadorPF) as desv_P_VLPagadorPF\n",
    "from estatisticas_pix.gold.transacoes_municipio_pix\n",
    "where estado = 'SÃO PAULO' and ano = '2025'\n",
    "group by all"
   ]
  },
  {
   "cell_type": "code",
   "execution_count": 0,
   "metadata": {
    "application/vnd.databricks.v1+cell": {
     "cellMetadata": {
      "byteLimit": 2048000,
      "rowLimit": 10000
     },
     "inputWidgets": {},
     "nuid": "66d4d080-70ba-4cb5-99f0-6430400b29e1",
     "showTitle": false,
     "tableResultSettingsMap": {},
     "title": ""
    }
   },
   "outputs": [],
   "source": [
    "--Medianas e Dispersão por Transação (medianas_dispersao_por_transacao) -> VL_PagadorPJ\n",
    "select \n",
    "    estado,\n",
    "    mes,\n",
    "    ano,\n",
    "    sum(VL_PagadorPJ),\n",
    "    median(VL_PagadorPJ) as mediana_VL_PagadorPJ,\n",
    "    percentile_approx(VL_PagadorPJ,0.25) as primeiro_q_VL_PagadorPJ,\n",
    "    percentile_approx(VL_PagadorPJ,0.50) as segundo_q_VL_PagadorPJ,\n",
    "    percentile_approx(VL_PagadorPj,0.75) as terceiro_q_VL_PagadorPJ,\n",
    "    percentile_approx(VL_PagadorPJ, 0.75) - percentile_approx(VL_PagadorPJ,0.25) as IIQ_VL_PagadorPJ,\n",
    "    stddev_pop(VL_PagadorPJ) as desv_P_VLPagadorPJ\n",
    "from estatisticas_pix.gold.transacoes_municipio_pix\n",
    "where estado = 'SÃO PAULO' and ano = '2025'\n",
    "group by all"
   ]
  },
  {
   "cell_type": "code",
   "execution_count": 0,
   "metadata": {
    "application/vnd.databricks.v1+cell": {
     "cellMetadata": {
      "byteLimit": 2048000,
      "rowLimit": 10000
     },
     "inputWidgets": {},
     "nuid": "019edd1b-2e70-4466-8fac-9c7c43cf168f",
     "showTitle": false,
     "tableResultSettingsMap": {},
     "title": ""
    }
   },
   "outputs": [],
   "source": [
    "--Medianas e Dispersão por Transação (medianas_dispersao_por_transacao) -> VL_RecebedorPF\n",
    "--mediana_tx_recebedor_pf: Mediana do valor das transações de recebedores Pessoa Física.\n",
    "select \n",
    "    estado,\n",
    "    mes,\n",
    "    ano,\n",
    "    sum(VL_RecebedorPF),\n",
    "    median(VL_RecebedorPF) as mediana_VL_RecebedorPF,\n",
    "    percentile_approx(VL_RecebedorPF,0.25) as primeiro_q_RecebedorPF,\n",
    "    percentile_approx(VL_RecebedorPF,0.50) as segundo_q_RecebedorPF,\n",
    "    percentile_approx(VL_RecebedorPF,0.75) as terceiro_q_RecebedorPF,\n",
    "    percentile_approx(VL_RecebedorPF, 0.75) - percentile_approx(VL_RecebedorPF,0.25) as IIQ_VL_RecebedorPF,\n",
    "    stddev_pop(VL_RecebedorPF) as desv_P_VL_RecebedorPF\n",
    "from estatisticas_pix.gold.transacoes_municipio_pix\n",
    "where estado = 'SÃO PAULO' and ano = '2025'\n",
    "group by all"
   ]
  },
  {
   "cell_type": "code",
   "execution_count": 0,
   "metadata": {
    "application/vnd.databricks.v1+cell": {
     "cellMetadata": {
      "byteLimit": 2048000,
      "rowLimit": 10000
     },
     "inputWidgets": {},
     "nuid": "70250455-b51f-4b36-b38b-1e8a1bbef68c",
     "showTitle": false,
     "tableResultSettingsMap": {},
     "title": ""
    }
   },
   "outputs": [],
   "source": [
    "--Medianas e Dispersão por Transação (medianas_dispersao_por_transacao) -> VL_RecebedorPj\n",
    "--mediana_tx_recebedor_pj: Mediana do valor das transações de recebedores Pessoa Jurídica.feito\n",
    "select \n",
    "    estado,\n",
    "    mes,\n",
    "    ano,\n",
    "    sum(VL_RecebedorPJ),\n",
    "    median(VL_RecebedorPJ) as mediana_VL_PagadorPJ,\n",
    "    percentile_approx(VL_RecebedorPJ,0.25) as primeiro_q_RecebedorPF,\n",
    "    percentile_approx(VL_RecebedorPJ,0.50) as segundo_q_RecebedorPF,\n",
    "    percentile_approx(VL_RecebedorPJ,0.75) as terceiro_q_RecebedorPF,\n",
    "    percentile_approx(VL_RecebedorPJ, 0.75) - percentile_approx(VL_RecebedorPJ,0.25) as IIQ_VL_RecebedorPJ,\n",
    "    stddev_pop(VL_RecebedorPJ) as desv_P_VL_RecebedorPJ\n",
    "from estatisticas_pix.gold.transacoes_municipio_pix\n",
    "where estado = 'SÃO PAULO' and ano = '2025'\n",
    "group by all"
   ]
  },
  {
   "cell_type": "code",
   "execution_count": 0,
   "metadata": {
    "application/vnd.databricks.v1+cell": {
     "cellMetadata": {
      "byteLimit": 2048000,
      "rowLimit": 10000
     },
     "inputWidgets": {},
     "nuid": "23d23c0c-5990-4301-903c-a6da0fa1d251",
     "showTitle": false,
     "tableResultSettingsMap": {},
     "title": ""
    }
   },
   "outputs": [],
   "source": [
    "--Distribuição Regional e Sazonalidade\n",
    "SELECT\n",
    "  Estado,\n",
    "  Ano,\n",
    "  Mes,\n",
    "  QT_PagadorPF,\n",
    "  QT_RecebedorPF,\n",
    "  QT_PagadorPJ, \n",
    "  QT_RecebedorPJ    \n",
    "FROM estatisticas_pix.gold.transacoes_municipio_pix\n",
    "ORDER BY\n",
    "   Estado, \n",
    "   Ano desc,\n",
    "   Mes desc"
   ]
  },
  {
   "cell_type": "code",
   "execution_count": 0,
   "metadata": {
    "application/vnd.databricks.v1+cell": {
     "cellMetadata": {
      "byteLimit": 2048000,
      "rowLimit": 10000
     },
     "inputWidgets": {},
     "nuid": "70b45dbe-83f4-449d-8454-628dca537b34",
     "showTitle": false,
     "tableResultSettingsMap": {},
     "title": ""
    }
   },
   "outputs": [],
   "source": [
    "--Distribuição Regional e Sazonalidade\n",
    "SELECT\n",
    "  Estado,\n",
    "  Ano,\n",
    "  Mes,\n",
    "  VL_PagadorPF,\n",
    "  VL_PagadorPF,\n",
    "  VL_PagadorPJ, \n",
    "  VL_RecebedorPJ    \n",
    "FROM estatisticas_pix.gold.transacoes_municipio_pix\n",
    "ORDER BY\n",
    "   Estado, \n",
    "   Ano desc,\n",
    "   Mes desc"
   ]
  },
  {
   "cell_type": "code",
   "execution_count": 0,
   "metadata": {
    "application/vnd.databricks.v1+cell": {
     "cellMetadata": {
      "byteLimit": 2048000,
      "rowLimit": 10000
     },
     "inputWidgets": {},
     "nuid": "6d3a040f-c30b-48d3-b070-d5fad635f7a0",
     "showTitle": false,
     "tableResultSettingsMap": {},
     "title": ""
    }
   },
   "outputs": [],
   "source": [
    "--Distribuição Regional e Sazonalidade (distribuicao_regional_sazonalidade)\n",
    "SELECT\n",
    "  Estado,\n",
    "  Ano,\n",
    "  Mes,\n",
    "  QT_PagadorPF,\n",
    "  QT_RecebedorPF,\n",
    "  QT_PagadorPJ, \n",
    "  QT_RecebedorPJ    \n",
    "FROM estatisticas_pix.gold.transacoes_municipio_pix\n",
    "ORDER BY\n",
    "   Estado, \n",
    "   Ano desc,\n",
    "   Mes desc"
   ]
  },
  {
   "cell_type": "code",
   "execution_count": 0,
   "metadata": {
    "application/vnd.databricks.v1+cell": {
     "cellMetadata": {
      "byteLimit": 2048000,
      "rowLimit": 10000
     },
     "inputWidgets": {},
     "nuid": "690e5b63-6cc6-4e70-8f35-936a365b9981",
     "showTitle": false,
     "tableResultSettingsMap": {},
     "title": ""
    }
   },
   "outputs": [],
   "source": [
    "--avg_ticket_pf: Ticket médio regional e sazonal para pagadores Pessoa Física.\n",
    "\n",
    "select \n",
    "    estado,\n",
    "    mes,\n",
    "    ano,\n",
    "    sum(VL_PagadorPF)as total_VL_PagadorPF,\n",
    "    median(VL_PagadorPF) as mediana_VL_PagadorPF,\n",
    "    percentile_approx(VL_PagadorPF,0.25) as primeiro_q_VL_PagadorPF,\n",
    "    percentile_approx(VL_PagadorPF,0.50) as segundo_q_VL_PagadorPF,\n",
    "    percentile_approx(VL_PagadorPF,0.75) as terceiro_q_VL_PagadorPF,\n",
    "    percentile_approx(VL_PagadorPF, 0.75) - percentile_approx(VL_PagadorPF,0.25) as IIQ_VL_PagadorPF,\n",
    "    stddev_pop(VL_PagadorPF) as desv_P_VLPagadorPF\n",
    "from estatisticas_pix.gold.transacoes_municipio_pix\n",
    "group by all\n",
    "order by \n",
    "    estado,\n",
    "    ano desc,\n",
    "    mes desc\n",
    "    \n"
   ]
  },
  {
   "cell_type": "code",
   "execution_count": 0,
   "metadata": {
    "application/vnd.databricks.v1+cell": {
     "cellMetadata": {
      "byteLimit": 2048000,
      "rowLimit": 10000
     },
     "inputWidgets": {},
     "nuid": "6109f534-27d5-4edf-8144-71c327d49267",
     "showTitle": false,
     "tableResultSettingsMap": {},
     "title": ""
    }
   },
   "outputs": [],
   "source": [
    "--avg_ticket_pj: Ticket médio regional e sazonal para pagadores Pessoa Jurídica.\n",
    "select \n",
    "    estado,\n",
    "    mes,\n",
    "    ano,\n",
    "    sum(VL_PagadorPJ) as total_VL_PagadorPJ,\n",
    "    median(VL_PagadorPJ) as mediana_VL_PagadorPJ,\n",
    "    percentile_approx(VL_PagadorPJ,0.25) as primeiro_q_VL_PagadorPJ,\n",
    "    percentile_approx(VL_PagadorPJ,0.50) as segundo_q_VL_PagadorPJ,\n",
    "    percentile_approx(VL_PagadorPJ,0.75) as terceiro_q_VL_PagadorPJ,\n",
    "    percentile_approx(VL_PagadorPJ, 0.75) - percentile_approx(VL_PagadorPJ,0.25) as IIQ_VL_PagadorPJ,\n",
    "    stddev_pop(VL_PagadorPJ) as desv_P_VL_PagadorPJ\n",
    "from estatisticas_pix.gold.transacoes_municipio_pix\n",
    "group by all\n",
    "order by \n",
    "    estado,\n",
    "    ano desc,\n",
    "    mes desc"
   ]
  },
  {
   "cell_type": "code",
   "execution_count": 0,
   "metadata": {
    "application/vnd.databricks.v1+cell": {
     "cellMetadata": {
      "byteLimit": 2048000,
      "rowLimit": 10000
     },
     "inputWidgets": {},
     "nuid": "c570ba01-b814-43b2-8e27-73b2e5633837",
     "showTitle": false,
     "tableResultSettingsMap": {
      "0": {
       "dataGridStateBlob": "{\"version\":1,\"tableState\":{\"columnPinning\":{\"left\":[\"#row_number#\"],\"right\":[]},\"columnSizing\":{},\"columnVisibility\":{}},\"settings\":{\"columns\":{}},\"syncTimestamp\":1760220957715}",
       "filterBlob": null,
       "queryPlanFiltersBlob": null,
       "tableResultIndex": 0
      }
     },
     "title": ""
    }
   },
   "outputs": [],
   "source": [
    "with base_calculo as (\n",
    "select\n",
    "  estado,\n",
    "  ano,\n",
    "  mes,\n",
    "  sum(VL_PagadorPF) as total_pagadorPJ,\n",
    "  sum(VL_PagadorPJ) as total_recebedorPJ\n",
    "from estatisticas_pix.gold.transacoes_municipio_pix\n",
    "group by all\n",
    ")\n",
    "\n",
    "select \n",
    "  estado,\n",
    "  ano,\n",
    "  mes,\n",
    "  total_pagadorPJ + total_recebedorPJ as Total_Transacoes\n",
    "from base_calculo\n",
    "order by \n",
    "  estado,\n",
    "  ano desc,\n",
    "  mes desc"
   ]
  },
  {
   "cell_type": "code",
   "execution_count": 0,
   "metadata": {
    "application/vnd.databricks.v1+cell": {
     "cellMetadata": {
      "byteLimit": 2048000,
      "rowLimit": 10000
     },
     "inputWidgets": {},
     "nuid": "a649e509-0ccc-4c09-bea9-c0ed9be30d92",
     "showTitle": false,
     "tableResultSettingsMap": {},
     "title": ""
    }
   },
   "outputs": [],
   "source": [
    "--total_transacoes: Soma total de transações (PF + PJ) por região e período\n",
    "\n",
    "with base_calculo as (\n",
    "select\n",
    "  estado,\n",
    "  ano,\n",
    "  mes,\n",
    "  sum(QT_PagadorPF) as total_pagadorPJ,\n",
    "  sum(QT_PagadorPJ) as total_recebedorPJ\n",
    "from estatisticas_pix.gold.transacoes_municipio_pix\n",
    "group by all\n",
    ")\n",
    "\n",
    "select \n",
    "  estado,\n",
    "  ano,\n",
    "  mes,\n",
    "  total_pagadorPJ + total_recebedorPJ as Total_Transacoes\n",
    "from base_calculo\n",
    "order by \n",
    "  estado,\n",
    "  ano desc,\n",
    "  mes desc"
   ]
  },
  {
   "cell_type": "code",
   "execution_count": 0,
   "metadata": {
    "application/vnd.databricks.v1+cell": {
     "cellMetadata": {
      "byteLimit": 2048000,
      "rowLimit": 10000
     },
     "inputWidgets": {},
     "nuid": "be6218bf-b3fb-44e8-8b12-35468b7f2337",
     "showTitle": false,
     "tableResultSettingsMap": {},
     "title": ""
    }
   },
   "outputs": [],
   "source": [
    "--total_valor: Soma total do valor transacionado (PF + PJ) por região e período.\n",
    "\n",
    "\n",
    "with base_calculo as (\n",
    "select\n",
    "  estado,\n",
    "  ano,\n",
    "  mes,\n",
    "  sum(VL_PagadorPF) as total_pagadorPJ,\n",
    "  sum(VL_PagadorPJ) as total_recebedorPJ\n",
    "from estatisticas_pix.gold.transacoes_municipio_pix\n",
    "group by all\n",
    ")\n",
    "\n",
    "select \n",
    "  estado,\n",
    "  ano,\n",
    "  mes,\n",
    "  total_pagadorPJ + total_recebedorPJ as Total_Transacoes\n",
    "from base_calculo\n",
    "order by \n",
    "  estado,\n",
    "  ano desc,\n",
    "  mes desc"
   ]
  },
  {
   "cell_type": "code",
   "execution_count": 0,
   "metadata": {
    "application/vnd.databricks.v1+cell": {
     "cellMetadata": {
      "byteLimit": 2048000,
      "rowLimit": 10000
     },
     "inputWidgets": {},
     "nuid": "2dd94e59-31f8-406e-ab55-317f66f1c07f",
     "showTitle": false,
     "tableResultSettingsMap": {},
     "title": ""
    }
   },
   "outputs": [],
   "source": [
    "\n",
    "--total_tx_pf_pagador: Total de transações de pagadores Pessoa Física por município e período. feito \n",
    "\n",
    "select \n",
    "    estado,\n",
    "    ano,\n",
    "    mes,\n",
    "    sum(QT_PES_PagadorPF) as Total_QT_PES_PagadorPF\n",
    "    \n",
    "  from estatisticas_pix.gold.transacoes_municipio_pix\n",
    "  where ano = '2025'\n",
    "  group by all\n",
    "  order by\n",
    "    estado,\n",
    "    ano desc,\n",
    "    mes desc"
   ]
  },
  {
   "cell_type": "code",
   "execution_count": 0,
   "metadata": {
    "application/vnd.databricks.v1+cell": {
     "cellMetadata": {
      "byteLimit": 2048000,
      "rowLimit": 10000
     },
     "inputWidgets": {},
     "nuid": "76400560-dd6e-4aae-8f73-8a2970f78679",
     "showTitle": false,
     "tableResultSettingsMap": {},
     "title": ""
    }
   },
   "outputs": [],
   "source": [
    "\n",
    "--total_tx_pf_recebedor: Total de transações de recebedores Pessoa Física por município e período. \n",
    "\n",
    "\n",
    "select \n",
    "    estado,\n",
    "    ano,\n",
    "    mes,\n",
    "    sum(QT_PES_RecebedorPF) as Total_QT_PES_RecebedorPF\n",
    "    \n",
    "  from estatisticas_pix.gold.transacoes_municipio_pix\n",
    "  where ano = '2025'\n",
    "  group by all\n",
    "  order by\n",
    "    estado,\n",
    "    ano desc,\n",
    "    mes desc"
   ]
  },
  {
   "cell_type": "code",
   "execution_count": 0,
   "metadata": {
    "application/vnd.databricks.v1+cell": {
     "cellMetadata": {
      "byteLimit": 2048000,
      "rowLimit": 10000
     },
     "inputWidgets": {},
     "nuid": "d5ca1e31-65b3-4442-8a43-753a65fb6cb1",
     "showTitle": false,
     "tableResultSettingsMap": {},
     "title": ""
    }
   },
   "outputs": [],
   "source": [
    "--total_tx_pj_pagador: Total de transações de pagadores Pessoa Jurídica por município e período.\n",
    "\n",
    "select \n",
    "    estado,\n",
    "    ano,\n",
    "    mes,\n",
    "    sum(QT_PES_PagadorPJ) as Total_QT_PES_PagadorPF\n",
    "    \n",
    "  from estatisticas_pix.gold.transacoes_municipio_pix\n",
    "  where ano = '2025'\n",
    "  group by all\n",
    "  order by\n",
    "    estado,\n",
    "    ano desc,\n",
    "    mes desc"
   ]
  },
  {
   "cell_type": "code",
   "execution_count": 0,
   "metadata": {
    "application/vnd.databricks.v1+cell": {
     "cellMetadata": {
      "byteLimit": 2048000,
      "rowLimit": 10000
     },
     "inputWidgets": {},
     "nuid": "06246913-fc25-499a-aba4-9300dd0c72d4",
     "showTitle": false,
     "tableResultSettingsMap": {},
     "title": ""
    }
   },
   "outputs": [],
   "source": [
    "--total_tx_pj_recebedor: Total de transações de recebedores Pessoa Jurídica por município e período.\n",
    "\n",
    "select \n",
    "    estado,\n",
    "    ano,\n",
    "    mes,\n",
    "    sum(QT_PES_PagadorPJ) as Total_QT_PES_PagadorPF\n",
    "    \n",
    "  from estatisticas_pix.gold.transacoes_municipio_pix\n",
    "  where ano = '2025'\n",
    "  group by all\n",
    "  order by\n",
    "    estado,\n",
    "    ano desc,\n",
    "    mes desc"
   ]
  },
  {
   "cell_type": "code",
   "execution_count": 0,
   "metadata": {
    "application/vnd.databricks.v1+cell": {
     "cellMetadata": {
      "byteLimit": 2048000,
      "rowLimit": 10000
     },
     "inputWidgets": {},
     "nuid": "c8fd2471-1144-4c2f-a2eb-b48d4d723a0a",
     "showTitle": false,
     "tableResultSettingsMap": {},
     "title": ""
    }
   },
   "outputs": [],
   "source": [
    "--total_tx_pj_recebedor: Total de transações de recebedores Pessoa Jurídica por município e período.\n",
    "\n",
    "select \n",
    "    estado,\n",
    "    ano,\n",
    "    mes,\n",
    "    sum(QT_PES_RecebedorPJ) as Total_QT_PES_RecebedorPF\n",
    "    \n",
    "  from estatisticas_pix.gold.transacoes_municipio_pix\n",
    "  where ano = '2025'\n",
    "  group by all\n",
    "  order by\n",
    "    estado,\n",
    "    ano desc,\n",
    "    mes desc"
   ]
  },
  {
   "cell_type": "code",
   "execution_count": 0,
   "metadata": {
    "application/vnd.databricks.v1+cell": {
     "cellMetadata": {
      "byteLimit": 2048000,
      "rowLimit": 10000
     },
     "inputWidgets": {},
     "nuid": "35ebac05-7847-4486-afeb-1ad81d9ac986",
     "showTitle": false,
     "tableResultSettingsMap": {},
     "title": ""
    }
   },
   "outputs": [],
   "source": [
    "--razao_pf: Razão entre o total de transações de pagadores e recebedores Pessoa Física.feito\n",
    "\n",
    "select \n",
    "  estado,\n",
    "  round(VL_PagadorPF / QT_PES_RecebedorPF,2) as Razao_PagadorPF_x_PES_RecebedorPF\n",
    "\n",
    "from estatisticas_pix.gold.transacoes_municipio_pix\n",
    "where ano = '2025'\n",
    "order by \n",
    "  Estado,\n",
    "  ano desc,\n",
    "  mes desc"
   ]
  },
  {
   "cell_type": "code",
   "execution_count": 0,
   "metadata": {
    "application/vnd.databricks.v1+cell": {
     "cellMetadata": {
      "byteLimit": 2048000,
      "rowLimit": 10000
     },
     "inputWidgets": {},
     "nuid": "04015358-3a68-499a-a34a-bd80f6fadd05",
     "showTitle": false,
     "tableResultSettingsMap": {},
     "title": ""
    }
   },
   "outputs": [],
   "source": [
    "--razao_pj: Razão entre o total de transações de pagadores e recebedores Pessoa Jurídica.\n",
    "\n",
    "select \n",
    "  estado,\n",
    "  round(VL_PagadorPJ / QT_PES_RecebedorPJ,2) as Razao_PagadorPF_x_PES_RecebedorPF\n",
    "\n",
    "from estatisticas_pix.gold.transacoes_municipio_pix\n",
    "where ano = '2025'\n",
    "order by \n",
    "  Estado,\n",
    "  ano desc,\n",
    "  mes desc"
   ]
  },
  {
   "cell_type": "code",
   "execution_count": 0,
   "metadata": {
    "application/vnd.databricks.v1+cell": {
     "cellMetadata": {
      "byteLimit": 2048000,
      "rowLimit": 10000
     },
     "inputWidgets": {},
     "nuid": "8ecafe83-3685-4006-8aaf-bcdb0e58dda7",
     "showTitle": false,
     "tableResultSettingsMap": {},
     "title": ""
    }
   },
   "outputs": [],
   "source": []
  },
  {
   "cell_type": "code",
   "execution_count": 0,
   "metadata": {
    "application/vnd.databricks.v1+cell": {
     "cellMetadata": {
      "byteLimit": 2048000,
      "rowLimit": 10000
     },
     "inputWidgets": {},
     "nuid": "db9d07ac-8972-4376-92a2-6c91cbaa2ab9",
     "showTitle": false,
     "tableResultSettingsMap": {
      "0": {
       "dataGridStateBlob": "{\"version\":1,\"tableState\":{\"columnPinning\":{\"left\":[\"#row_number#\"],\"right\":[]},\"columnSizing\":{},\"columnVisibility\":{}},\"settings\":{\"columns\":{}},\"syncTimestamp\":1760394723485}",
       "filterBlob": null,
       "queryPlanFiltersBlob": null,
       "tableResultIndex": 0
      }
     },
     "title": ""
    }
   },
   "outputs": [
    {
     "output_type": "display_data",
     "data": {
      "text/plain": [
       "Databricks visualization. Run in Databricks to view."
      ]
     },
     "metadata": {
      "application/vnd.databricks.v1.subcommand+json": {
       "baseErrorDetails": null,
       "bindings": {},
       "collapsed": false,
       "command": "%sql WITH q AS (select \n  ano,\n  mes,\n  pag_idade,\n  rec_idade,\n  pag_regiao,\n  rec_regiao,\n  sum(valor) as total_valor,\n  sum(quantidade) as total_quantidade,\n  round(sum(valor) / sum(quantidade), 2) as ticket_medio,\n  min(valor / quantidade) as ticket_minimo,\n  max(valor / quantidade) as ticket_maximo,\n  avg(valor / quantidade) as ticket_medio_aritmetico,\n  percentile_approx(valor / quantidade, 0.5) as ticket_mediana,\n  percentile_approx(valor / quantidade, 0.25) as ticket_p25,\n  percentile_approx(valor / quantidade, 0.75) as ticket_p75,\n  percentile_approx(valor / quantidade, 0.75) - percentile_approx(valor / quantidade, 0.25) as ticket_iiq,\n  stddev_pop(valor / quantidade) as ticket_desvio_padrao\nfrom estatisticas_pix.gold.estatisticas_transacoes_pix\nwhere rec_regiao <> 'Nao informado'\n  and pag_regiao <> 'Nao informado'\n  and pag_idade <> 'Nao se aplica'\n  and rec_idade <> 'Nao se aplica'\n  and pag_idade <> 'Nao informado'\n  and rec_idade <> 'Nao informado'\n  and ano = 2025\ngroup by all\norder by all) SELECT `mes`,SUM(`media_valor_por_transacao`) `column_94587e53201`,`pag_regiao` FROM q GROUP BY `mes`,`pag_regiao`",
       "commandTitle": "Visualization 2",
       "commandType": "auto",
       "commandVersion": 0,
       "commentThread": [],
       "commentsVisible": false,
       "contentSha256Hex": null,
       "customPlotOptions": {
        "redashChart": [
         {
          "key": "type",
          "value": "CHART"
         },
         {
          "key": "options",
          "value": {
           "alignYAxesAtZero": true,
           "coefficient": 1,
           "columnConfigurationMap": {
            "series": {
             "column": "pag_regiao",
             "id": "column_94587e53203"
            },
            "x": {
             "column": "mes",
             "id": "column_94587e53199"
            },
            "y": [
             {
              "column": "media_valor_por_transacao",
              "id": "column_94587e53201",
              "transform": "SUM"
             }
            ]
           },
           "dateTimeFormat": "DD/MM/YYYY HH:mm",
           "direction": {
            "type": "counterclockwise"
           },
           "error_y": {
            "type": "data",
            "visible": true
           },
           "globalSeriesType": "line",
           "isAggregationOn": true,
           "legend": {
            "traceorder": "normal"
           },
           "missingValuesAsZero": true,
           "numberFormat": "0,0.[00000]",
           "percentFormat": "0[.]00%",
           "series": {
            "error_y": {
             "type": "data",
             "visible": true
            },
            "stacking": null
           },
           "seriesOptions": {
            "column_94587e53201": {
             "type": "line",
             "yAxis": 0
            }
           },
           "showDataLabels": false,
           "sizemode": "diameter",
           "sortX": true,
           "sortY": true,
           "swappedAxes": false,
           "textFormat": "",
           "useAggregationsUi": true,
           "valuesOptions": {},
           "version": 2,
           "xAxis": {
            "labels": {
             "enabled": true
            },
            "type": "-"
           },
           "yAxis": [
            {
             "type": "-"
            },
            {
             "opposite": true,
             "type": "-"
            }
           ]
          }
         }
        ]
       },
       "datasetPreviewNameToCmdIdMap": {},
       "diffDeletes": [],
       "diffInserts": [],
       "displayType": "redashChart",
       "error": null,
       "errorDetails": null,
       "errorSummary": null,
       "errorTraceType": null,
       "finishTime": 0,
       "globalVars": {},
       "guid": "",
       "height": "auto",
       "hideCommandCode": false,
       "hideCommandResult": false,
       "iPythonMetadata": null,
       "inputWidgets": {},
       "isLockedInExamMode": false,
       "latestAssumeRoleInfo": null,
       "latestUser": "a user",
       "latestUserId": null,
       "listResultMetadata": null,
       "metadata": {
        "byteLimit": 2048000,
        "rowLimit": 10000
       },
       "nuid": "6a47bdf2-b17a-4e20-a6b0-f3a0d38a5791",
       "origId": 0,
       "parentHierarchy": [],
       "pivotAggregation": null,
       "pivotColumns": null,
       "position": 38.5,
       "resultDbfsErrorMessage": null,
       "resultDbfsStatus": "INLINED_IN_TREE",
       "results": null,
       "showCommandTitle": false,
       "startTime": 0,
       "state": "input",
       "streamStates": {},
       "subcommandOptions": {
        "queryPlan": {
         "groups": [
          {
           "column": "mes",
           "type": "column"
          },
          {
           "column": "pag_regiao",
           "type": "column"
          }
         ],
         "selects": [
          {
           "column": "mes",
           "type": "column"
          },
          {
           "alias": "column_94587e53201",
           "args": [
            {
             "column": "media_valor_por_transacao",
             "type": "column"
            }
           ],
           "function": "SUM",
           "type": "function"
          },
          {
           "column": "pag_regiao",
           "type": "column"
          }
         ]
        }
       },
       "submitTime": 0,
       "subtype": "tableResultSubCmd.visualization",
       "tableResultIndex": 0,
       "tableResultSettingsMap": {},
       "useConsistentColors": false,
       "version": "CommandV1",
       "width": "auto",
       "workflows": null,
       "xColumns": null,
       "yColumns": null
      }
     },
     "output_type": "display_data"
    },
    {
     "output_type": "display_data",
     "data": {
      "text/plain": [
       "Databricks visualization. Run in Databricks to view."
      ]
     },
     "metadata": {
      "application/vnd.databricks.v1.subcommand+json": {
       "baseErrorDetails": null,
       "bindings": {},
       "collapsed": false,
       "command": "%sql WITH q AS (select \n  ano,\n  mes,\n  pag_idade,\n  rec_idade,\n  pag_regiao,\n  rec_regiao,\n  sum(valor) as total_valor,\n  sum(quantidade) as total_quantidade,\n  round(sum(valor) / sum(quantidade), 2) as ticket_medio,\n  min(valor / quantidade) as ticket_minimo,\n  max(valor / quantidade) as ticket_maximo,\n  avg(valor / quantidade) as ticket_medio_aritmetico,\n  percentile_approx(valor / quantidade, 0.5) as ticket_mediana,\n  percentile_approx(valor / quantidade, 0.25) as ticket_p25,\n  percentile_approx(valor / quantidade, 0.75) as ticket_p75,\n  percentile_approx(valor / quantidade, 0.75) - percentile_approx(valor / quantidade, 0.25) as ticket_iiq,\n  stddev_pop(valor / quantidade) as ticket_desvio_padrao\nfrom estatisticas_pix.gold.estatisticas_transacoes_pix\nwhere rec_regiao <> 'Nao informado'\n  and pag_regiao <> 'Nao informado'\n  and pag_idade <> 'Nao se aplica'\n  and rec_idade <> 'Nao se aplica'\n  and pag_idade <> 'Nao informado'\n  and rec_idade <> 'Nao informado'\n  and ano = 2025\ngroup by all\norder by all) SELECT `mes`,SUM(`media_valor_por_transacao`) `column_94587e53187`,`rec_regiao` FROM q GROUP BY `mes`,`rec_regiao`",
       "commandTitle": "Visualization 1",
       "commandType": "auto",
       "commandVersion": 0,
       "commentThread": [],
       "commentsVisible": false,
       "contentSha256Hex": null,
       "customPlotOptions": {
        "redashChart": [
         {
          "key": "type",
          "value": "CHART"
         },
         {
          "key": "options",
          "value": {
           "alignYAxesAtZero": true,
           "coefficient": 1,
           "columnConfigurationMap": {
            "series": {
             "column": "rec_regiao",
             "id": "column_94587e53191"
            },
            "x": {
             "column": "mes",
             "id": "column_94587e53189"
            },
            "y": [
             {
              "column": "media_valor_por_transacao",
              "id": "column_94587e53187",
              "transform": "SUM"
             }
            ]
           },
           "dateTimeFormat": "DD/MM/YYYY HH:mm",
           "direction": {
            "type": "counterclockwise"
           },
           "error_y": {
            "type": "data",
            "visible": true
           },
           "globalSeriesType": "line",
           "isAggregationOn": true,
           "legend": {
            "traceorder": "normal"
           },
           "missingValuesAsZero": true,
           "numberFormat": "0,0.[00000]",
           "percentFormat": "0[.]00%",
           "series": {
            "error_y": {
             "type": "data",
             "visible": true
            },
            "stacking": null
           },
           "seriesOptions": {
            "column_94587e53187": {
             "type": "line",
             "yAxis": 0
            },
            "column_94587e53197": {
             "type": "line",
             "yAxis": 0
            }
           },
           "showDataLabels": false,
           "sizemode": "diameter",
           "sortX": true,
           "sortY": true,
           "swappedAxes": false,
           "textFormat": "",
           "useAggregationsUi": true,
           "valuesOptions": {},
           "version": 2,
           "xAxis": {
            "labels": {
             "enabled": true
            },
            "type": "-"
           },
           "yAxis": [
            {
             "type": "-"
            },
            {
             "opposite": true,
             "type": "-"
            }
           ]
          }
         }
        ]
       },
       "datasetPreviewNameToCmdIdMap": {},
       "diffDeletes": [],
       "diffInserts": [],
       "displayType": "redashChart",
       "error": null,
       "errorDetails": null,
       "errorSummary": null,
       "errorTraceType": null,
       "finishTime": 0,
       "globalVars": {},
       "guid": "",
       "height": "auto",
       "hideCommandCode": false,
       "hideCommandResult": false,
       "iPythonMetadata": null,
       "inputWidgets": {},
       "isLockedInExamMode": false,
       "latestAssumeRoleInfo": null,
       "latestUser": "a user",
       "latestUserId": null,
       "listResultMetadata": null,
       "metadata": {
        "byteLimit": 2048000,
        "rowLimit": 10000
       },
       "nuid": "17129fcf-392d-4de7-a1f1-e4c850aa09bf",
       "origId": 0,
       "parentHierarchy": [],
       "pivotAggregation": null,
       "pivotColumns": null,
       "position": 37.5,
       "resultDbfsErrorMessage": null,
       "resultDbfsStatus": "INLINED_IN_TREE",
       "results": null,
       "showCommandTitle": false,
       "startTime": 0,
       "state": "input",
       "streamStates": {},
       "subcommandOptions": {
        "queryPlan": {
         "groups": [
          {
           "column": "mes",
           "type": "column"
          },
          {
           "column": "rec_regiao",
           "type": "column"
          }
         ],
         "selects": [
          {
           "column": "mes",
           "type": "column"
          },
          {
           "alias": "column_94587e53187",
           "args": [
            {
             "column": "media_valor_por_transacao",
             "type": "column"
            }
           ],
           "function": "SUM",
           "type": "function"
          },
          {
           "column": "rec_regiao",
           "type": "column"
          }
         ]
        }
       },
       "submitTime": 0,
       "subtype": "tableResultSubCmd.visualization",
       "tableResultIndex": 0,
       "tableResultSettingsMap": {},
       "useConsistentColors": false,
       "version": "CommandV1",
       "width": "auto",
       "workflows": null,
       "xColumns": null,
       "yColumns": null
      }
     },
     "output_type": "display_data"
    }
   ],
   "source": [
    "select \n",
    "  ano,\n",
    "  mes,\n",
    "  pag_idade,\n",
    "  rec_idade,\n",
    "  pag_regiao,\n",
    "  rec_regiao,\n",
    "  sum(valor) as total_valor,\n",
    "  sum(quantidade) as total_quantidade,\n",
    "  round(sum(valor) / sum(quantidade), 2) as ticket_medio,\n",
    "  min(valor / quantidade) as ticket_minimo,\n",
    "  max(valor / quantidade) as ticket_maximo,\n",
    "  avg(valor / quantidade) as ticket_medio_aritmetico,\n",
    "  percentile_approx(valor / quantidade, 0.5) as ticket_mediana,\n",
    "  percentile_approx(valor / quantidade, 0.25) as ticket_p25,\n",
    "  percentile_approx(valor / quantidade, 0.75) as ticket_p75,\n",
    "  percentile_approx(valor / quantidade, 0.75) - percentile_approx(valor / quantidade, 0.25) as ticket_iiq,\n",
    "  stddev_pop(valor / quantidade) as ticket_desvio_padrao\n",
    "from estatisticas_pix.gold.estatisticas_transacoes_pix\n",
    "where rec_regiao <> 'Nao informado'\n",
    "  and pag_regiao <> 'Nao informado'\n",
    "  and pag_idade <> 'Nao se aplica'\n",
    "  and rec_idade <> 'Nao se aplica'\n",
    "  and pag_idade <> 'Nao informado'\n",
    "  and rec_idade <> 'Nao informado'\n",
    "  and ano = 2025\n",
    "group by all\n",
    "order by all"
   ]
  }
 ],
 "metadata": {
  "application/vnd.databricks.v1+notebook": {
   "computePreferences": null,
   "dashboards": [],
   "environmentMetadata": {
    "base_environment": "",
    "environment_version": "3"
   },
   "inputWidgetPreferences": null,
   "language": "sql",
   "notebookMetadata": {
    "mostRecentlyExecutedCommandWithImplicitDF": {
     "commandId": 6359481105429499,
     "dataframes": [
      "_sqldf"
     ]
    },
    "pythonIndentUnit": 4
   },
   "notebookName": "Analise-Descritiva-Leo",
   "widgets": {}
  },
  "language_info": {
   "name": "sql"
  }
 },
 "nbformat": 4,
 "nbformat_minor": 0
}
