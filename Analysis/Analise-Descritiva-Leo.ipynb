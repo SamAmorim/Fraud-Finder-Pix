{
 "cells": [
  {
   "cell_type": "markdown",
   "metadata": {
    "application/vnd.databricks.v1+cell": {
     "cellMetadata": {},
     "inputWidgets": {},
     "nuid": "55114418-ae77-4711-bc51-08b7719c1bd8",
     "showTitle": false,
     "tableResultSettingsMap": {},
     "title": ""
    }
   },
   "source": [
    "# 📊 Dicionário de Dados – Estatísticas do PIX (v1)\n",
    "\n",
    "## 1️⃣ Estoque de Chaves Pix por Participante\n",
    "Estoque de chaves no último dia do mês, por PSP, segregadas por PF/PJ e tipo de chave.\n",
    "\n",
    "| Nome | Tipo | Título | Descrição |\n",
    "|------|------|-------|-----------|\n",
    "| Data | texto | Data | Data de referência do estoque de chaves |\n",
    "| ISPB | texto | ISPB | Código do Participante Pix |\n",
    "| Nome | texto | Nome do PSP | Nome do Participante Pix |\n",
    "| NaturezaUsuario | texto | Natureza do Usuário | Pessoa Física (PF) ou Jurídica (PJ) |\n",
    "| TipoChave | texto | Tipo de Chave | CPF, CNPJ, Celular, e-Mail ou Chave Aleatória |\n",
    "| qtdChaves | inteiro | Quantidade de Chaves | Estoque de chaves Pix ativas no último dia do mês |\n",
    "\n",
    "---\n",
    "\n",
    "## 2️⃣ Transações Pix por Município\n",
    "Transações liquidadas por município, PF/PJ, considerando pagador e recebedor.\n",
    "\n",
    "| Nome | Tipo | Título | Descrição |\n",
    "|------|------|-------|-----------|\n",
    "| AnoMes | inteiro | Data-base | Data-base no formato AAAAMM |\n",
    "| Municipio_Ibge | inteiro | Código Município | Código IBGE do município |\n",
    "| Municipio | texto | Município | Nome do município |\n",
    "| Estado_Ibge | inteiro | Código Estado | Código IBGE do estado |\n",
    "| Estado | texto | Estado | Nome do Estado |\n",
    "| Sigla_Regiao | texto | Sigla Região | Sigla da região |\n",
    "| Regiao | texto | Região | Região do país (Norte, Nordeste, Sul, Sudeste, Centro-Oeste) |\n",
    "| VL_PagadorPF | decimal | Valor Pagador PF | Volume financeiro em R$ das transações cujo Pagador é PF |\n",
    "| QT_PagadorPF | decimal | Qtde Transações Pagador PF | Quantidade de transações cujo Pagador é PF |\n",
    "| VL_PagadorPJ | decimal | Valor Pagador PJ | Volume financeiro em R$ das transações cujo Pagador é PJ |\n",
    "| QT_PagadorPJ | decimal | Qtde Transações Pagador PJ | Quantidade de transações cujo Pagador é PJ |\n",
    "| VL_RecebedorPF | decimal | Valor Recebedor PF | Volume financeiro em R$ das transações cujo Recebedor é PF |\n",
    "| QT_RecebedorPF | decimal | Qtde Transações Recebedor PF | Quantidade de transações cujo Recebedor é PF |\n",
    "| VL_RecebedorPJ | decimal | Valor Recebedor PJ | Volume financeiro em R$ das transações cujo Recebedor é PJ |\n",
    "| QT_RecebedorPJ | decimal | Qtde Transações Recebedor PJ | Quantidade de transações cujo Recebedor é PJ |\n",
    "| QT_PES_PagadorPF | decimal | Qtde Pagador PF | Quantidade de pagadores pessoas físicas |\n",
    "| QT_PES_PagadorPJ | decimal | Qtde Pagador PJ | Quantidade de pagadores pessoas jurídicas |\n",
    "| QT_PES_RecebedorPF | decimal | Qtde Recebedor PF | Quantidade de recebedores pessoas físicas |\n",
    "| QT_PES_RecebedorPJ | decimal | Qtde Recebedor PJ | Quantidade de recebedores pessoas jurídicas |\n",
    "\n",
    "---\n",
    "\n",
    "## 3️⃣ Estatísticas de Transações Pix\n",
    "Volume e quantidade de transações Pix liquidadas mensalmente.\n",
    "\n",
    "| Nome | Tipo | Título | Descrição |\n",
    "|------|------|-------|-----------|\n",
    "| AnoMes | inteiro | Data-base | Data-base ano/mês |\n",
    "| PAG_PFPJ | texto | Tipo de Pessoa do Pagador | PF = Pessoa Física, PJ = Pessoa Jurídica |\n",
    "| REC_PFPJ | texto | Tipo de Pessoa do Recebedor | PF = Pessoa Física, PJ = Pessoa Jurídica |\n",
    "| PAG_REGIAO | texto | Região do Pagador | Região do domicílio do usuário pagador |\n",
    "| REC_REGIAO | texto | Região do Recebedor | Região do domicílio do usuário recebedor |\n",
    "| PAG_IDADE | texto | Idade do Pagador | Idade em anos do usuário pagador |\n",
    "| REC_IDADE | texto | Idade do Recebedor | Idade em anos do usuário recebedor |\n",
    "| FORMAINICIACAO | texto | Forma de iniciação | INIC, QRES, QRDN, MANU ou DICT |\n",
    "| NATUREZA | texto | Natureza da transação | P2P, B2B, P2B, B2P, P2G, B2G |\n",
    "| FINALIDADE | texto | Finalidade da Transação | Transferência, saque ou troco |\n",
    "| VALOR | decimal | Valor Transações Pix | Volume financeiro de transações Pix liquidadas |\n",
    "| QUANTIDADE | decimal | Quantidade Total Transações Pix | Quantidade de transações Pix liquidadas |\n",
    "\n",
    "\n",
    "## 4️⃣ Glossário de Siglas e Termos do PIX (Destacando Palavras-chave)\n",
    "\n",
    "| Sigla / Termo | Explicação Simples |\n",
    "|---------------|------------------|\n",
    "| **PIX** | Sistema de **pagamentos instantâneos** do Brasil, usado para transferir dinheiro rapidamente entre **pessoas** ou **empresas**. |\n",
    "| **PSP** | **Prestador de Serviços de Pagamento**: bancos e fintechs que participam do sistema PIX. |\n",
    "| **PF** | **Pessoa Física** — qualquer **indivíduo** que usa PIX para transferências ou pagamentos. |\n",
    "| **PJ** | **Pessoa Jurídica** — **empresa** ou **organização** que usa PIX. |\n",
    "| **ISPB** | **Código único** que identifica cada **banco** ou **instituição participante** do PIX. |\n",
    "| **Chave Pix** | Identificador usado para **receber dinheiro** pelo PIX. Pode ser **CPF**, **CNPJ**, **celular**, **e-mail** ou uma **chave aleatória**. |\n",
    "| **OData** | **Protocolo** que permite consultar **dados** de forma organizada, usando **filtros**, **ordenação** e **paginação**. |\n",
    "| **Data-base / Data** | **Mês e ano** que servem como referência para os **dados** ou **estatísticas**. |\n",
    "| **AnoMes** | Combinação de **ano** e **mês** no formato **AAAAMM**. Ex: 202309 = setembro de 2023. |\n",
    "| **VL_PagadorPF** | **Valor total** de dinheiro enviado por **pessoas físicas**. |\n",
    "| **QT_PagadorPF** | **Quantidade de transações** realizadas por **pessoas físicas**. |\n",
    "| **VL_PagadorPJ** | **Valor total** de dinheiro enviado por **pessoas jurídicas**. |\n",
    "| **QT_PagadorPJ** | **Quantidade de transações** realizadas por **pessoas jurídicas**. |\n",
    "| **VL_RecebedorPF** | **Valor total recebido** por **pessoas físicas**. |\n",
    "| **QT_RecebedorPF** | **Quantidade de transações recebidas** por **pessoas físicas**. |\n",
    "| **VL_RecebedorPJ** | **Valor total recebido** por **pessoas jurídicas**. |\n",
    "| **QT_RecebedorPJ** | **Quantidade de transações recebidas** por **pessoas jurídicas**. |\n",
    "| **QT_PES_PagadorPF** | **Quantidade de pagadores únicos** que são **pessoas físicas**. |\n",
    "| **QT_PES_PagadorPJ** | **Quantidade de pagadores únicos** que são **pessoas jurídicas**. |\n",
    "| **QT_PES_RecebedorPF** | **Quantidade de recebedores únicos** que são **pessoas físicas**. |\n",
    "| **QT_PES_RecebedorPJ** | **Quantidade de recebedores únicos** que são **pessoas jurídicas**. |\n",
    "| **NATUREZA** | **Tipo de transação**: <br>• **P2P** – Pessoa para Pessoa <br>• **B2B** – Empresa para Empresa <br>• **P2B** – Pessoa para Empresa <br>• **B2P** – Empresa para Pessoa <br>• **P2G** – Pessoa para Governo <br>• **B2G** – Empresa para Governo |\n",
    "| **FINALIDADE** | **Motivo da transação**: **transferência**, **saque** ou **troco**. |\n",
    "| **FORMAINICIACAO** | **Como a transação começou**: <br>• **INIC** – iniciador com dados do recebedor <br>• **QRES** – QR Code estático <br>• **QRDN** – QR Code dinâmico <br>• **MANU** – inserção manual <br>• **DICT** – uso de chave Pix |\n",
    "| **PAG_PFPJ** | Tipo de **pessoa do pagador**: **PF** ou **PJ**. |\n",
    "| **REC_PFPJ** | Tipo de **pessoa do recebedor**: **PF** ou **PJ**. |\n",
    "| **PAG_REGIAO** | **Região do Brasil** do domicílio do pagador. |\n",
    "| **REC_REGIAO** | **Região do Brasil** do domicílio do recebedor. |\n",
    "| **Regiao / Sigla_Regiao** | **Região geográfica** do país: **Norte**, **Nordeste**, **Sul**, **Sudeste** ou **Centro-Oeste**. |\n",
    "| **Municipio_Ibge** | **Código do município** segundo o IBGE. |\n",
    "| **Estado_Ibge** | **Código do estado** segundo o IBGE. |\n",
    "| **Municipio / Estado** | Nome do **município** ou **estado** onde a transação ocorreu. |\n",
    "| **TipoChave** | Tipo de **chave Pix**: **CPF**, **CNPJ**, **Celular**, **e-Mail** ou **Chave Aleatória**. |\n",
    "| **qtdChaves** | **Quantidade de chaves** ativas para um PSP em determinado mês. |\n",
    "| **$format / $select / $filter / $orderby / $skip / $top** | **Parâmetros do OData**: escolher **formato**, selecionar **colunas**, **filtrar**, **ordenar**, **pular registros** ou **limitar quantidade retornada**. |\n",
    "\n"
   ]
  },
  {
   "cell_type": "code",
   "execution_count": 0,
   "metadata": {
    "application/vnd.databricks.v1+cell": {
     "cellMetadata": {
      "byteLimit": 2048000,
      "rowLimit": 10000
     },
     "inputWidgets": {},
     "nuid": "8fc6a5ce-5b43-4b26-8d1c-cc655cf3df98",
     "showTitle": false,
     "tableResultSettingsMap": {
      "0": {
       "dataGridStateBlob": "{\"version\":1,\"tableState\":{\"columnPinning\":{\"left\":[\"#row_number#\"],\"right\":[]},\"columnSizing\":{},\"columnVisibility\":{}},\"settings\":{\"columns\":{}},\"syncTimestamp\":1757782115380}",
       "filterBlob": null,
       "queryPlanFiltersBlob": null,
       "tableResultIndex": 0
      }
     },
     "title": ""
    }
   },
   "outputs": [
    {
     "output_type": "display_data",
     "data": {
      "text/plain": [
       "Databricks visualization. Run in Databricks to view."
      ]
     },
     "metadata": {
      "application/vnd.databricks.v1.subcommand+json": {
       "baseErrorDetails": null,
       "bindings": {},
       "collapsed": false,
       "command": "%sql WITH q AS (SELECT distinct Nome,       \n       Data,\n       sum(qtdChaves)as Total_de_chaves\n       \nFROM estatisticas_pix.gold.chaves_pix\nWHERE DATA ='2025-08-31' and NaturezaUsuario = 'PF'\ngroup by nome,\n          data\n          \norder by Total_de_chaves DESC\nlimit 10) SELECT `Nome`,`Nome`,SUM(`Total_de_chaves`) `column_72c92a1925` FROM q GROUP BY `Nome`",
       "commandTitle": "Visualization 1",
       "commandType": "auto",
       "commandVersion": 0,
       "commentThread": [],
       "commentsVisible": false,
       "contentSha256Hex": null,
       "customPlotOptions": {
        "redashChart": [
         {
          "key": "type",
          "value": "CHART"
         },
         {
          "key": "options",
          "value": {
           "alignYAxesAtZero": true,
           "coefficient": 1,
           "columnConfigurationMap": {
            "series": {
             "column": "Nome",
             "id": "column_72c92a1931"
            },
            "x": {
             "column": "Nome",
             "id": "column_72c92a1929"
            },
            "y": [
             {
              "column": "Total_de_chaves",
              "id": "column_72c92a1925",
              "transform": "SUM"
             }
            ]
           },
           "dateTimeFormat": "DD/MM/YYYY HH:mm",
           "direction": {
            "type": "counterclockwise"
           },
           "error_y": {
            "type": "data",
            "visible": true
           },
           "globalSeriesType": "column",
           "hideYAxes": false,
           "isAggregationOn": true,
           "legend": {
            "enabled": false,
            "traceorder": "normal"
           },
           "missingValuesAsZero": true,
           "numberFormat": "0,0.[00000]",
           "percentFormat": "0[.]00%",
           "reverseX": false,
           "series": {
            "error_y": {
             "type": "data",
             "visible": true
            },
            "percentValues": false,
            "stacking": null
           },
           "seriesOptions": {
            "BANCO INTER": {
             "type": "column",
             "yAxis": 0,
             "zIndex": 1
            },
            "BCO BRADESCO S.A.": {
             "color": "#F72585",
             "type": "column",
             "yAxis": 0,
             "zIndex": 2
            },
            "BCO DO BRASIL S.A.": {
             "color": "#FFAB00",
             "type": "column",
             "yAxis": 0,
             "zIndex": 3
            },
            "BCO SANTANDER (BRASIL) S.A.": {
             "color": "#FF3621",
             "type": "column",
             "yAxis": 0,
             "zIndex": 4
            },
            "CAIXA ECONOMICA FEDERAL": {
             "color": "#1E6091",
             "type": "column",
             "yAxis": 0,
             "zIndex": 5
            },
            "ITAÚ UNIBANCO S.A.": {
             "color": "#0D47A1",
             "type": "column",
             "yAxis": 0,
             "zIndex": 6
            },
            "MERCADO PAGO IP LTDA.": {
             "color": "#FFEA00",
             "type": "column",
             "yAxis": 0,
             "zIndex": 7
            },
            "NU PAGAMENTOS - IP": {
             "color": "#560BAD",
             "type": "column",
             "yAxis": 0,
             "zIndex": 0
            },
            "PAGSEGURO INTERNET IP S.A.": {
             "type": "column",
             "yAxis": 0,
             "zIndex": 8
            },
            "PICPAY": {
             "color": "#00A972",
             "type": "column",
             "yAxis": 0,
             "zIndex": 9
            },
            "column_72c92a1919": {
             "name": "Total_de_chaves",
             "type": "column",
             "yAxis": 0
            },
            "column_72c92a1925": {
             "type": "column",
             "yAxis": 0
            }
           },
           "showDataLabels": true,
           "sizemode": "diameter",
           "sortX": false,
           "sortY": true,
           "swappedAxes": true,
           "textFormat": "",
           "useAggregationsUi": true,
           "valuesOptions": {},
           "version": 2,
           "xAxis": {
            "labels": {
             "enabled": true
            },
            "title": {
             "text": "Entidades Bancárias"
            },
            "type": "category"
           },
           "yAxis": [
            {
             "title": {
              "text": "Total de Chaves PF"
             },
             "type": "-"
            },
            {
             "opposite": true,
             "title": {
              "text": null
             },
             "type": "-"
            }
           ]
          }
         }
        ]
       },
       "datasetPreviewNameToCmdIdMap": {},
       "diffDeletes": [],
       "diffInserts": [],
       "displayType": "redashChart",
       "error": null,
       "errorDetails": null,
       "errorSummary": null,
       "errorTraceType": null,
       "finishTime": 0,
       "globalVars": {},
       "guid": "",
       "height": "auto",
       "hideCommandCode": false,
       "hideCommandResult": false,
       "iPythonMetadata": null,
       "inputWidgets": {},
       "isLockedInExamMode": false,
       "latestAssumeRoleInfo": null,
       "latestUser": "a user",
       "latestUserId": null,
       "listResultMetadata": null,
       "metadata": {},
       "nuid": "8509e7dc-7fe1-42dd-b776-60648748dfd8",
       "origId": 0,
       "parentHierarchy": [],
       "pivotAggregation": null,
       "pivotColumns": null,
       "position": 3.0,
       "resultDbfsErrorMessage": null,
       "resultDbfsStatus": "INLINED_IN_TREE",
       "results": null,
       "showCommandTitle": false,
       "startTime": 0,
       "state": "input",
       "streamStates": {},
       "subcommandOptions": {
        "queryPlan": {
         "groups": [
          {
           "column": "Nome",
           "type": "column"
          },
          {
           "column": "Nome",
           "type": "column"
          }
         ],
         "selects": [
          {
           "column": "Nome",
           "type": "column"
          },
          {
           "column": "Nome",
           "type": "column"
          },
          {
           "alias": "column_72c92a1925",
           "args": [
            {
             "column": "Total_de_chaves",
             "type": "column"
            }
           ],
           "function": "SUM",
           "type": "function"
          }
         ]
        }
       },
       "submitTime": 0,
       "subtype": "tableResultSubCmd.visualization",
       "tableResultIndex": 0,
       "tableResultSettingsMap": {},
       "useConsistentColors": false,
       "version": "CommandV1",
       "width": "auto",
       "workflows": null,
       "xColumns": null,
       "yColumns": null
      }
     },
     "output_type": "display_data"
    }
   ],
   "source": [
    "--Top 10 Bancos com mais\n",
    "SELECT distinct Nome,       \n",
    "       Data,\n",
    "       sum(qtdChaves)as Total_de_chaves\n",
    "       \n",
    "FROM estatisticas_pix.gold.chaves_pix\n",
    "WHERE DATA ='2025-08-31' and NaturezaUsuario = 'PF'\n",
    "group by nome,\n",
    "          data\n",
    "          \n",
    "order by Total_de_chaves DESC\n",
    "limit 10"
   ]
  },
  {
   "cell_type": "code",
   "execution_count": 0,
   "metadata": {
    "application/vnd.databricks.v1+cell": {
     "cellMetadata": {
      "byteLimit": 2048000,
      "rowLimit": 10000
     },
     "inputWidgets": {},
     "nuid": "17375e5a-7c50-4140-bb26-218df95afb91",
     "showTitle": false,
     "tableResultSettingsMap": {},
     "title": ""
    }
   },
   "outputs": [
    {
     "output_type": "display_data",
     "data": {
      "text/plain": [
       "Databricks visualization. Run in Databricks to view."
      ]
     },
     "metadata": {
      "application/vnd.databricks.v1.subcommand+json": {
       "baseErrorDetails": null,
       "bindings": {},
       "collapsed": false,
       "command": "%sql WITH q AS (SELECT distinct Nome,       \n       Data,\n       sum(qtdChaves)as Total_de_chaves\n       \nFROM estatisticas_pix.gold.chaves_pix\nWHERE DATA ='2025-08-31' and NaturezaUsuario = 'PJ'\ngroup by nome,\n          data\n          \norder by Total_de_chaves DESC\nlimit 10) SELECT `Data`,`Nome`,SUM(`Total_de_chaves`) `column_72c92a1937` FROM q GROUP BY `Data`,`Nome`",
       "commandTitle": "Visualization 1",
       "commandType": "auto",
       "commandVersion": 0,
       "commentThread": [],
       "commentsVisible": false,
       "contentSha256Hex": null,
       "customPlotOptions": {
        "redashChart": [
         {
          "key": "type",
          "value": "CHART"
         },
         {
          "key": "options",
          "value": {
           "alignYAxesAtZero": true,
           "coefficient": 1,
           "columnConfigurationMap": {
            "series": {
             "column": "Nome",
             "id": "column_72c92a1962"
            },
            "x": {
             "column": "Nome",
             "id": "column_72c92a1960"
            },
            "y": [
             {
              "column": "Total_de_chaves",
              "id": "column_72c92a1948",
              "transform": "SUM"
             }
            ]
           },
           "dateTimeFormat": "DD/MM/YYYY HH:mm",
           "direction": {
            "type": "counterclockwise"
           },
           "error_y": {
            "type": "data",
            "visible": true
           },
           "globalSeriesType": "column",
           "hideXAxis": false,
           "hideYAxes": false,
           "isAggregationOn": true,
           "legend": {
            "enabled": false,
            "traceorder": "normal"
           },
           "missingValuesAsZero": true,
           "numberFormat": "0,0.[00000]",
           "percentFormat": "0[.]00%",
           "reverseX": false,
           "series": {
            "error_y": {
             "type": "data",
             "visible": true
            },
            "percentValues": false,
            "stacking": ""
           },
           "seriesOptions": {
            "column_72c92a1937": {
             "name": "Total_de_chaves",
             "type": "column",
             "yAxis": 0
            },
            "column_72c92a1948": {
             "type": "column",
             "yAxis": 0
            }
           },
           "showDataLabels": true,
           "sizemode": "diameter",
           "sortX": false,
           "sortY": true,
           "swappedAxes": true,
           "textFormat": "",
           "useAggregationsUi": true,
           "valuesOptions": {},
           "version": 2,
           "xAxis": {
            "labels": {
             "enabled": true
            },
            "title": {
             "text": "Entidades bancárias"
            },
            "type": "category"
           },
           "yAxis": [
            {
             "title": {
              "text": "Total de Chaves PJ"
             },
             "type": "-"
            },
            {
             "opposite": true,
             "type": "-"
            }
           ]
          }
         }
        ]
       },
       "datasetPreviewNameToCmdIdMap": {},
       "diffDeletes": [],
       "diffInserts": [],
       "displayType": "redashChart",
       "error": null,
       "errorDetails": null,
       "errorSummary": null,
       "errorTraceType": null,
       "finishTime": 0,
       "globalVars": {},
       "guid": "",
       "height": "auto",
       "hideCommandCode": false,
       "hideCommandResult": false,
       "iPythonMetadata": null,
       "inputWidgets": {},
       "isLockedInExamMode": false,
       "latestAssumeRoleInfo": null,
       "latestUser": "a user",
       "latestUserId": null,
       "listResultMetadata": null,
       "metadata": {},
       "nuid": "8210eec5-5a6d-49ab-9484-255f95668bed",
       "origId": 0,
       "parentHierarchy": [],
       "pivotAggregation": null,
       "pivotColumns": null,
       "position": 6.0,
       "resultDbfsErrorMessage": null,
       "resultDbfsStatus": "INLINED_IN_TREE",
       "results": null,
       "showCommandTitle": false,
       "startTime": 0,
       "state": "input",
       "streamStates": {},
       "subcommandOptions": {
        "queryPlan": {
         "groups": [
          {
           "column": "Nome",
           "type": "column"
          },
          {
           "column": "Nome",
           "type": "column"
          }
         ],
         "selects": [
          {
           "column": "Nome",
           "type": "column"
          },
          {
           "column": "Nome",
           "type": "column"
          },
          {
           "alias": "column_72c92a1948",
           "args": [
            {
             "column": "Total_de_chaves",
             "type": "column"
            }
           ],
           "function": "SUM",
           "type": "function"
          }
         ]
        }
       },
       "submitTime": 0,
       "subtype": "tableResultSubCmd.visualization",
       "tableResultIndex": 0,
       "tableResultSettingsMap": {},
       "useConsistentColors": false,
       "version": "CommandV1",
       "width": "auto",
       "workflows": null,
       "xColumns": null,
       "yColumns": null
      }
     },
     "output_type": "display_data"
    }
   ],
   "source": [
    "SELECT distinct Nome,       \n",
    "       Data,\n",
    "       sum(qtdChaves)as Total_de_chaves\n",
    "       \n",
    "FROM estatisticas_pix.gold.chaves_pix\n",
    "WHERE DATA ='2025-08-31' and NaturezaUsuario = 'PJ'\n",
    "group by nome,\n",
    "         Data    \n",
    "          \n",
    "order by Total_de_chaves DESC\n",
    "limit 10\n",
    "\n",
    "\n",
    "\n",
    "\n",
    "\n",
    " (SELECT SUM(Vl_pagadorPF)/VL_PagadorPF\n",
    "        FROM estatisticas_pix.gold.transacoes_municipio_pix \n",
    "        GROUP BY VL_PagadorPF        \n",
    "        ) as Total_de_Valores_Pagos_PF  "
   ]
  },
  {
   "cell_type": "code",
   "execution_count": 0,
   "metadata": {
    "application/vnd.databricks.v1+cell": {
     "cellMetadata": {
      "byteLimit": 2048000,
      "rowLimit": 10000
     },
     "inputWidgets": {},
     "nuid": "901d9e64-ec81-4efd-bbe1-cec5f2b3a21d",
     "showTitle": false,
     "tableResultSettingsMap": {},
     "title": ""
    }
   },
   "outputs": [],
   "source": [
    "\n",
    "WITH tb_freq as(\n",
    "SELECT NaturezaUsuario, \n",
    "      TipoChave,\n",
    "      count (*)as freq_absoluta\n",
    "FROM estatisticas_pix.gold.chaves_pix\n",
    "WHERE NaturezaUsuario =  'PF'\n",
    "GROUP BY ALL\n",
    "ORDER BY freq_absoluta desc\n",
    ")\n",
    "SELECT NaturezaUsuario,\n",
    "       TipoChave,\n",
    "       freq_absoluta,\n",
    "       round(freq_absoluta / (select sum(freq_absoluta) from tb_freq),4) as freq_relativa,\n",
    "       sum(round(freq_absoluta / (select sum(freq_absoluta) from tb_freq),4)) OVER (ORDER BY freq_absoluta desc) AS freq_acumulada\n",
    "FROM tb_freq\n",
    "\n",
    "\n"
   ]
  },
  {
   "cell_type": "code",
   "execution_count": 0,
   "metadata": {
    "application/vnd.databricks.v1+cell": {
     "cellMetadata": {
      "byteLimit": 2048000,
      "rowLimit": 10000
     },
     "inputWidgets": {},
     "nuid": "e673f00a-c809-47c0-a617-0e4eba0ff342",
     "showTitle": false,
     "tableResultSettingsMap": {},
     "title": ""
    }
   },
   "outputs": [],
   "source": [
    "\n",
    "WITH tb_freq as(\n",
    "\n",
    "SELECT NaturezaUsuario,\n",
    "      TipoChave,\n",
    "      count (*)as freq_absoluta\n",
    "FROM estatisticas_pix.gold.chaves_pix\n",
    "WHERE NaturezaUsuario =  'PJ'\n",
    "GROUP BY ALL\n",
    "ORDER BY freq_absoluta desc\n",
    ")\n",
    "SELECT NaturezaUsuario,\n",
    "       TipoChave,\n",
    "       freq_absoluta,\n",
    "       round(freq_absoluta / (select sum(freq_absoluta) from tb_freq),4) as freq_relativa,\n",
    "       sum(round(freq_absoluta / (select sum(freq_absoluta) from tb_freq),4)) OVER (ORDER BY freq_absoluta desc) AS freq_acumulada\n",
    "FROM tb_freq\n"
   ]
  },
  {
   "cell_type": "code",
   "execution_count": 0,
   "metadata": {
    "application/vnd.databricks.v1+cell": {
     "cellMetadata": {
      "byteLimit": 2048000,
      "rowLimit": 10000
     },
     "inputWidgets": {},
     "nuid": "e88ae58c-fe49-495b-9d91-b12fdd425a3c",
     "showTitle": false,
     "tableResultSettingsMap": {
      "0": {
       "dataGridStateBlob": "{\"version\":1,\"tableState\":{\"columnPinning\":{\"left\":[\"#row_number#\"],\"right\":[]},\"columnSizing\":{},\"columnVisibility\":{}},\"settings\":{\"columns\":{}},\"syncTimestamp\":1757794201252}",
       "filterBlob": null,
       "queryPlanFiltersBlob": null,
       "tableResultIndex": 0
      }
     },
     "title": ""
    }
   },
   "outputs": [],
   "source": [
    "--Estados com maior acumulo de pix em 2025\n",
    "select Ano,\n",
    "       Estado,\n",
    "       Sum(VL_PagadorPF) as Valor_PagadorPF,\n",
    "       ROUND(AVG(VL_PagadorPF),2) as Media_Valor_PagadorPF,\n",
    "       ROUND(MEDIAN(VL_PagadorPF),2) as Mediana_Valor_PagadorPF           \n",
    "from estatisticas_pix.gold.transacoes_municipio_pix\n",
    "where ANO = 2025\n",
    "group BY Ano,\n",
    "         Estado\n",
    "order by Valor_PagadorPF  desc\n",
    "limit 5"
   ]
  }
 ],
 "metadata": {
  "application/vnd.databricks.v1+notebook": {
   "computePreferences": null,
   "dashboards": [],
   "environmentMetadata": {
    "base_environment": "",
    "environment_version": "3"
   },
   "inputWidgetPreferences": null,
   "language": "sql",
   "notebookMetadata": {
    "mostRecentlyExecutedCommandWithImplicitDF": {
     "commandId": 6359481105429499,
     "dataframes": [
      "_sqldf"
     ]
    },
    "pythonIndentUnit": 4
   },
   "notebookName": "Analise-Descritiva-Leo",
   "widgets": {}
  },
  "language_info": {
   "name": "sql"
  }
 },
 "nbformat": 4,
 "nbformat_minor": 0
}
