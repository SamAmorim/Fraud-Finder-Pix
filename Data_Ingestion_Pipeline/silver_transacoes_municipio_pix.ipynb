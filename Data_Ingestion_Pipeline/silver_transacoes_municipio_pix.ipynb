{
 "cells": [
  {
   "cell_type": "code",
   "execution_count": 0,
   "metadata": {
    "application/vnd.databricks.v1+cell": {
     "cellMetadata": {
      "byteLimit": 2048000,
      "rowLimit": 10000
     },
     "inputWidgets": {},
     "nuid": "f2e72793-92bb-4ac4-8ce2-606fffaeb7aa",
     "showTitle": false,
     "tableResultSettingsMap": {
      "0": {
       "dataGridStateBlob": "{\"version\":1,\"tableState\":{\"columnPinning\":{\"left\":[\"#row_number#\"],\"right\":[]},\"columnSizing\":{},\"columnVisibility\":{}},\"settings\":{\"columns\":{}},\"syncTimestamp\":1757721656028}",
       "filterBlob": null,
       "queryPlanFiltersBlob": null,
       "tableResultIndex": 0
      }
     },
     "title": ""
    }
   },
   "outputs": [],
   "source": [
    "CREATE OR REPLACE VIEW estatisticas_pix.silver.transacoes_municipio_pix AS\n",
    "SELECT DISTINCT \n",
    "  SMALLINT(substr(AnoMes,0,4)) as Ano,\n",
    "  SMALLINT(substr(AnoMes,5,7)) as Mes,\n",
    "  Estado_Ibge,\n",
    "  Estado,\n",
    "  Sigla_Regiao,\n",
    "  Regiao,\n",
    "  Municipio_Ibge,\n",
    "  Municipio,\n",
    "  -- Pagador\n",
    "  QT_PES_PagadorPF,\n",
    "  VL_PagadorPF,\n",
    "  QT_PagadorPF,\n",
    "  QT_PES_PagadorPJ,\n",
    "  VL_PagadorPJ,\n",
    "  QT_PagadorPJ,\n",
    "  -- Recebedor\n",
    "  QT_PES_RecebedorPF,\n",
    "  VL_RecebedorPF,\n",
    "  QT_RecebedorPF,\n",
    "  QT_PES_RecebedorPJ,\n",
    "  VL_RecebedorPJ,\n",
    "  QT_RecebedorPJ\n",
    "from estatisticas_pix.copper.transacoes_municipio_pix"
   ]
  }
 ],
 "metadata": {
  "application/vnd.databricks.v1+notebook": {
   "computePreferences": null,
   "dashboards": [],
   "environmentMetadata": {
    "base_environment": "",
    "environment_version": "3"
   },
   "inputWidgetPreferences": null,
   "language": "sql",
   "notebookMetadata": {
    "pythonIndentUnit": 4
   },
   "notebookName": "silver_transacoes_municipio_pix",
   "widgets": {}
  },
  "language_info": {
   "name": "sql"
  }
 },
 "nbformat": 4,
 "nbformat_minor": 0
}
