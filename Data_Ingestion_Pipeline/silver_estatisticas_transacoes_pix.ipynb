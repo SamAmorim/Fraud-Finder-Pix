{
 "cells": [
  {
   "cell_type": "code",
   "execution_count": 0,
   "metadata": {
    "application/vnd.databricks.v1+cell": {
     "cellMetadata": {
      "byteLimit": 2048000,
      "rowLimit": 10000
     },
     "inputWidgets": {},
     "nuid": "f2e72793-92bb-4ac4-8ce2-606fffaeb7aa",
     "showTitle": false,
     "tableResultSettingsMap": {
      "0": {
       "dataGridStateBlob": "{\"version\":1,\"tableState\":{\"columnPinning\":{\"left\":[\"#row_number#\"],\"right\":[]},\"columnSizing\":{},\"columnVisibility\":{}},\"settings\":{\"columns\":{}},\"syncTimestamp\":1757721656028}",
       "filterBlob": null,
       "queryPlanFiltersBlob": null,
       "tableResultIndex": 0
      }
     },
     "title": ""
    }
   },
   "outputs": [],
   "source": [
    "CREATE OR REPLACE VIEW estatisticas_pix.silver.estatisticas_transacoes_pix AS\n",
    "SELECT DISTINCT \n",
    "  SMALLINT(substr(AnoMes,0,4)) as Ano,\n",
    "  SMALLINT(substr(AnoMes,5,7)) as Mes,\n",
    "  FINALIDADE,\n",
    "  FORMAINICIACAO,\n",
    "  NATUREZA,\n",
    "  PAG_IDADE,\n",
    "  REC_IDADE,\n",
    "  PAG_PFPJ,\n",
    "  REC_PFPJ,\n",
    "  PAG_REGIAO,\n",
    "  REC_REGIAO,\n",
    "  QUANTIDADE,\n",
    "  VALOR \n",
    "from estatisticas_pix.copper.estatisticas_transacoes_pix"
   ]
  }
 ],
 "metadata": {
  "application/vnd.databricks.v1+notebook": {
   "computePreferences": null,
   "dashboards": [],
   "environmentMetadata": {
    "base_environment": "",
    "environment_version": "3"
   },
   "inputWidgetPreferences": null,
   "language": "sql",
   "notebookMetadata": {
    "pythonIndentUnit": 4
   },
   "notebookName": "silver_estatisticas_transacoes_pix",
   "widgets": {}
  },
  "language_info": {
   "name": "sql"
  }
 },
 "nbformat": 4,
 "nbformat_minor": 0
}
