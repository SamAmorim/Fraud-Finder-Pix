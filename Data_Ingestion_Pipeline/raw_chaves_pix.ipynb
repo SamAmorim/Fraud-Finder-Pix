{
 "cells": [
  {
   "cell_type": "code",
   "execution_count": 0,
   "metadata": {
    "application/vnd.databricks.v1+cell": {
     "cellMetadata": {
      "byteLimit": 2048000,
      "rowLimit": 10000
     },
     "inputWidgets": {},
     "nuid": "5a3d4043-474c-4e1c-b15f-e4efa62edb8d",
     "showTitle": false,
     "tableResultSettingsMap": {},
     "title": ""
    }
   },
   "outputs": [],
   "source": [
    "import requests\n",
    "from datetime import datetime, timedelta\n",
    "from time import sleep\n",
    "from pyspark.sql import SparkSession\n",
    "from pyspark.sql.types import StructType, StructField, StringType, IntegerType, DateType\n",
    "\n",
    "\n",
    "spark = SparkSession.builder.getOrCreate()\n",
    "\n",
    "BASE = \"https://olinda.bcb.gov.br/olinda/servico/Pix_DadosAbertos/versao/v1/odata\"\n",
    "\n",
    "schema = StructType([\n",
    "    StructField(\"Data\", StringType(), True),\n",
    "    StructField(\"ISPB\", StringType(), True),\n",
    "    StructField(\"Nome\", StringType(), True),\n",
    "    StructField(\"NaturezaUsuario\", StringType(), True),\n",
    "    StructField(\"TipoChave\", StringType(), True),\n",
    "    StructField(\"qtdChaves\", IntegerType(), True)\n",
    "])\n",
    "def fetch_chaves_pix(date_str):\n",
    "    all_data = []\n",
    "    url = f\"{BASE}/ChavesPix(Data=@Data)?@Data='{date_str}'&$format=json\"\n",
    "    \n",
    "    while url:\n",
    "        try:\n",
    "            r = requests.get(url)\n",
    "            r.raise_for_status()\n",
    "            response_json = r.json()\n",
    "            data = response_json.get('value', [])\n",
    "            all_data.extend(data)\n",
    "            url = response_json.get('@odata.nextLink')\n",
    "        except requests.exceptions.RequestException as e:\n",
    "            print(f\"Erro na requisição: {e}\")\n",
    "            url = None\n",
    "            sleep(5)\n",
    "\n",
    "    return all_data\n",
    "\n",
    "\n",
    "start_date = datetime(2023, 1, 1)\n",
    "end_date = datetime(2024, 12, 31)\n",
    "delta = timedelta(days=7)  \n",
    "\n",
    "current_date = start_date\n",
    "while current_date <= end_date:\n",
    "    block_end = min(current_date + delta - timedelta(days=1), end_date)\n",
    "    print(f\"Processando de {current_date.date()} até {block_end.date()}\")\n",
    "\n",
    " \n",
    "    bloco_dados = []\n",
    "    temp_date = current_date\n",
    "    while temp_date <= block_end:\n",
    "        date_str = temp_date.strftime(\"%Y-%m-%d\")\n",
    "        try:\n",
    "            data = fetch_chaves_pix(date_str)\n",
    "            if data:\n",
    "                bloco_dados.extend(data)\n",
    "                print(f\"{len(data)} registros coletados para {date_str}\")\n",
    "            else:\n",
    "                print(f\"Nenhum registro para {date_str}\")\n",
    "        except Exception as e:\n",
    "            print(f\"Erro em {date_str}: {e}\")\n",
    "        temp_date += timedelta(days=1)\n",
    "        sleep(1)\n",
    "\n",
    "\n",
    "    if bloco_dados:\n",
    "        df_spark = spark.createDataFrame(bloco_dados, schema=schema)\n",
    "        df_spark.write.format(\"delta\").mode(\"append\").saveAsTable(\"estatisticas_pix.raw_data.chaves_pix\")\n",
    "        print(f\"Bloco salvo com sucesso: {len(bloco_dados)} registros\")\n",
    "    \n",
    "    # Limpa memória\n",
    "    del bloco_dados\n",
    "    sleep(2)\n",
    "    \n",
    "    current_date = block_end + timedelta(days=1)\n"
   ]
  }
 ],
 "metadata": {
  "application/vnd.databricks.v1+notebook": {
   "computePreferences": null,
   "dashboards": [],
   "environmentMetadata": {
    "base_environment": "",
    "environment_version": "3"
   },
   "inputWidgetPreferences": null,
   "language": "python",
   "notebookMetadata": {
    "mostRecentlyExecutedCommandWithImplicitDF": {
     "commandId": 4764964360840355,
     "dataframes": [
      "_sqldf"
     ]
    },
    "pythonIndentUnit": 4
   },
   "notebookName": "raw_chaves_pix",
   "widgets": {}
  },
  "language_info": {
   "name": "python"
  }
 },
 "nbformat": 4,
 "nbformat_minor": 0
}
