{
 "cells": [
  {
   "cell_type": "code",
   "execution_count": 0,
   "metadata": {
    "application/vnd.databricks.v1+cell": {
     "cellMetadata": {
      "byteLimit": 2048000,
      "implicitDf": true,
      "rowLimit": 10000
     },
     "inputWidgets": {},
     "nuid": "b48d2afd-eab2-440d-833a-c441f3c24388",
     "showTitle": false,
     "tableResultSettingsMap": {},
     "title": ""
    }
   },
   "outputs": [],
   "source": [
    "%sql\n",
    "CREATE OR REPLACE VIEW transacoes_db.gold.dimensao_cliente as \n",
    "select \n",
    "  clientes.id,\n",
    "  clientes.nome,\n",
    "  clientes.registro_nacional,\n",
    "  clientes.nascido_em,\n",
    "  clientes.idade,\n",
    "  naturezas.id as id_natureza,\n",
    "  naturezas.nome as natureza,\n",
    "  enderecos.id_municipio,\n",
    "  enderecos.bairro,\n",
    "  enderecos.cep,\n",
    "  enderecos.complemento,\n",
    "  enderecos.logradouro,\n",
    "  enderecos.numero \n",
    "from transacoes_db.silver.clientes clientes\n",
    "JOIN transacoes_db.silver.naturezas naturezas ON naturezas.id = clientes.id_natureza\n",
    "JOIN transacoes_db.silver.enderecos enderecos ON enderecos.id_cliente = clientes.id"
   ]
  },
  {
   "cell_type": "code",
   "execution_count": 0,
   "metadata": {
    "application/vnd.databricks.v1+cell": {
     "cellMetadata": {
      "byteLimit": 2048000,
      "rowLimit": 10000
     },
     "inputWidgets": {},
     "nuid": "18a18977-2511-4b52-a5d2-39fcec408f89",
     "showTitle": false,
     "tableResultSettingsMap": {},
     "title": ""
    }
   },
   "outputs": [],
   "source": [
    "CREATE OR REPLACE VIEW transacoes_db.gold.dimensao_contas as \n",
    "SELECT \n",
    "  contas.id,\n",
    "  contas.saldo,\n",
    "  contas.aberta_em,\n",
    "  contas.agencia,\n",
    "  contas.numero,\n",
    "  contas.id_cliente,\n",
    "  contas.ispb_instituicao,\n",
    "  contas.tempo_conta_ativa_d,\n",
    "  tipos_conta.nome as tipo_conta\n",
    "from transacoes_db.silver.contas \n",
    "JOIN transacoes_db.silver.tipos_conta on tipos_conta.id = contas.id_tipo_conta"
   ]
  },
  {
   "cell_type": "code",
   "execution_count": 0,
   "metadata": {
    "application/vnd.databricks.v1+cell": {
     "cellMetadata": {
      "byteLimit": 2048000,
      "rowLimit": 10000
     },
     "inputWidgets": {},
     "nuid": "fced544e-1c69-4707-8857-f5942e336dfc",
     "showTitle": false,
     "tableResultSettingsMap": {},
     "title": ""
    }
   },
   "outputs": [],
   "source": [
    "CREATE OR REPLACE VIEW transacoes_db.gold.dimensao_municipios as \n",
    "select \n",
    "  municipios.nome as municipio,\n",
    "  municipios.id as id_municipio,\n",
    "  municipios.id_estado,\n",
    "  municipios.id_ibge municipio_ibge,\n",
    "  estados.id_ibge AS estado_ibge,\n",
    "  estados.nome as estado,\n",
    "  estados.sigla as sigla_estado,\n",
    "  regioes.nome as regiao\n",
    "from transacoes_db.silver.municipios\n",
    "JOIN transacoes_db.silver.estados on estados.id_ibge = municipios.id_estado\n",
    "JOIN transacoes_db.silver.regioes on regioes.id = estados.id_regiao"
   ]
  },
  {
   "cell_type": "code",
   "execution_count": 0,
   "metadata": {
    "application/vnd.databricks.v1+cell": {
     "cellMetadata": {
      "byteLimit": 2048000,
      "rowLimit": 10000
     },
     "inputWidgets": {},
     "nuid": "0c51e9d7-afea-4570-8257-cbbe5203e332",
     "showTitle": false,
     "tableResultSettingsMap": {},
     "title": ""
    }
   },
   "outputs": [],
   "source": [
    "CREATE OR REPLACE VIEW transacoes_db.gold.dimensao_chaves as \n",
    "select \n",
    "chaves_pix.id,\n",
    "chaves_pix.id_conta,\n",
    "tipos_chave_pix.nome as tipo_chave,\n",
    "chaves_pix.chave,\n",
    "chaves_pix.tempo_chave_ativa_d  \n",
    "from transacoes_db.silver.chaves_pix\n",
    "JOIN transacoes_db.silver.tipos_chave_pix on chaves_pix.id_tipo_chave = tipos_chave_pix.id"
   ]
  },
  {
   "cell_type": "code",
   "execution_count": 0,
   "metadata": {
    "application/vnd.databricks.v1+cell": {
     "cellMetadata": {
      "byteLimit": 2048000,
      "rowLimit": 10000
     },
     "inputWidgets": {},
     "nuid": "52b13ea7-90ff-4f04-a5ab-f11d5971d5ac",
     "showTitle": false,
     "tableResultSettingsMap": {},
     "title": ""
    }
   },
   "outputs": [],
   "source": [
    "create or replace view transacoes_db.gold.fato_transacoes as\n",
    "select \n",
    "  transacoes.id,\n",
    "  transacoes.valor,\n",
    "  transacoes.data,\n",
    "  transacoes.mensagem,\n",
    "  transacoes.id_conta_origem,\n",
    "  transacoes.id_conta_destino,\n",
    "  tipos_iniciacao_pix.nome as tipo_iniciacao,\n",
    "  finalidade_pix.nome as finalidade\n",
    "from transacoes_db.silver.transacoes\n",
    "JOIN transacoes_db.silver.tipos_iniciacao_pix on tipos_iniciacao_pix.id = transacoes.id_finalidade_pix\n",
    "JOIN transacoes_db.silver.finalidade_pix on finalidade_pix.id = transacoes.id_finalidade_pix\n"
   ]
  },
  {
   "cell_type": "code",
   "execution_count": 0,
   "metadata": {
    "application/vnd.databricks.v1+cell": {
     "cellMetadata": {
      "byteLimit": 2048000,
      "rowLimit": 10000
     },
     "inputWidgets": {},
     "nuid": "53100710-3d03-4308-8c6e-1b7908308673",
     "showTitle": false,
     "tableResultSettingsMap": {},
     "title": ""
    }
   },
   "outputs": [],
   "source": [
    "CREATE OR REPLACE VIEW transacoes_db.gold.transacoes_dataset AS\n",
    "SELECT\n",
    "  ft.id AS id_transacao,\n",
    "  ft.valor,\n",
    "  ft.data,\n",
    "  ft.mensagem,\n",
    "  ft.tipo_iniciacao,\n",
    "  ft.finalidade,\n",
    "  co.id AS id_conta_origem,\n",
    "  co.saldo AS saldo_origem,\n",
    "  co.aberta_em AS aberta_em_origem,\n",
    "  co.agencia AS agencia_origem,\n",
    "  co.numero AS numero_conta_origem,\n",
    "  co.ispb_instituicao AS ispb_instituicao_origem,\n",
    "  co.tempo_conta_ativa_d AS tempo_conta_ativa_origem,\n",
    "  co.tipo_conta AS tipo_conta_origem,\n",
    "  cd.id AS id_cliente_origem,\n",
    "  cd.nome AS nome_cliente_origem,\n",
    "  cd.registro_nacional AS registro_nacional_origem,\n",
    "  cd.nascido_em AS nascido_em_origem,\n",
    "  cd.idade AS idade_origem,\n",
    "  cd.id_natureza AS id_natureza_origem,\n",
    "  cd.natureza AS natureza_origem,\n",
    "  cd.id_municipio AS id_municipio_origem,\n",
    "  cd.bairro AS bairro_origem,\n",
    "  cd.cep AS cep_origem,\n",
    "  cd.complemento AS complemento_origem,\n",
    "  cd.logradouro AS logradouro_origem,\n",
    "  cd.numero AS numero_endereco_origem,\n",
    "  mo.municipio AS municipio_origem,\n",
    "  mo.estado AS estado_origem,\n",
    "  mo.sigla_estado AS sigla_estado_origem,\n",
    "  mo.regiao AS regiao_origem,\n",
    "  cd2.id AS id_cliente_destino,\n",
    "  cd2.nome AS nome_cliente_destino,\n",
    "  cd2.registro_nacional AS registro_nacional_destino,\n",
    "  cd2.nascido_em AS nascido_em_destino,\n",
    "  cd2.idade AS idade_destino,\n",
    "  cd2.id_natureza AS id_natureza_destino,\n",
    "  cd2.natureza AS natureza_destino,\n",
    "  cd2.id_municipio AS id_municipio_destino,\n",
    "  cd2.bairro AS bairro_destino,\n",
    "  cd2.cep AS cep_destino,\n",
    "  cd2.complemento AS complemento_destino,\n",
    "  cd2.logradouro AS logradouro_destino,\n",
    "  cd2.numero AS numero_endereco_destino,\n",
    "  md.municipio AS municipio_destino,\n",
    "  md.estado AS estado_destino,\n",
    "  md.sigla_estado AS sigla_estado_destino,\n",
    "  md.regiao AS regiao_destino,\n",
    "  ch.id AS id_chave_pix,\n",
    "  ch.id_conta AS id_conta_chave_pix,\n",
    "  ch.tipo_chave,\n",
    "  ch.chave,\n",
    "  ch.tempo_chave_ativa_d\n",
    "FROM transacoes_db.gold.fato_transacoes ft\n",
    "LEFT JOIN transacoes_db.gold.dimensao_contas co ON ft.id_conta_origem = co.id\n",
    "LEFT JOIN transacoes_db.gold.dimensao_cliente cd ON co.id_cliente = cd.id\n",
    "LEFT JOIN transacoes_db.gold.dimensao_municipios mo ON cd.id_municipio = mo.id_municipio\n",
    "LEFT JOIN transacoes_db.gold.dimensao_contas cdest ON ft.id_conta_destino = cdest.id\n",
    "LEFT JOIN transacoes_db.gold.dimensao_cliente cd2 ON cdest.id_cliente = cd2.id\n",
    "LEFT JOIN transacoes_db.gold.dimensao_municipios md ON cd2.id_municipio = md.id_municipio\n",
    "LEFT JOIN transacoes_db.gold.dimensao_chaves ch ON ch.id_conta = co.id"
   ]
  },
  {
   "cell_type": "code",
   "execution_count": 0,
   "metadata": {
    "application/vnd.databricks.v1+cell": {
     "cellMetadata": {},
     "inputWidgets": {},
     "nuid": "9753760a-791c-4e37-a875-ad60b9bc2342",
     "showTitle": false,
     "tableResultSettingsMap": {},
     "title": ""
    }
   },
   "outputs": [],
   "source": []
  },
  {
   "cell_type": "markdown",
   "metadata": {
    "application/vnd.databricks.v1+cell": {
     "cellMetadata": {
      "byteLimit": 2048000,
      "rowLimit": 10000
     },
     "inputWidgets": {},
     "nuid": "5ec7c783-38da-4d5a-904f-a99ae395c0b7",
     "showTitle": false,
     "tableResultSettingsMap": {},
     "title": ""
    }
   },
   "source": []
  }
 ],
 "metadata": {
  "application/vnd.databricks.v1+notebook": {
   "computePreferences": null,
   "dashboards": [],
   "environmentMetadata": {
    "base_environment": "",
    "environment_version": "3"
   },
   "inputWidgetPreferences": null,
   "language": "sql",
   "notebookMetadata": {
    "mostRecentlyExecutedCommandWithImplicitDF": {
     "commandId": -1,
     "dataframes": [
      "_sqldf"
     ]
    },
    "pythonIndentUnit": 4
   },
   "notebookName": "gold",
   "widgets": {}
  },
  "language_info": {
   "name": "sql"
  }
 },
 "nbformat": 4,
 "nbformat_minor": 0
}
