{
 "cells": [
  {
   "cell_type": "code",
   "execution_count": 0,
   "metadata": {
    "application/vnd.databricks.v1+cell": {
     "cellMetadata": {
      "byteLimit": 2048000,
      "rowLimit": 10000
     },
     "inputWidgets": {},
     "nuid": "8da0b671-06cd-4725-a89d-c4f5e54c17ae",
     "showTitle": false,
     "tableResultSettingsMap": {},
     "title": ""
    }
   },
   "outputs": [],
   "source": [
    "import numpy as np\n",
    "import matplotlib.pyplot as plt\n",
    "import seaborn as sns\n",
    "\n",
    "# Configurações visuais para os gráficos\n",
    "sns.set_theme(style=\"whitegrid\")\n",
    "np.random.seed(42) # Garante que os resultados aleatórios sejam os mesmos toda vez que rodar\n",
    "tamanho_amostra = 100000 # Gerar muitos pontos para ter uma curva suave\n",
    "\n",
    "# --- GRÁFICO 1: VARIANDO O PARÂMETRO μ (mu), O \"CENTRO DE GRAVIDADE\" ---\n",
    "\n",
    "# Mantemos o sigma (espalhamento) fixo para ver apenas o efeito do mu\n",
    "sigma_fixo = 0.5\n",
    "mus_variaveis = [1.0, 2.0, 3.0]\n",
    "\n",
    "# Cria uma figura com 3 gráficos lado a lado\n",
    "fig, axes = plt.subplots(1, 3, figsize=(18, 5), sharey=True)\n",
    "fig.suptitle('Efeito da Variação de μ (Centro de Gravidade) com σ Fixo', fontsize=16, y=1.02)\n",
    "\n",
    "for i, mu in enumerate(mus_variaveis):\n",
    "    # Gera 100.000 números aleatórios seguindo a distribuição Log-Normal com os parâmetros\n",
    "    amostra = np.random.lognormal(mean=mu, sigma=sigma_fixo, size=tamanho_amostra)\n",
    "    \n",
    "    # Plota o histograma (barras) e a curva de densidade (a \"rampa de skate\")\n",
    "    sns.histplot(amostra, bins=100, kde=True, ax=axes[i], line_kws={'linewidth': 3, 'color': 'red'})\n",
    "    axes[i].set_title(f'μ = {mu:.1f} | σ = {sigma_fixo:.1f}')\n",
    "    axes[i].set_xlabel('Valor Gerado')\n",
    "    if i == 0:\n",
    "        axes[i].set_ylabel('Frequência')\n",
    "\n",
    "plt.show()\n",
    "\n",
    "\n",
    "# --- GRÁFICO 2: VARIANDO O PARÂMETRO σ (sigma), O \"FATOR ESPALHAMENTO\" ---\n",
    "\n",
    "# Mantemos o mu (centro) fixo para ver apenas o efeito do sigma\n",
    "mu_fixo = 2.0\n",
    "sigmas_variaveis = [0.2, 0.7, 1.5]\n",
    "\n",
    "# Cria uma segunda figura com 3 gráficos\n",
    "fig, axes = plt.subplots(1, 3, figsize=(18, 5))\n",
    "fig.suptitle('Efeito da Variação de σ (Fator Espalhamento) com μ Fixo', fontsize=16, y=1.02)\n",
    "\n",
    "for i, sigma in enumerate(sigmas_variaveis):\n",
    "    # Gera os dados\n",
    "    amostra = np.random.lognormal(mean=mu_fixo, sigma=sigma, size=tamanho_amostra)\n",
    "    \n",
    "    # Plota o gráfico\n",
    "    sns.histplot(amostra, bins=100, kde=True, ax=axes[i], line_kws={'linewidth': 3, 'color': 'red'})\n",
    "    axes[i].set_title(f'μ = {mu_fixo:.1f} | σ = {sigma:.1f}')\n",
    "    axes[i].set_xlabel('Valor Gerado')\n",
    "    if i == 0:\n",
    "        axes[i].set_ylabel('Frequência')\n",
    "\n",
    "plt.show()"
   ]
  },
  {
   "cell_type": "code",
   "execution_count": 0,
   "metadata": {
    "application/vnd.databricks.v1+cell": {
     "cellMetadata": {
      "byteLimit": 2048000,
      "rowLimit": 10000
     },
     "inputWidgets": {},
     "nuid": "85d29d03-5a4b-48d7-b14d-eaf82ba00d68",
     "showTitle": false,
     "tableResultSettingsMap": {},
     "title": ""
    }
   },
   "outputs": [],
   "source": [
    "# Converte o resultado da sua query Spark para um DataFrame Pandas\n",
    "df_comparativo_pd = df_comparativo.toPandas()\n",
    "df_comparativo_pd = df_comparativo_pd.sort_values('mes')\n",
    "\n",
    "# Inicia a criação do gráfico\n",
    "fig, ax1 = plt.subplots(figsize=(14, 8))\n",
    "plt.title('Comparativo de Tendência: Volume de Transações Real vs. Sintético', fontsize=16)\n",
    "\n",
    "# --- Linha para os Dados REAIS (Eixo da Esquerda) ---\n",
    "cor_real = 'tab:blue'\n",
    "ax1.set_xlabel('Mês do Ano')\n",
    "ax1.set_ylabel('Volume REAL de Transações', color=cor_real, fontsize=12)\n",
    "ax1.plot(df_comparativo_pd['mes'], df_comparativo_pd['total_tx_pf_pagador_REAL'], color=cor_real, marker='o', label='Volume Real')\n",
    "ax1.tick_params(axis='y', labelcolor=cor_real)\n",
    "\n",
    "# --- Linha para os Dados SINTÉTICOS (Eixo da Direita) ---\n",
    "# Cria um segundo eixo Y que compartilha o mesmo eixo X\n",
    "ax2 = ax1.twinx()  \n",
    "cor_sintetico = 'tab:orange'\n",
    "ax2.set_ylabel('Volume SINTÉTICO de Transações', color=cor_sintetico, fontsize=12)\n",
    "ax2.plot(df_comparativo_pd['mes'], df_comparativo_pd['total_tx_pf_pagador_SINTETICO'], color=cor_sintetico, marker='x', linestyle='--', label='Volume Sintético')\n",
    "ax2.tick_params(axis='y', labelcolor=cor_sintetico)\n",
    "\n",
    "# Adiciona a legenda\n",
    "fig.legend(loc=\"upper right\", bbox_to_anchor=(0.9, 0.9))\n",
    "plt.grid(True)\n",
    "plt.show()"
   ]
  }
 ],
 "metadata": {
  "application/vnd.databricks.v1+notebook": {
   "computePreferences": null,
   "dashboards": [],
   "environmentMetadata": {
    "base_environment": "",
    "environment_version": "4"
   },
   "inputWidgetPreferences": null,
   "language": "python",
   "notebookMetadata": {
    "mostRecentlyExecutedCommandWithImplicitDF": {
     "commandId": 8949978037002847,
     "dataframes": [
      "_sqldf"
     ]
    },
    "pythonIndentUnit": 4
   },
   "notebookName": "Analise-gerador",
   "widgets": {}
  },
  "language_info": {
   "name": "python"
  }
 },
 "nbformat": 4,
 "nbformat_minor": 0
}
