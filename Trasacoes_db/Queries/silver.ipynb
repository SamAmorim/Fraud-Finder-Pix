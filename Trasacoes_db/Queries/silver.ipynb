{
 "cells": [
  {
   "cell_type": "code",
   "execution_count": 0,
   "metadata": {
    "application/vnd.databricks.v1+cell": {
     "cellMetadata": {
      "byteLimit": 2048000,
      "implicitDf": true,
      "rowLimit": 10000
     },
     "inputWidgets": {},
     "nuid": "460564bf-f902-4002-85cb-9393efa1d1c4",
     "showTitle": false,
     "tableResultSettingsMap": {
      "0": {
       "dataGridStateBlob": "{\"version\":1,\"tableState\":{\"columnPinning\":{\"left\":[\"#row_number#\"],\"right\":[]},\"columnSizing\":{},\"columnVisibility\":{}},\"settings\":{\"columns\":{}},\"syncTimestamp\":1757976820425}",
       "filterBlob": null,
       "queryPlanFiltersBlob": null,
       "tableResultIndex": 0
      }
     },
     "title": ""
    }
   },
   "outputs": [],
   "source": [
    "%sql\n",
    "CREATE OR REPLACE TABLE transacoes_db.SILVER.chaves_pix AS\n",
    "select \n",
    "  id,\n",
    "  id_conta,\n",
    "  id_tipo_chave,\n",
    "  cadastrada_em,\n",
    "  chave,\n",
    "  date_diff(current_date(), cadastrada_em) as tempo_chave_ativa_d \n",
    "  \n",
    "from transacoes_db.copper.chaves_pix"
   ]
  },
  {
   "cell_type": "code",
   "execution_count": 0,
   "metadata": {
    "application/vnd.databricks.v1+cell": {
     "cellMetadata": {
      "byteLimit": 2048000,
      "implicitDf": true,
      "rowLimit": 10000
     },
     "inputWidgets": {},
     "nuid": "2a07776e-f318-46b3-a256-cd46f90e1e4c",
     "showTitle": false,
     "tableResultSettingsMap": {
      "0": {
       "dataGridStateBlob": "{\"version\":1,\"tableState\":{\"columnPinning\":{\"left\":[\"#row_number#\"],\"right\":[]},\"columnSizing\":{},\"columnVisibility\":{}},\"settings\":{\"columns\":{}},\"syncTimestamp\":1757977761327}",
       "filterBlob": null,
       "queryPlanFiltersBlob": null,
       "tableResultIndex": 0
      }
     },
     "title": ""
    }
   },
   "outputs": [],
   "source": [
    "%sql\n",
    "CREATE OR REPLACE TABLE transacoes_db.silver.clientes AS\n",
    "select \n",
    "  id,\n",
    "  id_natureza,\n",
    "  nome,\n",
    "  nascido_em,\n",
    "  year(current_date()) - year(nascido_em) as idade, \n",
    "  registro_nacional\n",
    "\n",
    "from transacoes_db.copper.clientes"
   ]
  },
  {
   "cell_type": "code",
   "execution_count": 0,
   "metadata": {
    "application/vnd.databricks.v1+cell": {
     "cellMetadata": {
      "byteLimit": 2048000,
      "implicitDf": true,
      "rowLimit": 10000
     },
     "inputWidgets": {},
     "nuid": "c635930c-a6b4-4dc1-ab1d-f359c5c38ec2",
     "showTitle": false,
     "tableResultSettingsMap": {},
     "title": ""
    }
   },
   "outputs": [],
   "source": [
    "%sql\n",
    "CREATE OR REPLACE TABLE transacoes_db.silver.contas AS \n",
    "select \n",
    "    id,\n",
    "    saldo,\n",
    "    aberta_em,\n",
    "    date_diff(current_date(), aberta_em) as tempo_conta_ativa_d,\n",
    "    agencia,\n",
    "    numero,\n",
    "    id_tipo_conta,\n",
    "    id_cliente,\n",
    "    ispb_instituicao\n",
    "from transacoes_db.copper.contas"
   ]
  },
  {
   "cell_type": "code",
   "execution_count": 0,
   "metadata": {
    "application/vnd.databricks.v1+cell": {
     "cellMetadata": {
      "byteLimit": 2048000,
      "implicitDf": true,
      "rowLimit": 10000
     },
     "inputWidgets": {},
     "nuid": "4f5e9a49-3e36-4812-99fc-910e75a17e99",
     "showTitle": false,
     "tableResultSettingsMap": {},
     "title": ""
    }
   },
   "outputs": [],
   "source": [
    "%sql\n",
    "CREATE OR REPLACE TABLE transacoes_db.silver.estados AS\n",
    "select \n",
    "  codigo_uf as id,\n",
    "  codigo_uf as id_ibge,\n",
    "  nome,\n",
    "  uf as sigla,\n",
    "  id_regiao\n",
    "from transacoes_db.copper.estados"
   ]
  },
  {
   "cell_type": "code",
   "execution_count": 0,
   "metadata": {
    "application/vnd.databricks.v1+cell": {
     "cellMetadata": {
      "byteLimit": 2048000,
      "implicitDf": true,
      "rowLimit": 10000
     },
     "inputWidgets": {},
     "nuid": "a65645b1-2b75-433a-9543-e552fec3875c",
     "showTitle": false,
     "tableResultSettingsMap": {},
     "title": ""
    }
   },
   "outputs": [],
   "source": [
    "%sql\n",
    "CREATE OR REPLACE TABLE transacoes_db.silver.naturezas AS\n",
    "select \n",
    "  id,\n",
    "  nome\n",
    "from transacoes_db.copper.naturezas"
   ]
  },
  {
   "cell_type": "code",
   "execution_count": 0,
   "metadata": {
    "application/vnd.databricks.v1+cell": {
     "cellMetadata": {
      "byteLimit": 2048000,
      "implicitDf": true,
      "rowLimit": 10000
     },
     "inputWidgets": {},
     "nuid": "74afea49-ddc3-4023-a384-794c9617c264",
     "showTitle": false,
     "tableResultSettingsMap": {},
     "title": ""
    }
   },
   "outputs": [],
   "source": [
    "%sql\n",
    "CREATE OR REPLACE TABLE transacoes_db.silver.instituicoes AS\n",
    "select \n",
    "  ispb, \n",
    "  nome\n",
    "from transacoes_db.copper.instituicoes"
   ]
  },
  {
   "cell_type": "code",
   "execution_count": 0,
   "metadata": {
    "application/vnd.databricks.v1+cell": {
     "cellMetadata": {
      "byteLimit": 2048000,
      "implicitDf": true,
      "rowLimit": 10000
     },
     "inputWidgets": {},
     "nuid": "c458d151-5245-4404-aca6-747ae8f29d64",
     "showTitle": false,
     "tableResultSettingsMap": {},
     "title": ""
    }
   },
   "outputs": [],
   "source": [
    "%sql\n",
    "CREATE OR REPLACE TABLE transacoes_db.silver.municipios AS \n",
    "select \n",
    "    codigo_ibge as id,\n",
    "    codigo_uf as id_estado,\n",
    "    codigo_ibge as id_ibge,\n",
    "    nome\n",
    "From transacoes_db.copper.municipios"
   ]
  },
  {
   "cell_type": "code",
   "execution_count": 0,
   "metadata": {
    "application/vnd.databricks.v1+cell": {
     "cellMetadata": {
      "byteLimit": 2048000,
      "rowLimit": 10000
     },
     "inputWidgets": {},
     "nuid": "29d38fa0-ee4d-4537-8af2-0690f9f992f8",
     "showTitle": false,
     "tableResultSettingsMap": {},
     "title": ""
    }
   },
   "outputs": [],
   "source": [
    "CREATE OR REPLACE TABLE transacoes_db.silver.regioes AS \n",
    "select \n",
    "    id_regiao as id,\n",
    "    nome_regiao as nome\n",
    "from transacoes_db.copper.regioes"
   ]
  },
  {
   "cell_type": "code",
   "execution_count": 0,
   "metadata": {
    "application/vnd.databricks.v1+cell": {
     "cellMetadata": {
      "byteLimit": 2048000,
      "rowLimit": 10000
     },
     "inputWidgets": {},
     "nuid": "bb590ae1-fb44-437b-92cf-457769b7dfc3",
     "showTitle": false,
     "tableResultSettingsMap": {},
     "title": ""
    }
   },
   "outputs": [],
   "source": [
    "CREATE OR REPLACE TABLE transacoes_db.silver.tipos_chave_pix AS \n",
    "select \n",
    "  id,\n",
    "  nome\n",
    "from transacoes_db.copper.tipos_chave_pix"
   ]
  },
  {
   "cell_type": "code",
   "execution_count": 0,
   "metadata": {
    "application/vnd.databricks.v1+cell": {
     "cellMetadata": {
      "byteLimit": 2048000,
      "rowLimit": 10000
     },
     "inputWidgets": {},
     "nuid": "ffe20b54-f24f-486d-b951-9c043dd42dcc",
     "showTitle": false,
     "tableResultSettingsMap": {},
     "title": ""
    }
   },
   "outputs": [],
   "source": [
    "CREATE OR REPLACE TABLE transacoes_db.silver.tipos_conta AS \n",
    "select \n",
    "  id,\n",
    "  nome\n",
    "from transacoes_db.copper.tipos_conta"
   ]
  },
  {
   "cell_type": "code",
   "execution_count": 0,
   "metadata": {
    "application/vnd.databricks.v1+cell": {
     "cellMetadata": {
      "byteLimit": 2048000,
      "rowLimit": 10000
     },
     "inputWidgets": {},
     "nuid": "18ad1f85-c298-48ea-80ff-c89a81516a7f",
     "showTitle": false,
     "tableResultSettingsMap": {},
     "title": ""
    }
   },
   "outputs": [],
   "source": [
    "CREATE OR REPLACE TABLE transacoes_db.silver.tipos_iniciacao_pix AS  \n",
    "select \n",
    "  id,\n",
    "  nome\n",
    " from transacoes_db.copper.tipos_iniciacao_pix"
   ]
  },
  {
   "cell_type": "code",
   "execution_count": 0,
   "metadata": {
    "application/vnd.databricks.v1+cell": {
     "cellMetadata": {
      "byteLimit": 2048000,
      "rowLimit": 10000
     },
     "inputWidgets": {},
     "nuid": "47a5fc8d-7f4d-41e7-a581-c615ec542051",
     "showTitle": false,
     "tableResultSettingsMap": {},
     "title": ""
    }
   },
   "outputs": [],
   "source": [
    "CREATE OR REPLACE TABLE transacoes_db.silver.transacoes AS  \n",
    "select \n",
    "  data,\n",
    "  id,\n",
    "  id_conta_destino,\n",
    "  id_conta_origem,\n",
    "  id_finalidade_pix,\n",
    "  id_tipo_iniciacao_pix,\n",
    "  mensagem,\n",
    "  valor\n",
    "from transacoes_db.copper.transacoes"
   ]
  },
  {
   "cell_type": "code",
   "execution_count": 0,
   "metadata": {
    "application/vnd.databricks.v1+cell": {
     "cellMetadata": {
      "byteLimit": 2048000,
      "rowLimit": 10000
     },
     "inputWidgets": {},
     "nuid": "cd0c4196-008c-42e9-88fc-5904a2e01c69",
     "showTitle": false,
     "tableResultSettingsMap": {},
     "title": ""
    }
   },
   "outputs": [],
   "source": [
    "CREATE OR REPLACE TABLE transacoes_db.silver.finalidade_pix as \n",
    "SELECT * FROM transacoes_db.copper.finalidade_pix\n"
   ]
  }
 ],
 "metadata": {
  "application/vnd.databricks.v1+notebook": {
   "computePreferences": null,
   "dashboards": [],
   "environmentMetadata": {
    "base_environment": "",
    "environment_version": "3"
   },
   "inputWidgetPreferences": null,
   "language": "sql",
   "notebookMetadata": {
    "mostRecentlyExecutedCommandWithImplicitDF": {
     "commandId": -1,
     "dataframes": [
      "_sqldf"
     ]
    },
    "pythonIndentUnit": 4
   },
   "notebookName": "silver",
   "widgets": {}
  },
  "language_info": {
   "name": "sql"
  }
 },
 "nbformat": 4,
 "nbformat_minor": 0
}
