{
 "cells": [
  {
   "cell_type": "markdown",
   "metadata": {
    "application/vnd.databricks.v1+cell": {
     "cellMetadata": {
      "byteLimit": 2048000,
      "rowLimit": 10000
     },
     "inputWidgets": {},
     "nuid": "371a674a-fb10-4f14-8a7c-9f57ff16899c",
     "showTitle": false,
     "tableResultSettingsMap": {},
     "title": ""
    }
   },
   "source": [
    "# Gerador de Dados PIX - Notebook Didático Completo\n",
    "\n",
    "**Objetivo:** Este notebook apresenta uma versão educativa e detalhada do script de geração de dados sintéticos PIX. O processo é executado passo a passo para um município específico (**São Paulo**) e inclui:\n",
    "\n",
    "- Explicações claras de cada etapa.\n",
    "- Fórmulas matemáticas que governam a lógica.\n",
    "- Visualizações gráficas para analisar os dados.\n",
    "- Trechos de código que implementam a teoria.\n",
    "\n",
    "O objetivo final é transformar o processo de geração de dados de uma \"caixa-preta\" para uma \"caixa de vidro\", permitindo total compreensão e confiança nos resultados."
   ]
  },
  {
   "cell_type": "code",
   "execution_count": 0,
   "metadata": {
    "application/vnd.databricks.v1+cell": {
     "cellMetadata": {
      "byteLimit": 2048000,
      "rowLimit": 10000
     },
     "inputWidgets": {},
     "nuid": "a10be872-03fb-4914-b72e-2a91cf6a2e73",
     "showTitle": false,
     "tableResultSettingsMap": {},
     "title": ""
    }
   },
   "outputs": [],
   "source": [
    "%pip install faker"
   ]
  },
  {
   "cell_type": "code",
   "execution_count": 0,
   "metadata": {
    "application/vnd.databricks.v1+cell": {
     "cellMetadata": {
      "byteLimit": 2048000,
      "rowLimit": 10000
     },
     "inputWidgets": {},
     "nuid": "4a298133-9e17-4dcc-8dd3-bf8efc89de06",
     "showTitle": false,
     "tableResultSettingsMap": {},
     "title": ""
    }
   },
   "outputs": [],
   "source": [
    "# ==============================================================================\n",
    "# PASSO 1: IMPORTAÇÕES E CONFIGURAÇÃO INICIAL\n",
    "# ==============================================================================\n",
    "\n",
    "# Bibliotecas padrão\n",
    "import pyspark.sql.functions as F\n",
    "from pyspark.sql import SparkSession\n",
    "import pandas as pd\n",
    "import numpy as np\n",
    "from faker import Faker\n",
    "from datetime import datetime, timedelta\n",
    "import random\n",
    "from scipy.stats import lognorm\n",
    "import uuid\n",
    "import gc\n",
    "\n",
    "# Bibliotecas para visualização\n",
    "import matplotlib.pyplot as plt\n",
    "import seaborn as sns\n",
    "\n",
    "# Configuração para os gráficos ficarem mais bonitos\n",
    "sns.set_theme(style=\"whitegrid\", palette=\"viridis\")\n",
    "print(\"Bibliotecas importadas com sucesso, incluindo Matplotlib e Seaborn para gráficos.\")\n",
    "\n",
    "# Inicialização do Spark e Faker\n",
    "spark = SparkSession.builder.appName(\"PixGenerator_AnaliseDidatica\").getOrCreate()\n",
    "fake = Faker('pt_BR')\n",
    "\n",
    "# --- PARÂMETROS FIXOS PARA ANÁLISE ---\n",
    "TARGET_ANO = 2024\n",
    "TARGET_ESTADO_IBGE = 35\n",
    "TARGET_MUNICIPIO_IBGE = 3550308\n",
    "TARGET_REGIAO_ID = 3 # Região Sudeste\n",
    "\n",
    "POPULATION_SCALING_FACTOR = 1000\n",
    "DATA_SAMPLE_PERCENTAGE = 0.1 # Usamos 10% dos dados para a análise ser mais rápida\n",
    "np.random.seed(42)\n",
    "random.seed(42)\n",
    "print(f\"Análise configurada para o município {TARGET_MUNICIPIO_IBGE} (São Paulo) com {DATA_SAMPLE_PERCENTAGE*100}% da amostra de dados.\")"
   ]
  },
  {
   "cell_type": "markdown",
   "metadata": {
    "application/vnd.databricks.v1+cell": {
     "cellMetadata": {
      "byteLimit": 2048000,
      "rowLimit": 10000
     },
     "inputWidgets": {},
     "nuid": "33d950ed-c05a-405d-81f8-6b6d392ac982",
     "showTitle": false,
     "tableResultSettingsMap": {},
     "title": ""
    }
   },
   "source": [
    "## Passo 2: Carregando e Analisando as Estatísticas de Entrada\n",
    "\n",
    "Nesta etapa, carregamos os dados estatísticos reais que servem de base para a nossa geração.  \n",
    "Vamos realizar uma análise exploratória (EDA) em cada tabela para entender a matéria-prima do nosso processo."
   ]
  },
  {
   "cell_type": "code",
   "execution_count": 0,
   "metadata": {
    "application/vnd.databricks.v1+cell": {
     "cellMetadata": {
      "byteLimit": 2048000,
      "rowLimit": 10000
     },
     "inputWidgets": {},
     "nuid": "4dd44f2e-7a0a-45ef-ac57-26b9265f2b8b",
     "showTitle": false,
     "tableResultSettingsMap": {},
     "title": ""
    }
   },
   "outputs": [],
   "source": [
    "try:\n",
    "    print(\"Carregando dados do município (relacao_pagadores_recebedores)...\")\n",
    "    relacao_pag_rec_pd = spark.sql(f\"\"\"\n",
    "        SELECT Mes, total_tx_pagador, total_vl_pagador, peso_pagador_nacional, total_tx_pagador_pf\n",
    "        FROM transacoes_db.pix_baseline_metricas.relacao_pagadores_recebedores\n",
    "        WHERE ano = {TARGET_ANO} AND cod_ibge_municipio = {TARGET_MUNICIPIO_IBGE}\n",
    "    \"\"\").toPandas()\n",
    "\n",
    "    print(\"Carregando perfis de comportamento da região (perfil_de_usuarios)...\")\n",
    "    perfil_de_usuario_pd = spark.sql(f\"\"\"\n",
    "        SELECT id_finalidade, id_formainiciacao, pag_idade, rec_idade, pag_pfpj_id, total_quantidade, ticket_mediana, ticket_p25, ticket_p75, ticket_minimo, ticket_maximo\n",
    "        FROM transacoes_db.pix_baseline_metricas.perfil_de_usuarios\n",
    "        WHERE ano = {TARGET_ANO} AND pag_id_regiao = {TARGET_REGIAO_ID} AND rec_id_regiao = {TARGET_REGIAO_ID}\n",
    "    \"\"\").toPandas()\n",
    "    \n",
    "    # Carregando tabelas de dimensão para enriquecer os gráficos\n",
    "    finalidades_pd = spark.table(\"transacoes_db.copper.finalidade_pix\").toPandas().set_index('id')\n",
    "    print(\"Dados carregados com sucesso!\")\n",
    "except Exception as e:\n",
    "    print(f\"ERRO ao carregar dados: {e}\")\n",
    "    raise e"
   ]
  },
  {
   "cell_type": "markdown",
   "metadata": {
    "application/vnd.databricks.v1+cell": {
     "cellMetadata": {
      "byteLimit": 2048000,
      "rowLimit": 10000
     },
     "inputWidgets": {},
     "nuid": "bfe9da47-d47a-4509-9de7-54fa5d2a5149",
     "showTitle": false,
     "tableResultSettingsMap": {},
     "title": ""
    }
   },
   "source": [
    "2.1 Análise do Volume do Município (relacao_pag_rec_pd)\n",
    "Inspecionamos a tabela que nos diz o volume total de transações para São Paulo. O gráfico mostra a magnitude e a variação mensal."
   ]
  },
  {
   "cell_type": "code",
   "execution_count": 0,
   "metadata": {
    "application/vnd.databricks.v1+cell": {
     "cellMetadata": {
      "byteLimit": 2048000,
      "rowLimit": 10000
     },
     "inputWidgets": {},
     "nuid": "35956b25-4205-40d9-b7b5-c5975621f2fe",
     "showTitle": false,
     "tableResultSettingsMap": {},
     "title": ""
    }
   },
   "outputs": [],
   "source": [
    "print(\"[ANÁLISE] Tabela 'relacao_pagadores_recebedores' para São Paulo:\")\n",
    "print(relacao_pag_rec_pd)\n",
    "\n",
    "# Gráfico 1: Volume de Transações Mensais em SP\n",
    "plt.figure(figsize=(12, 6))\n",
    "sns.barplot(data=relacao_pag_rec_pd, x='Mes', y='total_tx_pagador', color='skyblue')\n",
    "plt.title('Volume Total de Transações de Pagadores por Mês em São Paulo (2024)', fontsize=16)\n",
    "plt.xlabel('Mês', fontsize=12)\n",
    "plt.ylabel('Total de Transações (em centenas de milhões)', fontsize=12)\n",
    "plt.show()"
   ]
  },
  {
   "cell_type": "markdown",
   "metadata": {
    "application/vnd.databricks.v1+cell": {
     "cellMetadata": {
      "byteLimit": 2048000,
      "rowLimit": 10000
     },
     "inputWidgets": {},
     "nuid": "65724e0b-c1d9-45f4-b9e6-06fadee6abba",
     "showTitle": false,
     "tableResultSettingsMap": {},
     "title": ""
    }
   },
   "source": [
    "## 2.2 Análise dos Perfis de Comportamento (`perfil_de_usuario_pd`)\n",
    "\n",
    "Agora, investigamos as \"receitas\" das transações.  \n",
    "Esta tabela, a nível regional, nos diz como as transações se distribuem por diferentes tipos de comportamento."
   ]
  },
  {
   "cell_type": "code",
   "execution_count": 0,
   "metadata": {
    "application/vnd.databricks.v1+cell": {
     "cellMetadata": {
      "byteLimit": 2048000,
      "rowLimit": 10000
     },
     "inputWidgets": {},
     "nuid": "5bf8fcb0-aaa7-49f9-ba5b-e1f6f65385c1",
     "showTitle": false,
     "tableResultSettingsMap": {},
     "title": ""
    }
   },
   "outputs": [],
   "source": [
    "print(f\"[ANÁLISE] Tabela 'perfil_de_usuarios' para a Região Sudeste (contém {len(perfil_de_usuario_pd)} perfis):\")\n",
    "print(perfil_de_usuario_pd.head())\n",
    "\n",
    "# Gráfico 2: Distribuição de Perfis por Finalidade\n",
    "perfil_de_usuario_pd['finalidade_nome'] = perfil_de_usuario_pd['id_finalidade'].map(finalidades_pd['nome'])\n",
    "plt.figure(figsize=(12, 6))\n",
    "sns.countplot(data=perfil_de_usuario_pd, y='finalidade_nome', order=perfil_de_usuario_pd['finalidade_nome'].value_counts().index, palette='crest')\n",
    "plt.title('Distribuição de Perfis por Finalidade da Transação (Região Sudeste)', fontsize=16)\n",
    "plt.xlabel('Contagem de Perfis', fontsize=12)\n",
    "plt.ylabel('Finalidade', fontsize=12)\n",
    "plt.show()\n",
    "\n",
    "# Gráfico 3: Distribuição do Valor Mediano das Transações entre os Perfis\n",
    "plt.figure(figsize=(12, 6))\n",
    "sns.histplot(perfil_de_usuario_pd['ticket_mediana'], bins=50, kde=True, log_scale=True, color='purple')\n",
    "plt.title('Distribuição do Valor Mediano (Ticket) entre os Perfis (Escala Log)', fontsize=16)\n",
    "plt.xlabel('Valor Mediano da Transação (R$) - Escala Log', fontsize=12)\n",
    "plt.ylabel('Contagem de Perfis', fontsize=12)\n",
    "plt.show()"
   ]
  },
  {
   "cell_type": "markdown",
   "metadata": {
    "application/vnd.databricks.v1+cell": {
     "cellMetadata": {
      "byteLimit": 2048000,
      "rowLimit": 10000
     },
     "inputWidgets": {},
     "nuid": "91fdac8f-1d30-4299-9c0d-0a26ac10d1a8",
     "showTitle": false,
     "tableResultSettingsMap": {},
     "title": ""
    }
   },
   "source": [
    "## Passo 3: Cálculo do Volume de Transações a Gerar\n",
    "\n",
    "Antes de gerar os dados, precisamos definir quantas transações o script deve criar para o município ao longo de um ano.  \n",
    "Usamos uma fórmula baseada nos dados estatísticos mensais:\n",
    "\n",
    "### Fórmula Matemática\n",
    "\n",
    "<div align=\"center\">\n",
    "\n",
    "$$\n",
    "V_{\\text{ano}} = (\\overline{T}_{\\text{mensal}} \\times 12) \\times P_{\\text{amostra}}\n",
    "$$\n",
    "\n",
    "</div>\n",
    "\n",
    "---\n",
    "\n",
    "### Sumário dos Termos Matemáticos\n",
    "\n",
    " Termo                | Explicação para Leigos                                                                                   |\n",
    "----------------------|---------------------------------------------------------------------------------------------------------|\n",
    " **V<sub>ano</sub>**            | Volume anual total de transações a ser gerado para o município.                                         |\n",
    " **T̅<sub>mensal</sub>**   | Média do número de transações de pagadores por mês. O traço (T̅) indica \"média\" dos valores.     |\n",
    " **P<sub>amostra</sub>**        | Percentual da amostra (DATA_SAMPLE_PERCENTAGE), ou seja, a fração dos dados reais que queremos simular. |\n",
    "\n",
    "**Como funciona:**  \n",
    "Multiplicamos a média mensal (**T̅<sub>mensal</sub>**) por 12 (meses do ano) para obter o total anual.  \n",
    "Depois, aplicamos o percentual da amostra (**P<sub>amostra</sub>**) para ajustar o volume ao tamanho desejado.\n",
    "\n",
    "---\n",
    "\n",
    "A célula de código abaixo implementa esta fórmula."
   ]
  },
  {
   "cell_type": "code",
   "execution_count": 0,
   "metadata": {
    "application/vnd.databricks.v1+cell": {
     "cellMetadata": {
      "byteLimit": 2048000,
      "rowLimit": 10000
     },
     "inputWidgets": {},
     "nuid": "7d8e5ea2-15c7-4d48-b692-b67474c84910",
     "showTitle": false,
     "tableResultSettingsMap": {},
     "title": ""
    }
   },
   "outputs": [],
   "source": [
    "# T_barra_mensal\n",
    "volume_medio_mensal_municipio = relacao_pag_rec_pd['total_tx_pagador'].mean()\n",
    "\n",
    "# V_ano\n",
    "volume_total_municipio_ano = (volume_medio_mensal_municipio * 12) * DATA_SAMPLE_PERCENTAGE\n",
    "\n",
    "# Este é o volume de referência da região, usado para calcular as proporções\n",
    "volume_total_regional_dos_perfis = perfil_de_usuario_pd['total_quantidade'].sum()\n",
    "\n",
    "print(f\"[CÁLCULO] Média de transações mensais em SP (T_mensal_media): {int(volume_medio_mensal_municipio):,}\")\n",
    "print(f\"[CÁLCULO] Volume total a ser gerado para SP (V_ano): {int(volume_total_municipio_ano):,}\")\n",
    "print(f\"[CÁLCULO] Volume total de referência de todos os perfis da Região Sudeste: {int(volume_total_regional_dos_perfis):,}\")"
   ]
  },
  {
   "cell_type": "markdown",
   "metadata": {
    "application/vnd.databricks.v1+cell": {
     "cellMetadata": {
      "byteLimit": 2048000,
      "rowLimit": 10000
     },
     "inputWidgets": {},
     "nuid": "ee78f9db-37c7-4d01-a4fd-76a3836fb7c3",
     "showTitle": false,
     "tableResultSettingsMap": {},
     "title": ""
    }
   },
   "source": [
    "## Passo 4: Geração da População Sintética\n",
    "\n",
    "Com base no volume de transações, estimamos um número proporcional de clientes sintéticos que realizarão essas transações.\n",
    "\n",
    "---\n",
    "\n",
    "### Fórmulas Matemáticas\n",
    "\n",
    "<div align=\"center\">\n",
    "\n",
    "$$\n",
    "N_{\\text{clientes}} = \\left\\lfloor \\frac{\\overline{T}_{\\text{mensal}}}{F_{\\text{escala}}} \\times P_{\\text{amostra}} \\right\\rfloor \\\\\n",
    "N_{\\text{PF}} = \\lfloor N_{\\text{clientes}} \\times \\%_{\\text{PF}} \\rfloor \\\\\n",
    "N_{\\text{PJ}} = N_{\\text{clientes}} - N_{\\text{PF}}\n",
    "$$\n",
    "\n",
    "</div>\n",
    "\n",
    "---\n",
    "\n",
    "### Sumário dos Termos Matemáticos\n",
    "\n",
    " Termo                | Explicação para Leigos                                                                                   |\n",
    "----------------------|---------------------------------------------------------------------------------------------------------|\n",
    " **N<sub>clientes</sub>**        | Número total de clientes a gerar.                                                              |\n",
    " **F<sub>escala</sub>**          | POPULATION_SCALING_FACTOR, fator de escala para estimar clientes a partir do volume de transações. |\n",
    " **P<sub>amostra</sub>**         | Percentual da amostra (DATA_SAMPLE_PERCENTAGE), fração dos dados reais que queremos simular.   |\n",
    " **%<sub>PF</sub>**              | Proporção de transações de Pessoa Física (PF) no município.                                   |\n",
    " **N<sub>PF</sub>**              | Número de clientes Pessoa Física a gerar.                                                     |\n",
    " **N<sub>PJ</sub>**              | Número de clientes Pessoa Jurídica a gerar.                                                   |\n",
    "\n",
    "**Como funciona:**  \n",
    "Calculamos o número total de clientes a partir do volume médio mensal, ajustando pelo fator de escala e percentual de amostra.  \n",
    "Depois, dividimos esse total entre PF e PJ conforme a proporção observada no município."
   ]
  },
  {
   "cell_type": "code",
   "execution_count": 0,
   "metadata": {
    "application/vnd.databricks.v1+cell": {
     "cellMetadata": {
      "byteLimit": 2048000,
      "rowLimit": 10000
     },
     "inputWidgets": {},
     "nuid": "e699d17d-4649-47ac-86bd-a40898ed50d3",
     "showTitle": false,
     "tableResultSettingsMap": {},
     "title": ""
    }
   },
   "outputs": [],
   "source": [
    "# T_barra_mensal\n",
    "total_pagadores_tx_medio = relacao_pag_rec_pd['total_tx_pagador'].mean()\n",
    "total_pagadores_pf_medio = relacao_pag_rec_pd['total_tx_pagador_pf'].mean()\n",
    "\n",
    "# N_clientes\n",
    "num_clientes = int((total_pagadores_tx_medio / POPULATION_SCALING_FACTOR) * DATA_SAMPLE_PERCENTAGE)\n",
    "\n",
    "# %_pf\n",
    "perc_pf = total_pagadores_pf_medio / total_pagadores_tx_medio\n",
    "\n",
    "# N_PF e N_PJ\n",
    "num_clientes_pf = int(num_clientes * perc_pf)\n",
    "num_clientes_pj = num_clientes - num_clientes_pf\n",
    "\n",
    "print(f\"Com base na média de {int(total_pagadores_tx_medio):,} transações/mês, vamos gerar uma população de:\")\n",
    "print(f\" - Clientes Pessoa Física (PF): {num_clientes_pf:,}\")\n",
    "print(f\" - Clientes Pessoa Jurídica (PJ): {num_clientes_pj:,}\")\n",
    "\n",
    "# Aqui, o script principal chamaria a função `generate_base_population`."
   ]
  },
  {
   "cell_type": "markdown",
   "metadata": {
    "application/vnd.databricks.v1+cell": {
     "cellMetadata": {
      "byteLimit": 2048000,
      "rowLimit": 10000
     },
     "inputWidgets": {},
     "nuid": "9ca809ec-9fbb-4654-b5e5-073ae5f92f23",
     "showTitle": false,
     "tableResultSettingsMap": {},
     "title": ""
    }
   },
   "source": [
    "\n",
    "## Passo 5: A Lógica de Geração das Transações (Explicação Detalhada)\n",
    "\n",
    "Esta é a etapa mais crucial do processo. Após calcular o volume total de transações a serem geradas para o município (por exemplo, 10 milhões de transações para São Paulo em nossa amostra), precisamos decidir: **como serão essas transações?** Elas devem refletir a variedade e as características do mundo real.\n",
    "\n",
    "Para isso, usamos a tabela de perfis da região como um \"guia de estilos\" ou uma \"receita de bolo\".  \n",
    "A lógica se divide em duas partes fundamentais:\n",
    "\n",
    "1. **Quanto de cada ingrediente?** (Distribuição Proporcional)\n",
    "2. **Como preparar cada ingrediente?** (Geração dos Valores)\n",
    "\n",
    "---\n",
    "\n",
    "### 5.1 - Montando a \"Receita\": Distribuição Proporcional\n",
    "\n",
    "A ideia principal é fazer com que a \"mistura\" de tipos de transação no município sintético seja igual à \"mistura\" observada na região.\n",
    "\n",
    "A tabela de perfis nos mostra a popularidade de cada tipo de transação. Por exemplo, ela indica que \"**PF enviando PIX para PF com chave aleatória**\" (**Perfil A**) é muito mais comum do que \"**PJ pagando salário para PF**\" (**Perfil B**).\n",
    "\n",
    "Para aplicar isso, calculamos o \"**peso**\" ou a \"**popularidade**\" de cada perfil:\n",
    "\n",
    "<div align=\"center\">\n",
    "\n",
    "$$\n",
    "\\mathbf{W_i} = \\frac{\\mathbf{Q_i}}{\\sum_{j=1}^{P} \\mathbf{Q_j}}\n",
    "$$\n",
    "\n",
    "</div>\n",
    "\n",
    "- **Q<sub>i</sub>**: quantidade de transações do Perfil *i* na região (nosso \"ingrediente\").\n",
    "- **∑<sub>j=1</sub><sup>P</sup> Q<sub>j</sub>**: soma das quantidades de todos os perfis.\n",
    "- **W<sub>i</sub>**: proporção que o Perfil *i* representa do total (ex: 0,15 ou 15%).\n",
    "\n",
    "Depois, aplicamos essa proporção ao volume total do município:\n",
    "\n",
    "<div align=\"center\">\n",
    "\n",
    "$$\n",
    "\\mathbf{V_i} = \\lfloor \\mathbf{V_{ano}} \\times \\mathbf{W_i} \\rfloor\n",
    "$$\n",
    "\n",
    "</div>\n",
    "\n",
    "- **V<sub>ano</sub>**: volume total de transações a ser gerado (ex: 10 milhões).\n",
    "- **W<sub>i</sub>**: proporção do perfil.\n",
    "- **V<sub>i</sub>**: número de transações a serem geradas com as características do Perfil *i* (ex: $10.000.000 \\times 15\\% = 1.500.000$ transações do tipo A).\n",
    "\n",
    "---\n",
    "\n",
    "### 5.2 - Dando \"Sabor\" a Cada Ingrediente: Geração dos Valores\n",
    "\n",
    "Agora que sabemos quantas transações de cada tipo serão geradas, precisamos definir o valor monetário de cada uma. Os valores não podem ser todos iguais.\n",
    "\n",
    "Utilizamos a **Distribuição Log-Normal**, pois ela representa bem o comportamento de dados financeiros: muitas transações pequenas e poucas de valor muito alto.\n",
    "\n",
    "Para calibrar a distribuição Log-Normal para cada perfil, estimamos seus parâmetros (**μ̂** e **σ̂**) a partir das estatísticas do perfil:\n",
    "\n",
    "<div align=\"center\">\n",
    "\n",
    "$$\n",
    "\\mathbf{\\hat{\\mu}} = \\ln(\\text{Mediana})\n",
    "$$\n",
    "\n",
    "</div>\n",
    "\n",
    "- **μ̂**: define o \"centro\" da distribuição.\n",
    "- A mediana é usada por ser mais robusta a valores extremos do que a média.\n",
    "\n",
    "<div align=\"center\">\n",
    "\n",
    "$$\n",
    "\\mathbf{\\hat{\\sigma}} = \\frac{\\ln(P_{75}) - \\ln(P_{25})}{1.349}\n",
    "$$\n",
    "\n",
    "</div>\n",
    "\n",
    "- **ln(P<sub>75</sub>) - ln(P<sub>25</sub>)**: intervalo interquartil em escala logarítmica, medindo a dispersão dos 50% centrais dos dados.\n",
    "- Dividimos por **1,349** pois, numa distribuição normal, essa é a distância entre os percentis 25 e 75 em desvios-padrão.\n",
    "\n",
    "Com **μ̂** e **σ̂** calculados, temos uma \"máquina\" calibrada para gerar valores realistas para cada perfil de transação."
   ]
  },
  {
   "cell_type": "markdown",
   "metadata": {
    "application/vnd.databricks.v1+cell": {
     "cellMetadata": {
      "byteLimit": 2048000,
      "rowLimit": 10000
     },
     "inputWidgets": {},
     "nuid": "a1c3c1e6-8c98-4994-bf34-4db47cf78166",
     "showTitle": false,
     "tableResultSettingsMap": {},
     "title": ""
    }
   },
   "source": [
    "## Passo 6: Análise dos Dados Sintéticos Gerados (Simulação)\n",
    "\n",
    "A execução completa da geração pode demorar. Para validar a lógica descrita no Passo 5, vamos simular um DataFrame de saída com **50.000 linhas** e analisar suas características.\n",
    "\n",
    "Os gráficos abaixo são o que você usaria para verificar a qualidade do seu dataset final."
   ]
  },
  {
   "cell_type": "code",
   "execution_count": 0,
   "metadata": {
    "application/vnd.databricks.v1+cell": {
     "cellMetadata": {
      "byteLimit": 2048000,
      "rowLimit": 10000
     },
     "inputWidgets": {},
     "nuid": "98480b98-18b4-4340-8bd7-14900e6a1461",
     "showTitle": false,
     "tableResultSettingsMap": {},
     "title": ""
    }
   },
   "outputs": [],
   "source": [
    "# ==============================================================================\n",
    "# PASSO 1: SIMULAÇÃO DE DADOS APRIMORADA\n",
    "# Geramos um dataset com \"assinaturas\" mais realistas para cada tipo de fraude.\n",
    "# ==============================================================================\n",
    "import matplotlib.pyplot as plt\n",
    "import seaborn as sns\n",
    "from faker import Faker\n",
    "from datetime import datetime\n",
    "import numpy as np\n",
    "import pandas as pd\n",
    "from scipy.stats import lognorm\n",
    "\n",
    "# Inicialização\n",
    "fake = Faker('pt_BR')\n",
    "num_simulado = 200000\n",
    "\n",
    "# 1. Definir os estados e probabilidades\n",
    "estados = ['LEGITIMA', 'FRAUDE', 'ANOMALIA_BENIGNA']\n",
    "probabilidades_estado = [0.95, 0.04, 0.01]\n",
    "estado_transacao = np.random.choice(estados, size=num_simulado, p=probabilidades_estado)\n",
    "\n",
    "# 2. Definir os tipos de fraude e suas características\n",
    "tipos_de_fraude_reais = ['VALOR_ATIPICO', 'TOMADA_DE_CONTA', 'ATAQUE_DE_FREQUENCIA', 'ENGENHARIA_SOCIAL']\n",
    "\n",
    "# 3. Construir as colunas de forma consistente e com mais detalhes\n",
    "is_fraud_col, fraud_type_col, valor_col, data_col = [], [], [], []\n",
    "\n",
    "for estado in estado_transacao:\n",
    "    data_gerada = fake.date_time_between(start_date=datetime(2024,1,1), end_date=datetime(2024,12,31))\n",
    "    data_col.append(data_gerada)\n",
    "    \n",
    "    if estado == 'LEGITIMA':\n",
    "        is_fraud_col.append(0)\n",
    "        fraud_type_col.append('LEGITIMA')\n",
    "        valor_col.append(np.clip(lognorm.rvs(s=0.8, scale=np.exp(4)), 0.01, 1000))\n",
    "    elif estado == 'ANOMALIA_BENIGNA':\n",
    "        is_fraud_col.append(0)\n",
    "        fraud_type_col.append('ANOMALIA_BENIGNA')\n",
    "        valor_col.append(np.clip(lognorm.rvs(s=0.5, scale=np.exp(8)), 1000, 20000))\n",
    "    elif estado == 'FRAUDE':\n",
    "        is_fraud_col.append(1)\n",
    "        tipo_fraude_especifico = np.random.choice(tipos_de_fraude_reais)\n",
    "        fraud_type_col.append(tipo_fraude_especifico)\n",
    "        \n",
    "        if tipo_fraude_especifico == 'VALOR_ATIPICO':\n",
    "            valor_col.append(random.uniform(20000, 80000))\n",
    "        elif tipo_fraude_especifico == 'TOMADA_DE_CONTA':\n",
    "            valor_col.append(random.uniform(1000, 5000))\n",
    "            data_col[-1] = data_gerada.replace(hour=random.randint(1, 4))\n",
    "        elif tipo_fraude_especifico == 'ATAQUE_DE_FREQUENCIA':\n",
    "            valor_col.append(random.uniform(10, 100))\n",
    "        elif tipo_fraude_especifico == 'ENGENHARIA_SOCIAL':\n",
    "            valor_col.append(random.uniform(500, 3000))\n",
    "\n",
    "# 4. Criar o DataFrame final e colunas derivadas\n",
    "transacoes_pd = pd.DataFrame({\n",
    "    'valor': valor_col,\n",
    "    'data': data_col,\n",
    "    'is_fraud': is_fraud_col,\n",
    "    'fraud_type': fraud_type_col\n",
    "})\n",
    "transacoes_pd['hora'] = transacoes_pd['data'].dt.hour\n",
    "transacoes_pd['mes'] = transacoes_pd['data'].dt.month\n",
    "transacoes_pd['dia_da_semana'] = transacoes_pd['data'].dt.day_name()\n",
    "\n",
    "print(f\"DataFrame aprimorado gerado com {len(transacoes_pd)} linhas.\")\n",
    "print(\"Dados de exemplo:\")\n",
    "print(transacoes_pd.head())"
   ]
  },
  {
   "cell_type": "code",
   "execution_count": 0,
   "metadata": {
    "application/vnd.databricks.v1+cell": {
     "cellMetadata": {
      "byteLimit": 2048000,
      "rowLimit": 10000
     },
     "inputWidgets": {},
     "nuid": "6e6be38d-3771-467c-bd4e-ea29529c79d0",
     "showTitle": false,
     "tableResultSettingsMap": {},
     "title": ""
    }
   },
   "outputs": [],
   "source": [
    "# Gráfico 1: Heatmap de Quantidade de Perfis por Finalidade e Tipo de Pagador (PF/PJ)\n",
    "plt.figure(figsize=(10, 6))\n",
    "heatmap_data = perfil_de_usuario_pd.pivot_table(\n",
    "    index='finalidade_nome', \n",
    "    columns='pag_pfpj_id', \n",
    "    values='total_quantidade', \n",
    "    aggfunc='sum', \n",
    "    fill_value=0\n",
    ")\n",
    "# Rename columns safely\n",
    "column_map = {1: 'PF', 2: 'PJ'}\n",
    "heatmap_data = heatmap_data.rename(columns=column_map)\n",
    "sns.heatmap(heatmap_data, annot=True, fmt='.0f', cmap='crest')\n",
    "plt.title('Quantidade de Perfis por Finalidade e Tipo de Pagador', fontsize=16)\n",
    "plt.xlabel('Tipo de Pagador', fontsize=12)\n",
    "plt.ylabel('Finalidade', fontsize=12)\n",
    "plt.show()\n",
    "\n",
    "# Gráfico 2: Boxplot do Ticket Mediano por Finalidade\n",
    "plt.figure(figsize=(12, 6))\n",
    "sns.boxplot(data=perfil_de_usuario_pd, x='finalidade_nome', y='ticket_mediana', palette='viridis')\n",
    "plt.yscale('log')\n",
    "plt.title('Distribuição do Ticket Mediano por Finalidade (Escala Log)', fontsize=16)\n",
    "plt.xlabel('Finalidade', fontsize=12)\n",
    "plt.ylabel('Ticket Mediano (R$) - Log', fontsize=12)\n",
    "plt.xticks(rotation=30, ha='right')\n",
    "plt.grid(True, which=\"both\", ls=\"--\")\n",
    "plt.show()\n",
    "\n",
    "# Gráfico 3: Distribuição de Idade dos Pagadores por Tipo de Pagador\n",
    "plt.figure(figsize=(12, 6))\n",
    "sns.histplot(data=perfil_de_usuario_pd, x='pag_idade', hue='pag_pfpj_id', bins=30, palette='crest', multiple='stack')\n",
    "plt.title('Distribuição de Idade dos Pagadores por Tipo de Pagador', fontsize=16)\n",
    "plt.xlabel('Idade do Pagador', fontsize=12)\n",
    "plt.ylabel('Contagem de Perfis', fontsize=12)\n",
    "plt.legend(title='Tipo de Pagador', labels=['PF', 'PJ'])\n",
    "plt.show()"
   ]
  },
  {
   "cell_type": "markdown",
   "metadata": {
    "application/vnd.databricks.v1+cell": {
     "cellMetadata": {},
     "inputWidgets": {},
     "nuid": "47fb59b9-ea79-4efd-90ea-3cffa3718381",
     "showTitle": false,
     "tableResultSettingsMap": {},
     "title": ""
    }
   },
   "source": [
    "\n",
    "# Análise 1: Distribuição dos Tipos de Fraude (com Nomes Técnicos)\n",
    "\n",
    "Aqui filtramos apenas as fraudes confirmadas.  \n",
    "Antes de plotar, mapeamos os nomes internos do script para seus nomes técnicos correspondentes para garantir que o gráfico seja claro e profissional."
   ]
  },
  {
   "cell_type": "code",
   "execution_count": 0,
   "metadata": {
    "application/vnd.databricks.v1+cell": {
     "cellMetadata": {
      "byteLimit": 2048000,
      "rowLimit": 10000
     },
     "inputWidgets": {},
     "nuid": "6677a59e-0128-443b-a6ca-1ad3ae5b4da9",
     "showTitle": false,
     "tableResultSettingsMap": {},
     "title": ""
    }
   },
   "outputs": [],
   "source": [
    "# Filtrar APENAS as transações que são fraudes confirmadas\n",
    "fraudes_confirmadas_df = transacoes_pd[transacoes_pd['is_fraud'] == 1].copy()\n",
    "\n",
    "# --- NOVO: Mapeamento para nomes técnicos ---\n",
    "nomes_tecnicos = {\n",
    "    'VALOR_ATIPICO': 'Valor Atípico (High-Value Anomaly)',\n",
    "    'TOMADA_DE_CONTA': 'Tomada de Conta (ATO)',\n",
    "    'ATAQUE_DE_FREQUENCIA': 'Ataque de Frequência (Smurfing)',\n",
    "    'ENGENHARIA_SOCIAL': 'Eng. Social (Confidence Scam)'\n",
    "}\n",
    "fraudes_confirmadas_df['fraud_type'] = fraudes_confirmadas_df['fraud_type'].map(nomes_tecnicos)\n",
    "# --- FIM DA ALTERAÇÃO ---\n",
    "\n",
    "fraud_type_counts = fraudes_confirmadas_df['fraud_type'].value_counts()\n",
    "\n",
    "# Criar o gráfico de rosca\n",
    "plt.figure(figsize=(10, 8))\n",
    "colors = sns.color_palette('Reds_r', len(fraud_type_counts))\n",
    "\n",
    "plt.pie(fraud_type_counts, labels=fraud_type_counts.index, \n",
    "        autopct=lambda p: '{:.1f}%\\n({:,.0f})'.format(p, p * sum(fraud_type_counts)/100),\n",
    "        startangle=140, colors=colors,\n",
    "        wedgeprops={'width': 0.4, 'edgecolor': 'white', 'linewidth': 2},\n",
    "        textprops={'fontsize': 12})\n",
    "\n",
    "plt.title('Composição dos Tipos de Fraude Confirmada', fontsize=16, pad=20)\n",
    "plt.show()"
   ]
  },
  {
   "cell_type": "markdown",
   "metadata": {
    "application/vnd.databricks.v1+cell": {
     "cellMetadata": {},
     "inputWidgets": {},
     "nuid": "4fc7c692-aeda-4c8c-8108-832694987193",
     "showTitle": false,
     "tableResultSettingsMap": {},
     "title": ""
    }
   },
   "source": [
    "## Análise 2: Assinatura de Valor por Tipo de Fraude\n",
    "\n",
    "O Box Plot em escala logarítmica é ideal para comparar a distribuição de valores entre os diferentes tipos de fraude, agora identificados com seus nomes técnicos."
   ]
  },
  {
   "cell_type": "code",
   "execution_count": 0,
   "metadata": {
    "application/vnd.databricks.v1+cell": {
     "cellMetadata": {
      "byteLimit": 2048000,
      "rowLimit": 10000
     },
     "inputWidgets": {},
     "nuid": "d0975356-12b7-4c45-86a5-5afeacddd9a8",
     "showTitle": false,
     "tableResultSettingsMap": {},
     "title": ""
    }
   },
   "outputs": [],
   "source": [
    "plt.figure(figsize=(14, 8))\n",
    "sns.boxplot(data=fraudes_confirmadas_df, x='fraud_type', y='valor', palette='viridis')\n",
    "plt.yscale('log')\n",
    "plt.title('Distribuição de Valor por Tipo de Fraude (Escala Log)', fontsize=16)\n",
    "plt.xlabel('Tipo de Fraude', fontsize=12)\n",
    "plt.ylabel('Valor da Transação (R$) - Log', fontsize=12)\n",
    "# Rotacionar os labels do eixo X para evitar sobreposição, já que os nomes são mais longos\n",
    "plt.xticks(rotation=15, ha='right')\n",
    "plt.grid(True, which=\"both\", ls=\"--\")\n",
    "plt.show()"
   ]
  },
  {
   "cell_type": "markdown",
   "metadata": {
    "application/vnd.databricks.v1+cell": {
     "cellMetadata": {},
     "inputWidgets": {},
     "nuid": "d9c34968-aa3f-4f8a-86af-8af4af4d8be6",
     "showTitle": false,
     "tableResultSettingsMap": {},
     "title": ""
    }
   },
   "source": [
    "# Análise 3: O Horário do Crime\n",
    " O gráfico de densidade (KDE) nos permite comparar os padrões de atividade ao longo das 24 horas do dia.\n",
    "A atividade anômala na madrugada, característica de Account Takeover (ATO), deve se destacar claramente."
   ]
  },
  {
   "cell_type": "code",
   "execution_count": 0,
   "metadata": {
    "application/vnd.databricks.v1+cell": {
     "cellMetadata": {
      "byteLimit": 2048000,
      "rowLimit": 10000
     },
     "inputWidgets": {},
     "nuid": "702b2b05-5f18-471e-a18e-cca2591b19d9",
     "showTitle": false,
     "tableResultSettingsMap": {},
     "title": ""
    }
   },
   "outputs": [],
   "source": [
    "plt.figure(figsize=(14, 7))\n",
    "sns.kdeplot(data=transacoes_pd[transacoes_pd['is_fraud'] == 0], x='hora', fill=True, label='Legítima', color='skyblue', common_norm=False, alpha=0.5)\n",
    "sns.kdeplot(data=transacoes_pd[transacoes_pd['is_fraud'] == 1], x='hora', fill=True, label='Fraude', color='salmon', common_norm=False, alpha=0.6)\n",
    "plt.title('Distribuição de Transações por Hora do Dia', fontsize=16)\n",
    "plt.xlabel('Hora do Dia', fontsize=12)\n",
    "plt.ylabel('Densidade de Ocorrências', fontsize=12)\n",
    "plt.xticks(range(0, 24))\n",
    "plt.legend(fontsize=12)\n",
    "plt.grid(axis='x')\n",
    "plt.show()"
   ]
  },
  {
   "cell_type": "markdown",
   "metadata": {
    "application/vnd.databricks.v1+cell": {
     "cellMetadata": {},
     "inputWidgets": {},
     "nuid": "d0f75f06-8309-4b5f-a6c1-90abbdbec2c5",
     "showTitle": false,
     "tableResultSettingsMap": {},
     "title": ""
    }
   },
   "source": [
    "# Análise 4: O Dia Preferido dos Fraudadores\n",
    "Será que a incidência de fraudes varia significativamente ao longo da semana?"
   ]
  },
  {
   "cell_type": "code",
   "execution_count": 0,
   "metadata": {
    "application/vnd.databricks.v1+cell": {
     "cellMetadata": {
      "byteLimit": 2048000,
      "rowLimit": 10000
     },
     "inputWidgets": {},
     "nuid": "0737dade-34dc-441f-afaa-8c9403250d6c",
     "showTitle": false,
     "tableResultSettingsMap": {},
     "title": ""
    }
   },
   "outputs": [],
   "source": [
    "# Ordenar os dias da semana corretamente\n",
    "dias_ordenados = ['Monday', 'Tuesday', 'Wednesday', 'Thursday', 'Friday', 'Saturday', 'Sunday']\n",
    "nomes_dias_pt = {'Monday': 'Segunda', 'Tuesday': 'Terça', 'Wednesday': 'Quarta', 'Thursday': 'Quinta', 'Friday': 'Sexta', 'Saturday': 'Sábado', 'Sunday': 'Domingo'}\n",
    "\n",
    "fraudes_confirmadas_df['dia_da_semana'] = pd.Categorical(fraudes_confirmadas_df['dia_da_semana'], categories=dias_ordenados, ordered=True)\n",
    "contagem_dias = fraudes_confirmadas_df['dia_da_semana'].value_counts().sort_index()\n",
    "contagem_dias.index = contagem_dias.index.map(nomes_dias_pt)\n",
    "\n",
    "plt.figure(figsize=(14, 7))\n",
    "sns.barplot(x=contagem_dias.index, y=contagem_dias.values, palette='plasma')\n",
    "plt.title('Contagem de Fraudes por Dia da Semana', fontsize=16)\n",
    "plt.xlabel('Dia da Semana', fontsize=12)\n",
    "plt.ylabel('Número de Fraudes', fontsize=12)\n",
    "plt.show()"
   ]
  },
  {
   "cell_type": "markdown",
   "metadata": {
    "application/vnd.databricks.v1+cell": {
     "cellMetadata": {},
     "inputWidgets": {},
     "nuid": "917183a6-c802-41f7-b330-48c4f0d37572",
     "showTitle": false,
     "tableResultSettingsMap": {},
     "title": ""
    }
   },
   "source": [
    "# Análise 5: Correlação entre Valor e Hora da Fraude\n",
    "Finalmente, o gráfico de dispersão nos permite visualizar a relação entre a hora e o valor para cada tipo de fraude, agora com uma legenda clara usando a terminologia técnica."
   ]
  },
  {
   "cell_type": "code",
   "execution_count": 0,
   "metadata": {
    "application/vnd.databricks.v1+cell": {
     "cellMetadata": {
      "byteLimit": 2048000,
      "rowLimit": 10000
     },
     "inputWidgets": {},
     "nuid": "c3b9c7fe-316d-4e8c-b142-f08ec30eb63a",
     "showTitle": false,
     "tableResultSettingsMap": {},
     "title": ""
    }
   },
   "outputs": [],
   "source": [
    "plt.figure(figsize=(16, 9))\n",
    "sns.scatterplot(data=fraudes_confirmadas_df, x='hora', y='valor', hue='fraud_type', palette='bright', s=50, alpha=0.7)\n",
    "plt.yscale('log')\n",
    "plt.title('Relação entre Hora do Dia e Valor da Fraude', fontsize=16)\n",
    "plt.xlabel('Hora do Dia', fontsize=12)\n",
    "plt.ylabel('Valor da Transação (R$) - Log', fontsize=12)\n",
    "plt.xticks(range(0, 24))\n",
    "plt.grid(True, which=\"both\", ls=\"--\")\n",
    "plt.legend(title='Tipo de Fraude', fontsize=11)\n",
    "plt.show()"
   ]
  },
  {
   "cell_type": "code",
   "execution_count": 0,
   "metadata": {
    "application/vnd.databricks.v1+cell": {
     "cellMetadata": {},
     "inputWidgets": {},
     "nuid": "01675a06-af98-416f-9550-7651e764929b",
     "showTitle": false,
     "tableResultSettingsMap": {},
     "title": ""
    }
   },
   "outputs": [],
   "source": []
  }
 ],
 "metadata": {
  "application/vnd.databricks.v1+notebook": {
   "computePreferences": null,
   "dashboards": [],
   "environmentMetadata": {
    "base_environment": "",
    "environment_version": "4"
   },
   "inputWidgetPreferences": null,
   "language": "python",
   "notebookMetadata": {
    "pythonIndentUnit": 4
   },
   "notebookName": "Untitled Notebook 2025-10-16 23_13_55",
   "widgets": {}
  },
  "language_info": {
   "name": "python"
  }
 },
 "nbformat": 4,
 "nbformat_minor": 0
}
